{
 "cells": [
  {
   "cell_type": "code",
   "execution_count": 9,
   "metadata": {},
   "outputs": [],
   "source": [
    "import json\n",
    "import requests\n",
    "\n",
    "\n",
    "video = {\n",
    "    # \"path\": \"/workspaces/aana_sdk/aana/tests/files/videos/physicsworks.webm\"\n",
    "    # \"url\": \"https://www.youtube.com/watch?v=yModCU1OVHY\",\n",
    "    # \"media_id\": \"yModCU1OVHY\",\n",
    "    # \"url\": \"https://www.youtube.com/watch?v=77ZF50ve6rs\",\n",
    "    # \"media_id\": \"77ZF50ve6rs\",\n",
    "    \"url\": \"https://www.youtube.com/watch?v=wxN1T1uxQ2g\",\n",
    "    \"media_id\": \"wxN1T1uxQ2g\",\n",
    "}"
   ]
  },
  {
   "cell_type": "code",
   "execution_count": null,
   "metadata": {},
   "outputs": [],
   "source": []
  },
  {
   "cell_type": "code",
   "execution_count": 10,
   "metadata": {},
   "outputs": [
    {
     "name": "stdout",
     "output_type": "stream",
     "text": [
      "b'{\"timestamps\":[0.0,3.003000020980835,6.631625175476074,8.55020809173584,10.927583694458008,12.512499809265137,14.013999938964844,16.80845832824707],\"captions\":[\"a close up of a circle with a circle in the center\",\"a picture of a person on a skateboard\",\"a woman in an office setting with papers and papers\",\"three people sitting at a desk with papers and papers\",\"a2a logo design\",\"a woman standing in front of a desk full of papers\",\"a woman sitting at a table with a laptop and a tv\",\"a woman and two men standing in front of a washing machine\"]}'\n",
      "b'{\"transcription\":{\"text\":\" This is Wang. This is Wang. Mrs. Wang, are you with us? I am paying attention. Now you may only see a pile of receipts, but I see a story. I can see where this story is going. It does not look good. What\\'s happening? Evelyn, I\\'m not your husband. I\\'m another version of Wang from another universe. I\\'m here because we need your help. I\\'m very busy today. I don\\'t have time to help you. Across the multiverse, I\\'ve seen thousands of Evelyn\\'s. You can access all of their memories, their emotions, even their skills. There\\'s a great evil spreading throughout the multiverse. And you may be your only chance of stopping it. Don\\'t make me fight you. I am really good. I don\\'t believe you. Wow, that looks really good. The universe is so much bigger than you realize. Of all the places I could be... I just want to take a share with you. Remember our mission. Consider the fate of every single world of our infinite multiverse. There is no way I am the Evelyn you are looking for. Every rejection, every disappointment has led you here. To this moment. Don\\'t let anything distract you from it.\"},\"segments\":[{\"text\":\" This is Wang. This is Wang.\",\"time_interval\":{\"start\":0.0,\"end\":6.0},\"confidence\":0.82142737293191,\"no_speech_confidence\":0.256591796875,\"words\":[]},{\"text\":\" Mrs. Wang, are you with us?\",\"time_interval\":{\"start\":6.0,\"end\":8.0},\"confidence\":0.82142737293191,\"no_speech_confidence\":0.256591796875,\"words\":[]},{\"text\":\" I am paying attention.\",\"time_interval\":{\"start\":8.0,\"end\":10.0},\"confidence\":0.82142737293191,\"no_speech_confidence\":0.256591796875,\"words\":[]},{\"text\":\" Now you may only see a pile of receipts, but I see a story.\",\"time_interval\":{\"start\":12.0,\"end\":16.0},\"confidence\":0.82142737293191,\"no_speech_confidence\":0.256591796875,\"words\":[]},{\"text\":\" I can see where this story is going.\",\"time_interval\":{\"start\":18.0,\"end\":21.0},\"confidence\":0.82142737293191,\"no_speech_confidence\":0.256591796875,\"words\":[]},{\"text\":\" It does not look good.\",\"time_interval\":{\"start\":24.0,\"end\":28.0},\"confidence\":0.82142737293191,\"no_speech_confidence\":0.256591796875,\"words\":[]},{\"text\":\" What\\'s happening?\",\"time_interval\":{\"start\":31.0,\"end\":38.0},\"confidence\":0.8167878728164416,\"no_speech_confidence\":0.0030879974365234375,\"words\":[]},{\"text\":\" Evelyn, I\\'m not your husband. I\\'m another version of Wang from another universe.\",\"time_interval\":{\"start\":41.0,\"end\":46.0},\"confidence\":0.8167878728164416,\"no_speech_confidence\":0.0030879974365234375,\"words\":[]},{\"text\":\" I\\'m here because we need your help.\",\"time_interval\":{\"start\":46.0,\"end\":48.0},\"confidence\":0.8167878728164416,\"no_speech_confidence\":0.0030879974365234375,\"words\":[]},{\"text\":\" I\\'m very busy today. I don\\'t have time to help you.\",\"time_interval\":{\"start\":49.0,\"end\":52.0},\"confidence\":0.8167878728164416,\"no_speech_confidence\":0.0030879974365234375,\"words\":[]},{\"text\":\" Across the multiverse, I\\'ve seen thousands of Evelyn\\'s.\",\"time_interval\":{\"start\":53.0,\"end\":58.0},\"confidence\":0.8167878728164416,\"no_speech_confidence\":0.0030879974365234375,\"words\":[]},{\"text\":\" You can access all of their memories, their emotions, even their skills.\",\"time_interval\":{\"start\":59.0,\"end\":65.0},\"confidence\":0.8514057478417972,\"no_speech_confidence\":0.005847930908203125,\"words\":[]},{\"text\":\" There\\'s a great evil spreading throughout the multiverse.\",\"time_interval\":{\"start\":67.0,\"end\":70.0},\"confidence\":0.8514057478417972,\"no_speech_confidence\":0.005847930908203125,\"words\":[]},{\"text\":\" And you may be your only chance of stopping it.\",\"time_interval\":{\"start\":72.0,\"end\":78.0},\"confidence\":0.8514057478417972,\"no_speech_confidence\":0.005847930908203125,\"words\":[]},{\"text\":\" Don\\'t make me fight you. I am really good.\",\"time_interval\":{\"start\":78.0,\"end\":81.0},\"confidence\":0.8514057478417972,\"no_speech_confidence\":0.005847930908203125,\"words\":[]},{\"text\":\" I don\\'t believe you.\",\"time_interval\":{\"start\":81.0,\"end\":83.0},\"confidence\":0.8514057478417972,\"no_speech_confidence\":0.005847930908203125,\"words\":[]},{\"text\":\" Wow, that looks really good.\",\"time_interval\":{\"start\":89.0,\"end\":93.0},\"confidence\":0.7905824277642297,\"no_speech_confidence\":0.0006856918334960938,\"words\":[]},{\"text\":\" The universe is so much bigger than you realize.\",\"time_interval\":{\"start\":100.0,\"end\":108.0},\"confidence\":0.7905824277642297,\"no_speech_confidence\":0.0006856918334960938,\"words\":[]},{\"text\":\" Of all the places I could be...\",\"time_interval\":{\"start\":113.0,\"end\":115.0},\"confidence\":0.7905824277642297,\"no_speech_confidence\":0.0006856918334960938,\"words\":[]},{\"text\":\" I just want to take a share with you.\",\"time_interval\":{\"start\":118.0,\"end\":120.0},\"confidence\":0.86851118507855,\"no_speech_confidence\":0.001667022705078125,\"words\":[]},{\"text\":\" Remember our mission. Consider the fate of every single world of our infinite multiverse.\",\"time_interval\":{\"start\":122.0,\"end\":126.0},\"confidence\":0.86851118507855,\"no_speech_confidence\":0.001667022705078125,\"words\":[]},{\"text\":\" There is no way I am the Evelyn you are looking for.\",\"time_interval\":{\"start\":129.0,\"end\":132.0},\"confidence\":0.86851118507855,\"no_speech_confidence\":0.001667022705078125,\"words\":[]},{\"text\":\" Every rejection, every disappointment has led you here.\",\"time_interval\":{\"start\":134.0,\"end\":139.0},\"confidence\":0.86851118507855,\"no_speech_confidence\":0.001667022705078125,\"words\":[]},{\"text\":\" To this moment.\",\"time_interval\":{\"start\":140.0,\"end\":142.0},\"confidence\":0.86851118507855,\"no_speech_confidence\":0.001667022705078125,\"words\":[]},{\"text\":\" Don\\'t let anything distract you from it.\",\"time_interval\":{\"start\":142.0,\"end\":145.0},\"confidence\":0.7646080555649056,\"no_speech_confidence\":0.0040283203125,\"words\":[]}],\"info\":{\"language\":\"en\",\"language_confidence\":0.98291015625}}'\n",
      "b'{\"timestamps\":[17.93458366394043,19.769750595092773,20.85416603088379,21.896875381469727,23.690332412719727,25.77574920654297,26.985292434692383,29.112417221069336],\"captions\":[\"a woman is holding onto a man\\'s arm in a hallway\",\"a woman sitting in a laundry room with a washing machine\",\"a woman is standing in a room with a purple bag\",\"a woman is standing in front of a car\",\"a woman is working on a desk with papers and pens\",\"an asian woman wearing headphones in an office\",\"an older woman wearing glasses and a yellow sweater\",\"a woman is sitting on a chair in an office\"]}'\n",
      "b'{\"timestamps\":[33.03300094604492,38.455081939697266,42.54249954223633,44.127418518066406,45.17012405395508,46.4213752746582,49.04899978637695,52.051998138427734],\"captions\":[\"a woman is looking at her reflection in a mirror\",\"a woman is looking at a computer screen in an office\",\"a man and woman are sitting in an airport\",\"a man is talking to another person in a kitchen\",\"a woman is talking to a man in a kitchen\",\"a man and woman standing in a room together\",\"a man and woman in a room with shelves\",\"a person looking at a computer screen in a dark room\"]}'\n",
      "b'{\"timestamps\":[53.09470748901367,54.76304244995117,55.43037414550781,57.93287658691406,59.058998107910156,60.51879119873047,61.22783279418945,63.14641571044922],\"captions\":[\"a network of dots and lines on a black background\",\"a woman is screaming in the woods\",\"a woman with her mouth open in the woods\",\"a woman with headphones on her face\",\"a blurry image of people in a restaurant\",\"a woman in a chef hat is preparing food\",\"a woman sitting in the back seat of a car\",\"a woman with long hair and a red shirt\"]}'\n",
      "b'{\"timestamps\":[65.44037628173828,67.0252914428711,69.02729034423828,70.23683166503906,71.69662475585938,73.7403335571289,75.03329467773438,75.70062255859375],\"captions\":[\"two women are fighting in a dark room\",\"a man in a police uniform is pointing a gun\",\"a man in a plaid jacket standing in front of a group of people\",\"a man in a hat is standing next to a van\",\"a woman is holding a knife while another woman is standing next to her\",\"the man and woman are standing in a hallway\",\"a man in a police uniform is talking to a woman\",\"a woman is crying in a hallway\"]}'\n",
      "b'{\"timestamps\":[77.0770034790039,78.70362854003906,80.83074951171875,82.04029083251953,83.54179382324219,84.95987701416016,86.46137237548828,86.75333404541016],\"captions\":[\"a group of people on the stairs of an escalator\",\"a group of people on a stairway with a man holding a gun\",\"a woman holding a knife in a bathroom\",\"a woman in a pink shirt and white apron is talking to another woman\",\"a woman is standing in front of a door\",\"the man and woman are standing in a room with smoke coming out of the windows\",\"a group of people dancing in a room\",\"a group of people dancing in a room with a knife\"]}'\n",
      "b'{\"timestamps\":[87.83775329589844,89.75633239746094,92.21712493896484,93.30154418945312,94.8447494506836,98.84874725341797,99.0989990234375,102.97787475585938],\"captions\":[\"a group of people dancing in a room\",\"two people in a room with smoke coming out of the windows\",\"a man and woman are looking at something\",\"a person with tattoos on their hands is holding a hand\",\"a close up of a person\\'s feet\",\"the man in tuxedo is walking down the stairs\",\"a man in a tuxedo is walking down a hallway\",\"a woman in a red cloak standing in the woods\"]}'\n",
      "b'{\"timestamps\":[104.56278991699219,106.77333068847656,110.2768325805664,110.65220642089844,111.90345764160156,113.27983093261719,113.98887634277344,115.82404327392578],\"captions\":[\"a person with blue nails is touching a metal object\",\"a woman laying on the floor with her hands on her face\",\"a woman with a green light on her head\",\"a man in a suit and tie sitting in the audience with popcorn\",\"a man in a suit is playing with a wii remote\",\"two men in suits are fighting in an office\",\"a woman peeking over the cubicle wall in an office\",\"a woman with short hair and a white shirt\"]}'\n",
      "b'{\"timestamps\":[117.4089584350586,117.90946197509766,118.95216369628906,120.6622085571289,122.49737548828125,124.54108428955078,125.66720581054688,127.29383087158203],\"captions\":[\"a group of people in a room with a camera\",\"a woman sitting in the back seat of a car\",\"a woman in red is looking at the camera\",\"a woman is hugging another woman in front of a laundromat\",\"a woman is sitting on a bench in a room\",\"a man and woman in a kitchen talking\",\"a black background with a white clock on it\",\"a woman in a white robe and hat standing next to three men\"]}'\n",
      "b'{\"timestamps\":[129.0455780029297,131.13099670410156,132.3822479248047,134.00888061523438,135.1767120361328,135.9691619873047,137.67921447753906,139.63949584960938],\"captions\":[\"two women in traditional clothing are standing in a hallway\",\"two women in green hoods and white robes\",\"a cat in a cage with its mouth open\",\"a man is looking at something in a room\",\"a woman in a green coat standing in front of a neon sign\",\"a man in a suit and tie walking down the street at night\",\"a bald man in a white shirt and tie holding a gun\",\"a rock with eyes and a googly eye on it\"]}'\n",
      "b'{\"timestamps\":[141.14100646972656,142.55908203125,143.85203552246094,144.85304260253906,146.4796600341797,149.4409637451172,150.56707763671875,151.69320678710938],\"captions\":[\"two women are dancing in a living room\",\"a woman is standing in front of a mirror\",\"two women in traditional clothing are standing next to each other\",\"an image of two planets in space\",\"a woman with blood on her face is holding her hand to her face\",\"a woman with blood on her face and a knife\",\"a woman in a headscarf and another woman in a white dress\",\"two people wearing gas masks and hoods\"]}'\n",
      "b'{\"timestamps\":[152.8193359375,153.90374755859375,158.5333709716797],\"captions\":[\"a woman in red is standing next to a man in a red shirt\",\"everything everywhere - the video\",\"a black and white image with the words coming soon\"]}'\n",
      "b'{\"transcription_path\":\"/tmp/aana_data/transcriptions/wxN1T1uxQ2g.pkl\",\"combined_timeline\":[{\"start_time\":0.0,\"end_time\":10.0,\"audio_transcript\":\" This is Wang. This is Wang.\\\\n Mrs. Wang, are you with us?\\\\n I am paying attention.\",\"visual_caption\":\"a close up of a circle with a circle in the center\\\\na picture of a person on a skateboard\\\\na woman in an office setting with papers and papers\\\\nthree people sitting at a desk with papers and papers\"},{\"start_time\":10.0,\"end_time\":20.0,\"audio_transcript\":\" Now you may only see a pile of receipts, but I see a story.\\\\n I can see where this story is going.\",\"visual_caption\":\"a2a logo design\\\\na woman standing in front of a desk full of papers\\\\na woman sitting at a table with a laptop and a tv\\\\na woman and two men standing in front of a washing machine\\\\na woman is holding onto a man\\'s arm in a hallway\\\\na woman sitting in a laundry room with a washing machine\"},{\"start_time\":20.0,\"end_time\":30.0,\"audio_transcript\":\" It does not look good.\",\"visual_caption\":\"a woman is standing in a room with a purple bag\\\\na woman is standing in front of a car\\\\na woman is working on a desk with papers and pens\\\\nan asian woman wearing headphones in an office\\\\nan older woman wearing glasses and a yellow sweater\\\\na woman is sitting on a chair in an office\"},{\"start_time\":30.0,\"end_time\":40.0,\"audio_transcript\":\" What\\'s happening?\",\"visual_caption\":\"a woman is looking at her reflection in a mirror\\\\na woman is looking at a computer screen in an office\"},{\"start_time\":40.0,\"end_time\":50.0,\"audio_transcript\":\" Evelyn, I\\'m not your husband. I\\'m another version of Wang from another universe.\\\\n I\\'m here because we need your help.\\\\n I\\'m very busy today. I don\\'t have time to help you.\",\"visual_caption\":\"a man and woman are sitting in an airport\\\\na man is talking to another person in a kitchen\\\\na woman is talking to a man in a kitchen\\\\na man and woman standing in a room together\\\\na man and woman in a room with shelves\"},{\"start_time\":50.0,\"end_time\":60.0,\"audio_transcript\":\" Across the multiverse, I\\'ve seen thousands of Evelyn\\'s.\\\\n You can access all of their memories, their emotions, even their skills.\",\"visual_caption\":\"a person looking at a computer screen in a dark room\\\\na network of dots and lines on a black background\\\\na woman is screaming in the woods\\\\na woman with her mouth open in the woods\\\\na woman with headphones on her face\\\\na blurry image of people in a restaurant\"},{\"start_time\":60.0,\"end_time\":70.0,\"audio_transcript\":\" There\\'s a great evil spreading throughout the multiverse.\",\"visual_caption\":\"a woman in a chef hat is preparing food\\\\na woman sitting in the back seat of a car\\\\na woman with long hair and a red shirt\\\\ntwo women are fighting in a dark room\\\\na man in a police uniform is pointing a gun\\\\na man in a plaid jacket standing in front of a group of people\"},{\"start_time\":70.0,\"end_time\":80.0,\"audio_transcript\":\" And you may be your only chance of stopping it.\\\\n Don\\'t make me fight you. I am really good.\",\"visual_caption\":\"a man in a hat is standing next to a van\\\\na woman is holding a knife while another woman is standing next to her\\\\nthe man and woman are standing in a hallway\\\\na man in a police uniform is talking to a woman\\\\na woman is crying in a hallway\\\\na group of people on the stairs of an escalator\\\\na group of people on a stairway with a man holding a gun\"},{\"start_time\":80.0,\"end_time\":90.0,\"audio_transcript\":\" I don\\'t believe you.\\\\n Wow, that looks really good.\",\"visual_caption\":\"a woman holding a knife in a bathroom\\\\na woman in a pink shirt and white apron is talking to another woman\\\\na woman is standing in front of a door\\\\nthe man and woman are standing in a room with smoke coming out of the windows\\\\na group of people dancing in a room\\\\na group of people dancing in a room with a knife\\\\na group of people dancing in a room\\\\ntwo people in a room with smoke coming out of the windows\"},{\"start_time\":90.0,\"end_time\":100.0,\"audio_transcript\":\"\",\"visual_caption\":\"a man and woman are looking at something\\\\na person with tattoos on their hands is holding a hand\\\\na close up of a person\\'s feet\\\\nthe man in tuxedo is walking down the stairs\\\\na man in a tuxedo is walking down a hallway\"},{\"start_time\":100.0,\"end_time\":110.0,\"audio_transcript\":\" The universe is so much bigger than you realize.\",\"visual_caption\":\"a woman in a red cloak standing in the woods\\\\na person with blue nails is touching a metal object\\\\na woman laying on the floor with her hands on her face\"},{\"start_time\":110.0,\"end_time\":120.0,\"audio_transcript\":\" Of all the places I could be...\\\\n I just want to take a share with you.\",\"visual_caption\":\"a woman with a green light on her head\\\\na man in a suit and tie sitting in the audience with popcorn\\\\na man in a suit is playing with a wii remote\\\\ntwo men in suits are fighting in an office\\\\na woman peeking over the cubicle wall in an office\\\\na woman with short hair and a white shirt\\\\na group of people in a room with a camera\\\\na woman sitting in the back seat of a car\\\\na woman in red is looking at the camera\"},{\"start_time\":120.0,\"end_time\":130.0,\"audio_transcript\":\" Remember our mission. Consider the fate of every single world of our infinite multiverse.\\\\n There is no way I am the Evelyn you are looking for.\",\"visual_caption\":\"a woman is hugging another woman in front of a laundromat\\\\na woman is sitting on a bench in a room\\\\na man and woman in a kitchen talking\\\\na black background with a white clock on it\\\\na woman in a white robe and hat standing next to three men\\\\ntwo women in traditional clothing are standing in a hallway\"},{\"start_time\":130.0,\"end_time\":140.0,\"audio_transcript\":\" Every rejection, every disappointment has led you here.\",\"visual_caption\":\"two women in green hoods and white robes\\\\na cat in a cage with its mouth open\\\\na man is looking at something in a room\\\\na woman in a green coat standing in front of a neon sign\\\\na man in a suit and tie walking down the street at night\\\\na bald man in a white shirt and tie holding a gun\\\\na rock with eyes and a googly eye on it\"},{\"start_time\":140.0,\"end_time\":150.0,\"audio_transcript\":\" To this moment.\\\\n Don\\'t let anything distract you from it.\",\"visual_caption\":\"two women are dancing in a living room\\\\na woman is standing in front of a mirror\\\\ntwo women in traditional clothing are standing next to each other\\\\nan image of two planets in space\\\\na woman with blood on her face is holding her hand to her face\\\\na woman with blood on her face and a knife\"},{\"start_time\":150.0,\"end_time\":160.0,\"audio_transcript\":\"\",\"visual_caption\":\"a woman in a headscarf and another woman in a white dress\\\\ntwo people wearing gas masks and hoods\\\\na woman in red is standing next to a man in a red shirt\\\\neverything everywhere - the video\\\\na black and white image with the words coming soon\"}],\"combined_timeline_path\":\"/tmp/aana_data/timelines/wxN1T1uxQ2g.pkl\",\"video_metadata_path\":\"/tmp/aana_data/video_metadata/wxN1T1uxQ2g.pkl\",\"video_captions_path\":\"/tmp/aana_data/captions/wxN1T1uxQ2g.pkl\"}'\n"
     ]
    }
   ],
   "source": [
    "data = {\n",
    "    \"video_params\": {\n",
    "        \"fast_mode_enabled\": True,\n",
    "    },\n",
    "    \"video\": video,\n",
    "}\n",
    "url = \"http://127.0.0.1:8000/video/index_stream\"\n",
    "response = requests.post(url, data={\"body\": json.dumps(data)}, stream=True)\n",
    "# visuals = response.json()\n",
    "for chunk in response.iter_content(chunk_size=None):\n",
    "    print(chunk)"
   ]
  },
  {
   "cell_type": "code",
   "execution_count": null,
   "metadata": {},
   "outputs": [],
   "source": []
  },
  {
   "cell_type": "code",
   "execution_count": 11,
   "metadata": {},
   "outputs": [],
   "source": [
    "media_id = video[\"media_id\"]\n",
    "\n",
    "question = (\n",
    "    \"What is happening in this video? \"\n",
    "    \"Focus on highlighting the story, the narrative, emotionally and thematically significant aspects. \"\n",
    "    \"Do not use bulleted list in your answer.\"\n",
    ")"
   ]
  },
  {
   "cell_type": "code",
   "execution_count": 12,
   "metadata": {},
   "outputs": [
    {
     "name": "stdout",
     "output_type": "stream",
     "text": [
      "  Based on the provided video script, I can help you answer your question. The video presents a narrative that revolves around the theme of multiverse and the concept of \"Evelyn,\" who is a version of Wang from another universe. The story follows Wang as she navigates through different realities, meeting different versions of herself and encountering various obstacles.\n",
      "Here are the most relevant and aesthetically striking moments in the video:\n",
      "1. The opening scene shows a close-up of a circle with a circle in the center, followed by a picture of a person on a skateboard, a woman in an office setting with papers and papers, and three people sitting at a desk with papers and papers. These images represent the first few moments of the video, where Wang is introduced as a character who is trying to understand the concept of multiverse.\n",
      "2. The visual caption for the 20-25 time frame shows a woman in a green cloak standing in the woods, which suggests a moment of serenity and contemplation for Wang.\n",
      "3. At 50-60 seconds, the audio transcript mentions \"Evelyn, I'm not your husband. I'm another version of Wang from another universe,\" which indicates a crucial moment in the story where Wang realizes that she is not alone in her journey.\n",
      "4. The visual caption for the 60-70 time frame shows a man and woman are standing in an airport, which suggests a moment of transition for Wang as she moves from one reality to another.\n",
      "5. At 70-80 seconds, the audio transcript mentions \"There's a great evil spreading throughout the multiverse,\" which creates a sense of urgency and danger for Wang and her mission.\n",
      "6. The visual caption for the 80-90 time frame shows a woman with blue nails is touching a metal object, which suggests a moment of curiosity and exploration for Wang.\n",
      "7. At 90-100 seconds, the audio transcript mentions \"the universe is so much bigger than you realize,\" which highlights Wang's growing understanding of the vastness of the multiverse.\n",
      "8. The visual caption for the 100-110 time frame shows a woman in a white robe and hat standing next to three men, which suggests a moment of unity and collaboration for Wang.\n",
      "9. At 110-120 seconds, the audio transcript mentions \"Of all the places I could be...I just want to take a share with you,\" which suggests a moment of longing and connection for Wang.\n",
      "10. The visual caption for the 120-130 time frame shows a woman is hugging another woman in front of a laundromat, which suggests a moment of affection and compassion for Wang.\n",
      "11. At 130-140 seconds, the audio transcript mentions \"Don't let anything distract you from it,\" which highlights the significance of Wang's mission and the importance of her journey.\n",
      "12. The visual caption for the 140-150 time frame shows a rock with eyes and a googly eye on it, which suggests a moment of whimsy and creativity for Wang.\n",
      "\n",
      "Overall, the video presents a narrative that is focused on Wang's journey through the multiverse, highlighting moments of understanding, connection, and danger. The visual captions and audio transcripts work together to create a cohesive and engaging story that emphasizes the themes of identity, exploration, and the vastness of the multiverse."
     ]
    }
   ],
   "source": [
    "data = {\n",
    "    \"question\": question,\n",
    "    \"media_id\": media_id,\n",
    "    \"sampling_params\": {\n",
    "        \"temperature\": 0.9,\n",
    "        \"max_tokens\": 1024,\n",
    "    },\n",
    "}\n",
    "\n",
    "url = \"http://127.0.0.1:8000/video/chat_stream\"\n",
    "\n",
    "response = requests.post(url, data={\"body\": json.dumps(data)}, stream=True)\n",
    "text = \"\"\n",
    "for chunk in response.iter_content(chunk_size=None):\n",
    "    chunk_dict = json.loads(chunk)\n",
    "    if \"error\" in chunk_dict:\n",
    "        print(chunk_dict[\"error\"])\n",
    "        print(chunk_dict[\"message\"])\n",
    "        print(chunk_dict[\"stacktrace\"])\n",
    "        break\n",
    "    token = chunk_dict[\"completion\"]\n",
    "    text += token\n",
    "    print(token, end=\"\")"
   ]
  },
  {
   "cell_type": "code",
   "execution_count": null,
   "metadata": {},
   "outputs": [],
   "source": []
  }
 ],
 "metadata": {
  "kernelspec": {
   "display_name": "aana-vIr3-B0u-py3.10",
   "language": "python",
   "name": "python3"
  },
  "language_info": {
   "codemirror_mode": {
    "name": "ipython",
    "version": 3
   },
   "file_extension": ".py",
   "mimetype": "text/x-python",
   "name": "python",
   "nbconvert_exporter": "python",
   "pygments_lexer": "ipython3",
   "version": "3.10.13"
  }
 },
 "nbformat": 4,
 "nbformat_minor": 2
}
