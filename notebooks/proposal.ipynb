{
 "cells": [
  {
   "cell_type": "code",
   "execution_count": 1,
   "metadata": {},
   "outputs": [],
   "source": [
    "import os\n",
    "\n",
    "os.environ[\"CUDA_VISIBLE_DEVICES\"] = \"2\""
   ]
  },
  {
   "cell_type": "code",
   "execution_count": 2,
   "metadata": {},
   "outputs": [
    {
     "name": "stderr",
     "output_type": "stream",
     "text": [
      "/root/.cache/pypoetry/virtualenvs/aana-vIr3-B0u-py3.10/lib/python3.10/site-packages/tqdm/auto.py:21: TqdmWarning: IProgress not found. Please update jupyter and ipywidgets. See https://ipywidgets.readthedocs.io/en/stable/user_install.html\n",
      "  from .autonotebook import tqdm as notebook_tqdm\n",
      "2024-04-10 14:38:17,654\tINFO util.py:154 -- Missing packages: ['ipywidgets']. Run `pip install -U ipywidgets`, then restart the notebook server for rich notebook output.\n",
      "DeprecationWarning: `route_prefix` in `@serve.deployment` has been deprecated. To specify a route prefix for an application, pass it into `serve.run` instead.\n",
      "2024-04-10 14:38:21,704\tWARNING services.py:1996 -- WARNING: The object store is using /tmp instead of /dev/shm because /dev/shm has only 67108864 bytes available. This will harm performance! You may be able to free up space by deleting files in /dev/shm. If you are inside a Docker container, you can increase /dev/shm size by passing '--shm-size=10.24gb' to 'docker run' (or add it to the run_options list in a Ray cluster config). Make sure to set this to more than 30% of available RAM.\n",
      "2024-04-10 14:38:22,894\tINFO worker.py:1715 -- Started a local Ray instance. View the dashboard at \u001b[1m\u001b[32m127.0.0.1:8266 \u001b[39m\u001b[22m\n"
     ]
    },
    {
     "name": "stderr",
     "output_type": "stream",
     "text": [
      "\u001b[36m(ServeReplica:whisper_deployment_medium:WhisperDeployment pid=106059)\u001b[0m INFO 2024-04-10 14:58:15,791 whisper_deployment_medium_WhisperDeployment xpUONH e7d3e39a-8c4f-48bc-92fd-f2a94e801db1 /transcribe_video_stream replica.py:772 - TRANSCRIBE_STREAM OK 9334.5ms\n",
      "\u001b[36m(ServeReplica:RequestHandler:RequestHandler pid=108862)\u001b[0m INFO 2024-04-10 14:58:15,799 RequestHandler_RequestHandler FyvJrc e7d3e39a-8c4f-48bc-92fd-f2a94e801db1 /transcribe_video_stream replica.py:772 - __CALL__ OK 14691.8ms\n"
     ]
    }
   ],
   "source": [
    "from aana.api.sdk import AanaSDK\n",
    "from aana.api.sdk import get_deployment\n",
    "\n",
    "\n",
    "aana_sdk = AanaSDK(port=8000)"
   ]
  },
  {
   "cell_type": "code",
   "execution_count": null,
   "metadata": {},
   "outputs": [],
   "source": []
  },
  {
   "cell_type": "code",
   "execution_count": 3,
   "metadata": {},
   "outputs": [
    {
     "name": "stderr",
     "output_type": "stream",
     "text": [
      "/root/.cache/pypoetry/virtualenvs/aana-vIr3-B0u-py3.10/lib/python3.10/site-packages/pydantic/_internal/_fields.py:151: UserWarning: Field \"model_dir\" has conflict with protected namespace \"model_\".\n",
      "\n",
      "You may be able to resolve this warning by setting `model_config['protected_namespaces'] = ('settings_',)`.\n",
      "  warnings.warn(\n"
     ]
    }
   ],
   "source": [
    "from typing import TypedDict\n",
    "from aana.models.pydantic.video_input import VideoInput\n",
    "from aana.utils.video import download_video\n",
    "from aana.models.core.video import Video\n",
    "\n",
    "\n",
    "class VideoInfo(TypedDict):\n",
    "    title: str\n",
    "    description: str\n",
    "\n",
    "\n",
    "async def get_video_info(video_input: VideoInput) -> VideoInfo:\n",
    "    video: Video = download_video(video_input=video_input)\n",
    "    return {\n",
    "        \"title\": video.title,\n",
    "        \"description\": video.description,\n",
    "    }\n",
    "\n",
    "\n",
    "aana_sdk.register_endpoint(\n",
    "    name=\"get_video_info\",\n",
    "    path=\"/get_video_info\",\n",
    "    summary=\"Get video info\",\n",
    "    func=get_video_info,\n",
    ")"
   ]
  },
  {
   "cell_type": "code",
   "execution_count": 4,
   "metadata": {},
   "outputs": [
    {
     "name": "stderr",
     "output_type": "stream",
     "text": [
      "\u001b[36m(ProxyActor pid=105826)\u001b[0m INFO 2024-04-10 14:38:34,432 proxy 172.17.0.2 proxy.py:1143 - Proxy actor bb16db390f0a18f7378a74c401000000 starting on node 76d38b184291dfb1fdfcad111f3b473bcf040eba37604aa53e56252c.\n",
      "\u001b[36m(ProxyActor pid=105826)\u001b[0m INFO 2024-04-10 14:38:34,439 proxy 172.17.0.2 proxy.py:1357 - Starting HTTP server on node: 76d38b184291dfb1fdfcad111f3b473bcf040eba37604aa53e56252c listening on port 8000\n",
      "\u001b[36m(ServeController pid=105747)\u001b[0m INFO 2024-04-10 14:38:34,545 controller 105747 deployment_state.py:1547 - Deploying new version of deployment RequestHandler in application 'RequestHandler'. Setting initial target number of replicas to 1.\n",
      "\u001b[36m(ProxyActor pid=105826)\u001b[0m INFO:     Started server process [105826]\n",
      "\u001b[36m(ServeController pid=105747)\u001b[0m INFO 2024-04-10 14:38:34,649 controller 105747 deployment_state.py:1831 - Adding 1 replica to deployment RequestHandler in application 'RequestHandler'.\n",
      "\u001b[36m(ServeReplica:RequestHandler:RequestHandler pid=105903)\u001b[0m /root/.cache/pypoetry/virtualenvs/aana-vIr3-B0u-py3.10/lib/python3.10/site-packages/pydantic/_internal/_fields.py:151: UserWarning: Field \"model_dir\" has conflict with protected namespace \"model_\".\n",
      "\u001b[36m(ServeReplica:RequestHandler:RequestHandler pid=105903)\u001b[0m \n",
      "\u001b[36m(ServeReplica:RequestHandler:RequestHandler pid=105903)\u001b[0m You may be able to resolve this warning by setting `model_config['protected_namespaces'] = ('settings_',)`.\n",
      "\u001b[36m(ServeReplica:RequestHandler:RequestHandler pid=105903)\u001b[0m   warnings.warn(\n",
      "\u001b[36m(ServeController pid=105747)\u001b[0m /root/.cache/pypoetry/virtualenvs/aana-vIr3-B0u-py3.10/lib/python3.10/site-packages/pydantic/_internal/_fields.py:151: UserWarning: Field \"model_dir\" has conflict with protected namespace \"model_\".\n",
      "\u001b[36m(ServeController pid=105747)\u001b[0m \n",
      "\u001b[36m(ServeController pid=105747)\u001b[0m You may be able to resolve this warning by setting `model_config['protected_namespaces'] = ('settings_',)`.\n",
      "\u001b[36m(ServeController pid=105747)\u001b[0m   warnings.warn(\n",
      "\u001b[36m(ServeController pid=105747)\u001b[0m /root/.cache/pypoetry/virtualenvs/aana-vIr3-B0u-py3.10/lib/python3.10/site-packages/pydantic/_internal/_fields.py:151: UserWarning: Field \"model_size\" has conflict with protected namespace \"model_\".\n",
      "\u001b[36m(ServeController pid=105747)\u001b[0m \n",
      "\u001b[36m(ServeController pid=105747)\u001b[0m You may be able to resolve this warning by setting `model_config['protected_namespaces'] = ()`.\n",
      "\u001b[36m(ServeController pid=105747)\u001b[0m   warnings.warn(\n",
      "\u001b[36m(ServeController pid=105747)\u001b[0m INFO 2024-04-10 14:38:48,051 controller 105747 deployment_state.py:1547 - Deploying new version of deployment WhisperDeployment in application 'whisper_deployment_medium'. Setting initial target number of replicas to 1.\n",
      "\u001b[36m(ServeController pid=105747)\u001b[0m INFO 2024-04-10 14:38:48,156 controller 105747 deployment_state.py:1831 - Adding 1 replica to deployment WhisperDeployment in application 'whisper_deployment_medium'.\n",
      "\u001b[36m(ServeReplica:whisper_deployment_medium:WhisperDeployment pid=106059)\u001b[0m /root/.cache/pypoetry/virtualenvs/aana-vIr3-B0u-py3.10/lib/python3.10/site-packages/pydantic/_internal/_fields.py:151: UserWarning: Field \"model_dir\" has conflict with protected namespace \"model_\".\n",
      "\u001b[36m(ServeReplica:whisper_deployment_medium:WhisperDeployment pid=106059)\u001b[0m \n",
      "\u001b[36m(ServeReplica:whisper_deployment_medium:WhisperDeployment pid=106059)\u001b[0m You may be able to resolve this warning by setting `model_config['protected_namespaces'] = ('settings_',)`.\n",
      "\u001b[36m(ServeReplica:whisper_deployment_medium:WhisperDeployment pid=106059)\u001b[0m   warnings.warn(\n",
      "\u001b[36m(ServeReplica:whisper_deployment_medium:WhisperDeployment pid=106059)\u001b[0m /root/.cache/pypoetry/virtualenvs/aana-vIr3-B0u-py3.10/lib/python3.10/site-packages/pydantic/_internal/_fields.py:151: UserWarning: Field \"model_size\" has conflict with protected namespace \"model_\".\n",
      "\u001b[36m(ServeReplica:whisper_deployment_medium:WhisperDeployment pid=106059)\u001b[0m \n",
      "\u001b[36m(ServeReplica:whisper_deployment_medium:WhisperDeployment pid=106059)\u001b[0m You may be able to resolve this warning by setting `model_config['protected_namespaces'] = ()`.\n",
      "\u001b[36m(ServeReplica:whisper_deployment_medium:WhisperDeployment pid=106059)\u001b[0m   warnings.warn(\n",
      "\u001b[36m(ServeReplica:whisper_deployment_medium:WhisperDeployment pid=106059)\u001b[0m /root/.cache/pypoetry/virtualenvs/aana-vIr3-B0u-py3.10/lib/python3.10/site-packages/pydantic/main.py:314: UserWarning: Pydantic serializer warnings:\n",
      "\u001b[36m(ServeReplica:whisper_deployment_medium:WhisperDeployment pid=106059)\u001b[0m   Expected `Union[float, json-or-python[json=list[float], python=list[float]]]` but got `tuple` - serialized value may not be as expected\n",
      "\u001b[36m(ServeReplica:whisper_deployment_medium:WhisperDeployment pid=106059)\u001b[0m   return self.__pydantic_serializer__.to_python(\n",
      "\u001b[36m(ServeReplica:whisper_deployment_medium:WhisperDeployment pid=106059)\u001b[0m INFO 2024-04-10 14:39:14,063 whisper_deployment_medium_WhisperDeployment xpUONH replica.py:772 - TRANSCRIBE OK 9746.0ms\n",
      "\u001b[36m(ServeController pid=105747)\u001b[0m INFO 2024-04-10 14:39:14,274 controller 105747 deployment_state.py:1547 - Deploying new version of deployment RequestHandler in application 'RequestHandler'. Setting initial target number of replicas to 1.\n",
      "\u001b[36m(ServeController pid=105747)\u001b[0m INFO 2024-04-10 14:39:14,392 controller 105747 deployment_state.py:1710 - Stopping 1 replicas of deployment 'RequestHandler' in application 'RequestHandler' with outdated versions.\n",
      "\u001b[36m(ServeController pid=105747)\u001b[0m INFO 2024-04-10 14:39:16,518 controller 105747 deployment_state.py:2185 - Replica RequestHandler#RequestHandler#xeWzgo is stopped.\n",
      "\u001b[36m(ServeController pid=105747)\u001b[0m INFO 2024-04-10 14:39:16,519 controller 105747 deployment_state.py:1831 - Adding 1 replica to deployment RequestHandler in application 'RequestHandler'.\n",
      "\u001b[36m(ServeReplica:RequestHandler:RequestHandler pid=106359)\u001b[0m /root/.cache/pypoetry/virtualenvs/aana-vIr3-B0u-py3.10/lib/python3.10/site-packages/pydantic/_internal/_fields.py:151: UserWarning: Field \"model_dir\" has conflict with protected namespace \"model_\".\n",
      "\u001b[36m(ServeReplica:RequestHandler:RequestHandler pid=106359)\u001b[0m \n",
      "\u001b[36m(ServeReplica:RequestHandler:RequestHandler pid=106359)\u001b[0m You may be able to resolve this warning by setting `model_config['protected_namespaces'] = ('settings_',)`.\n",
      "\u001b[36m(ServeReplica:RequestHandler:RequestHandler pid=106359)\u001b[0m   warnings.warn(\n",
      "\u001b[36m(ServeReplica:RequestHandler:RequestHandler pid=106359)\u001b[0m DeprecationWarning: `route_prefix` in `@serve.deployment` has been deprecated. To specify a route prefix for an application, pass it into `serve.run` instead.\n",
      "\u001b[36m(ServeReplica:whisper_deployment_medium:WhisperDeployment pid=106059)\u001b[0m INFO 2024-04-10 14:41:40,842 whisper_deployment_medium_WhisperDeployment xpUONH replica.py:772 - TRANSCRIBE_STREAM OK 9951.4ms\n",
      "\u001b[36m(ServeController pid=105747)\u001b[0m INFO 2024-04-10 14:41:41,005 controller 105747 deployment_state.py:1547 - Deploying new version of deployment RequestHandler in application 'RequestHandler'. Setting initial target number of replicas to 1.\n",
      "\u001b[36m(ServeController pid=105747)\u001b[0m INFO 2024-04-10 14:41:41,129 controller 105747 deployment_state.py:1710 - Stopping 1 replicas of deployment 'RequestHandler' in application 'RequestHandler' with outdated versions.\n",
      "\u001b[36m(ServeController pid=105747)\u001b[0m INFO 2024-04-10 14:41:43,690 controller 105747 deployment_state.py:2185 - Replica RequestHandler#RequestHandler#BcyLgF is stopped.\n",
      "\u001b[36m(ServeController pid=105747)\u001b[0m INFO 2024-04-10 14:41:43,692 controller 105747 deployment_state.py:1831 - Adding 1 replica to deployment RequestHandler in application 'RequestHandler'.\n",
      "\u001b[36m(ServeReplica:RequestHandler:RequestHandler pid=107147)\u001b[0m /root/.cache/pypoetry/virtualenvs/aana-vIr3-B0u-py3.10/lib/python3.10/site-packages/pydantic/_internal/_fields.py:151: UserWarning: Field \"model_dir\" has conflict with protected namespace \"model_\".\n",
      "\u001b[36m(ServeReplica:RequestHandler:RequestHandler pid=107147)\u001b[0m \n",
      "\u001b[36m(ServeReplica:RequestHandler:RequestHandler pid=107147)\u001b[0m You may be able to resolve this warning by setting `model_config['protected_namespaces'] = ('settings_',)`.\n",
      "\u001b[36m(ServeReplica:RequestHandler:RequestHandler pid=107147)\u001b[0m   warnings.warn(\n",
      "\u001b[36m(ServeReplica:RequestHandler:RequestHandler pid=107147)\u001b[0m DeprecationWarning: `route_prefix` in `@serve.deployment` has been deprecated. To specify a route prefix for an application, pass it into `serve.run` instead.\n",
      "\u001b[36m(ServeController pid=105747)\u001b[0m INFO 2024-04-10 14:43:03,789 controller 105747 deployment_state.py:1547 - Deploying new version of deployment RequestHandler in application 'RequestHandler'. Setting initial target number of replicas to 1.\n",
      "\u001b[36m(ServeController pid=105747)\u001b[0m INFO 2024-04-10 14:43:03,905 controller 105747 deployment_state.py:1710 - Stopping 1 replicas of deployment 'RequestHandler' in application 'RequestHandler' with outdated versions.\n",
      "\u001b[36m(ServeController pid=105747)\u001b[0m INFO 2024-04-10 14:43:06,560 controller 105747 deployment_state.py:2185 - Replica RequestHandler#RequestHandler#PvfOLZ is stopped.\n",
      "\u001b[36m(ServeController pid=105747)\u001b[0m INFO 2024-04-10 14:43:06,562 controller 105747 deployment_state.py:1831 - Adding 1 replica to deployment RequestHandler in application 'RequestHandler'.\n",
      "\u001b[36m(ServeReplica:RequestHandler:RequestHandler pid=107552)\u001b[0m /root/.cache/pypoetry/virtualenvs/aana-vIr3-B0u-py3.10/lib/python3.10/site-packages/pydantic/_internal/_fields.py:151: UserWarning: Field \"model_dir\" has conflict with protected namespace \"model_\".\n",
      "\u001b[36m(ServeReplica:RequestHandler:RequestHandler pid=107552)\u001b[0m \n",
      "\u001b[36m(ServeReplica:RequestHandler:RequestHandler pid=107552)\u001b[0m You may be able to resolve this warning by setting `model_config['protected_namespaces'] = ('settings_',)`.\n",
      "\u001b[36m(ServeReplica:RequestHandler:RequestHandler pid=107552)\u001b[0m   warnings.warn(\n",
      "\u001b[36m(ServeReplica:RequestHandler:RequestHandler pid=107552)\u001b[0m DeprecationWarning: `route_prefix` in `@serve.deployment` has been deprecated. To specify a route prefix for an application, pass it into `serve.run` instead.\n",
      "\u001b[36m(ServeController pid=105747)\u001b[0m INFO 2024-04-10 14:55:52,188 controller 105747 deployment_state.py:1547 - Deploying new version of deployment RequestHandler in application 'RequestHandler'. Setting initial target number of replicas to 1.\n",
      "\u001b[36m(ServeController pid=105747)\u001b[0m INFO 2024-04-10 14:55:52,305 controller 105747 deployment_state.py:1710 - Stopping 1 replicas of deployment 'RequestHandler' in application 'RequestHandler' with outdated versions.\n",
      "\u001b[36m(ServeController pid=105747)\u001b[0m INFO 2024-04-10 14:55:55,267 controller 105747 deployment_state.py:2185 - Replica RequestHandler#RequestHandler#Wuwecf is stopped.\n",
      "\u001b[36m(ServeController pid=105747)\u001b[0m INFO 2024-04-10 14:55:55,268 controller 105747 deployment_state.py:1831 - Adding 1 replica to deployment RequestHandler in application 'RequestHandler'.\n",
      "\u001b[36m(ServeReplica:RequestHandler:RequestHandler pid=108862)\u001b[0m /root/.cache/pypoetry/virtualenvs/aana-vIr3-B0u-py3.10/lib/python3.10/site-packages/pydantic/_internal/_fields.py:151: UserWarning: Field \"model_dir\" has conflict with protected namespace \"model_\".\n",
      "\u001b[36m(ServeReplica:RequestHandler:RequestHandler pid=108862)\u001b[0m \n",
      "\u001b[36m(ServeReplica:RequestHandler:RequestHandler pid=108862)\u001b[0m You may be able to resolve this warning by setting `model_config['protected_namespaces'] = ('settings_',)`.\n",
      "\u001b[36m(ServeReplica:RequestHandler:RequestHandler pid=108862)\u001b[0m   warnings.warn(\n",
      "\u001b[36m(ServeReplica:RequestHandler:RequestHandler pid=108862)\u001b[0m DeprecationWarning: `route_prefix` in `@serve.deployment` has been deprecated. To specify a route prefix for an application, pass it into `serve.run` instead.\n",
      "\u001b[36m(ServeReplica:RequestHandler:RequestHandler pid=108862)\u001b[0m INFO 2024-04-10 14:56:11,628 RequestHandler_RequestHandler FyvJrc a7b2cc77-089e-4d86-9d85-cffbe7665ab0 /redoc replica.py:772 - __CALL__ OK 0.4ms\n",
      "\u001b[36m(ServeReplica:RequestHandler:RequestHandler pid=108862)\u001b[0m INFO 2024-04-10 14:56:11,833 RequestHandler_RequestHandler FyvJrc ba155e0a-d3b9-409e-bf50-17b730d69391 /openapi.json replica.py:772 - __CALL__ OK 16.4ms\n"
     ]
    },
    {
     "name": "stderr",
     "output_type": "stream",
     "text": [
      "2024-04-10 14:38:42,599\tINFO router.py:959 -- Using router <class 'ray.serve._private.router.PowerOfTwoChoicesReplicaScheduler'>.\n",
      "2024-04-10 14:38:42,626\tINFO router.py:496 -- Got updated replicas for deployment 'RequestHandler' in application 'RequestHandler': {'RequestHandler#RequestHandler#xeWzgo'}.\n"
     ]
    },
    {
     "data": {
      "text/plain": [
       "DeploymentHandle(deployment='RequestHandler')"
      ]
     },
     "execution_count": 4,
     "metadata": {},
     "output_type": "execute_result"
    }
   ],
   "source": [
    "aana_sdk.start_request_handler()"
   ]
  },
  {
   "cell_type": "code",
   "execution_count": 5,
   "metadata": {},
   "outputs": [
    {
     "data": {
      "text/plain": [
       "{'detail': 'Not Found'}"
      ]
     },
     "execution_count": 5,
     "metadata": {},
     "output_type": "execute_result"
    }
   ],
   "source": [
    "import requests, json\n",
    "\n",
    "data = {\"video_input\": {\"url\": \"https://www.youtube.com/watch?v=9bZkp7q19f0\"}}\n",
    "requests.post(\n",
    "    \"http://127.0.0.1:8000/get_video_info\", data={\"body\": json.dumps(data)}\n",
    ").json()"
   ]
  },
  {
   "cell_type": "code",
   "execution_count": null,
   "metadata": {},
   "outputs": [],
   "source": []
  },
  {
   "cell_type": "code",
   "execution_count": null,
   "metadata": {},
   "outputs": [],
   "source": []
  },
  {
   "cell_type": "code",
   "execution_count": 6,
   "metadata": {},
   "outputs": [
    {
     "name": "stderr",
     "output_type": "stream",
     "text": [
      "/root/.cache/pypoetry/virtualenvs/aana-vIr3-B0u-py3.10/lib/python3.10/site-packages/pydantic/_internal/_fields.py:151: UserWarning: Field \"model_size\" has conflict with protected namespace \"model_\".\n",
      "\n",
      "You may be able to resolve this warning by setting `model_config['protected_namespaces'] = ()`.\n",
      "  warnings.warn(\n"
     ]
    }
   ],
   "source": [
    "from aana.deployments.whisper_deployment import (\n",
    "    WhisperComputeType,\n",
    "    WhisperConfig,\n",
    "    WhisperDeployment,\n",
    "    WhisperModelSize,\n",
    ")\n",
    "\n",
    "\n",
    "whisper_deployment_medium = WhisperDeployment.options(\n",
    "    num_replicas=1,\n",
    "    max_concurrent_queries=1000,\n",
    "    ray_actor_options={\"num_gpus\": 0.25},\n",
    "    user_config=WhisperConfig(\n",
    "        model_size=WhisperModelSize.MEDIUM,\n",
    "        compute_type=WhisperComputeType.FLOAT16,\n",
    "    ).model_dump(),\n",
    ")"
   ]
  },
  {
   "cell_type": "code",
   "execution_count": 7,
   "metadata": {},
   "outputs": [],
   "source": [
    "aana_sdk.register_deployment(\n",
    "    \"whisper_deployment_medium\",\n",
    "    whisper_deployment_medium,\n",
    ")"
   ]
  },
  {
   "cell_type": "code",
   "execution_count": null,
   "metadata": {},
   "outputs": [],
   "source": []
  },
  {
   "cell_type": "code",
   "execution_count": 8,
   "metadata": {},
   "outputs": [],
   "source": [
    "from typing import TypedDict\n",
    "from aana.models.pydantic.video_input import VideoInput\n",
    "from aana.models.pydantic.whisper_params import WhisperParams\n",
    "from aana.utils.video import download_video, extract_audio\n",
    "from aana.models.core.video import Video\n",
    "from aana.models.core.audio import Audio\n",
    "\n",
    "\n",
    "class Transcription(TypedDict):\n",
    "    transcription: str\n",
    "\n",
    "\n",
    "async def transcribe_video(\n",
    "    video_input: VideoInput, whisper_params: WhisperParams\n",
    ") -> Transcription:\n",
    "    video: Video = download_video(video_input=video_input)\n",
    "\n",
    "    audio: Audio = extract_audio(video=video)\n",
    "\n",
    "    whisper_output = await get_deployment(\n",
    "        \"whisper_deployment_medium\"\n",
    "    ).transcribe.remote(audio=audio, params=whisper_params)\n",
    "\n",
    "    transcription = whisper_output[\"transcription\"]\n",
    "\n",
    "    return {\n",
    "        \"transcription\": transcription.text,\n",
    "    }"
   ]
  },
  {
   "cell_type": "code",
   "execution_count": 9,
   "metadata": {},
   "outputs": [
    {
     "name": "stdout",
     "output_type": "stream",
     "text": [
      "[youtube] Extracting URL: https://www.youtube.com/watch?v=9bZkp7q19f0\n",
      "[youtube] 9bZkp7q19f0: Downloading webpage\n",
      "[youtube] 9bZkp7q19f0: Downloading ios player API JSON\n",
      "[youtube] 9bZkp7q19f0: Downloading android player API JSON\n"
     ]
    },
    {
     "name": "stderr",
     "output_type": "stream",
     "text": [
      "WARNING: [youtube] YouTube said: ERROR - Precondition check failed.\n",
      "WARNING: [youtube] HTTP Error 400: Bad Request. Retrying (1/3)...\n"
     ]
    },
    {
     "name": "stdout",
     "output_type": "stream",
     "text": [
      "[youtube] 9bZkp7q19f0: Downloading android player API JSON\n"
     ]
    },
    {
     "name": "stderr",
     "output_type": "stream",
     "text": [
      "WARNING: [youtube] YouTube said: ERROR - Precondition check failed.\n",
      "WARNING: [youtube] HTTP Error 400: Bad Request. Retrying (2/3)...\n"
     ]
    },
    {
     "name": "stdout",
     "output_type": "stream",
     "text": [
      "[youtube] 9bZkp7q19f0: Downloading android player API JSON\n"
     ]
    },
    {
     "name": "stderr",
     "output_type": "stream",
     "text": [
      "WARNING: [youtube] YouTube said: ERROR - Precondition check failed.\n",
      "WARNING: [youtube] HTTP Error 400: Bad Request. Retrying (3/3)...\n"
     ]
    },
    {
     "name": "stdout",
     "output_type": "stream",
     "text": [
      "[youtube] 9bZkp7q19f0: Downloading android player API JSON\n"
     ]
    },
    {
     "name": "stderr",
     "output_type": "stream",
     "text": [
      "WARNING: [youtube] YouTube said: ERROR - Precondition check failed.\n",
      "WARNING: [youtube] Unable to download API page: HTTP Error 400: Bad Request (caused by <HTTPError 400: Bad Request>); please report this issue on  https://github.com/yt-dlp/yt-dlp/issues?q= , filling out the appropriate issue template. Confirm you are on the latest version using  yt-dlp -U\n",
      "2024-04-10 14:39:04,214\tINFO router.py:959 -- Using router <class 'ray.serve._private.router.PowerOfTwoChoicesReplicaScheduler'>.\n"
     ]
    },
    {
     "name": "stderr",
     "output_type": "stream",
     "text": [
      "2024-04-10 14:39:04,229\tINFO router.py:496 -- Got updated replicas for deployment 'WhisperDeployment' in application 'whisper_deployment_medium': {'whisper_deployment_medium#WhisperDeployment#xpUONH'}.\n",
      "2024-04-10 14:39:14,399\tINFO router.py:496 -- Got updated replicas for deployment 'RequestHandler' in application 'RequestHandler': set().\n",
      "2024-04-10 14:39:25,138\tINFO router.py:496 -- Got updated replicas for deployment 'RequestHandler' in application 'RequestHandler': {'RequestHandler#RequestHandler#BcyLgF'}.\n",
      "2024-04-10 14:41:41,138\tINFO router.py:496 -- Got updated replicas for deployment 'RequestHandler' in application 'RequestHandler': set().\n",
      "2024-04-10 14:41:53,277\tINFO router.py:496 -- Got updated replicas for deployment 'RequestHandler' in application 'RequestHandler': {'RequestHandler#RequestHandler#PvfOLZ'}.\n",
      "2024-04-10 14:43:03,910\tINFO router.py:496 -- Got updated replicas for deployment 'RequestHandler' in application 'RequestHandler': set().\n",
      "2024-04-10 14:43:15,122\tINFO router.py:496 -- Got updated replicas for deployment 'RequestHandler' in application 'RequestHandler': {'RequestHandler#RequestHandler#Wuwecf'}.\n",
      "2024-04-10 14:55:52,312\tINFO router.py:496 -- Got updated replicas for deployment 'RequestHandler' in application 'RequestHandler': set().\n",
      "2024-04-10 14:56:03,480\tINFO router.py:496 -- Got updated replicas for deployment 'RequestHandler' in application 'RequestHandler': {'RequestHandler#RequestHandler#FyvJrc'}.\n"
     ]
    },
    {
     "data": {
      "text/plain": [
       "{'transcription': \" 오빤 강남 스타일 낮에는 따사로운 인간적인 여자 커피 한 잔에 여유를 아는 품격 있는 여자 밤이 오면 심장이 뜨거워지는 여자 그런 반전 있는 여자 너는 서너에 낮에는 너만큼 따사로운 그런 서너에 커피 씻기도 전에 원샷 때리는 서너에 밤이 오면 심장이 터져버리는 서너에 그런 서너에 아름다워 사랑스러워 그래 너, 그래 바로 너 아름다워 사랑스러워 그래 너, 그래 바로 너 지금부터 갈 때까지 가볼까? Go! 오빤 강남 스타일 에이 섹시 레이더 오빤 강남 스타일 에이 섹시 레이더 오빤 강남 스타일 정숙해 보이지만 놀 땐 노는 여자 이대다 싶으면 묶었던 머리 푸는 여자 가렸지만 웬만한 노출보다 야한 여자 그런 감각적인 여자 너는 서너에 점잖아 보이지만 놀 땐 노는 서너에 그때가 되면 완전 미쳐버리는 서너에 근육보다 사상이 올통볼통한 서너에 그런 서너에 아름다워 사랑스러워 그래 너, 그래 바로 너 아름다워 사랑스러워 그래 너, 그래 바로 너 지금부터 갈 때까지 가볼까? Go! 오빤 강남 스타일 에이 섹시 레이더 오빤 강남 스타일 에이 섹시 레이더 오빤 강남 스타일 뛰는 놈 그 위에 나는 놈 베이베 베이베 나는 뭘 좀 아는 놈 뛰는 놈 그 위에 나는 놈 베이베 베이베 나는 뭘 좀 아는 놈 You know what I'm saying 오빤 강남 스타일 에이 섹시 레이더 오빤 강남 스타일 에이 섹시 레이더 오빤 강남 스타일 오빤 강남 스타일\"}"
      ]
     },
     "execution_count": 9,
     "metadata": {},
     "output_type": "execute_result"
    }
   ],
   "source": [
    "output = await transcribe_video(\n",
    "    video_input=VideoInput(url=\"https://www.youtube.com/watch?v=9bZkp7q19f0\"),\n",
    "    whisper_params=WhisperParams(),\n",
    ")\n",
    "output"
   ]
  },
  {
   "cell_type": "code",
   "execution_count": 10,
   "metadata": {},
   "outputs": [],
   "source": [
    "aana_sdk.register_endpoint(\n",
    "    name=\"transcribe_video\",\n",
    "    path=\"/transcribe_video\",\n",
    "    summary=\"Transcribe video\",\n",
    "    func=transcribe_video,\n",
    ")"
   ]
  },
  {
   "cell_type": "code",
   "execution_count": 11,
   "metadata": {},
   "outputs": [
    {
     "data": {
      "text/plain": [
       "DeploymentHandle(deployment='RequestHandler')"
      ]
     },
     "execution_count": 11,
     "metadata": {},
     "output_type": "execute_result"
    }
   ],
   "source": [
    "aana_sdk.start_request_handler()"
   ]
  },
  {
   "cell_type": "code",
   "execution_count": 12,
   "metadata": {},
   "outputs": [
    {
     "data": {
      "text/plain": [
       "{'transcription': \" 오빤 강남 스타일 낮에는 따사로운 인간적인 여자 커피 한 잔에 여유를 아는 품격 있는 여자 밤이 오면 심장이 뜨거워지는 여자 그런 반전 있는 여자 너는 서너에 낮에는 너만큼 따사로운 그런 서너에 커피 씻기도 전에 원샷 때리는 서너에 밤이 오면 심장이 터져버리는 서너에 그런 서너에 아름다워 사랑스러워 그래 너, 그래 바로 너 아름다워 사랑스러워 그래 너, 그래 바로 너 지금부터 갈 때까지 가볼까? Go! 오빤 강남 스타일 에이 섹시 레이더 오빤 강남 스타일 에이 섹시 레이더 오빤 강남 스타일 정숙해 보이지만 놀 땐 노는 여자 이대다 싶으면 묶었던 머리 푸는 여자 가렸지만 웬만한 노출보다 야한 여자 그런 감각적인 여자 너는 서너에 점잖아 보이지만 놀 땐 노는 서너에 그때가 되면 완전 미쳐버리는 서너에 근육보다 사상이 올통볼통한 서너에 그런 서너에 아름다워 사랑스러워 그래 너, 그래 바로 너 아름다워 사랑스러워 그래 너, 그래 바로 너 지금부터 갈 때까지 가볼까? Go! 오빤 강남 스타일 에이 섹시 레이더 오빤 강남 스타일 에이 섹시 레이더 오빤 강남 스타일 뛰는 놈 그 위에 나는 놈 베이베 베이베 나는 뭘 좀 아는 놈 뛰는 놈 그 위에 나는 놈 베이베 베이베 나는 뭘 좀 아는 놈 You know what I'm saying 오빤 강남 스타일 에이 섹시 레이더 오빤 강남 스타일 에이 섹시 레이더 오빤 강남 스타일 오빤 강남 스타일\"}"
      ]
     },
     "execution_count": 12,
     "metadata": {},
     "output_type": "execute_result"
    }
   ],
   "source": [
    "import requests, json\n",
    "\n",
    "data = {\"video_input\": {\"url\": \"https://www.youtube.com/watch?v=9bZkp7q19f0\"}}\n",
    "requests.post(\n",
    "    \"http://127.0.0.1:8000/transcribe_video\", data={\"body\": json.dumps(data)}\n",
    ").json()"
   ]
  },
  {
   "cell_type": "code",
   "execution_count": null,
   "metadata": {},
   "outputs": [],
   "source": []
  },
  {
   "cell_type": "code",
   "execution_count": null,
   "metadata": {},
   "outputs": [],
   "source": []
  },
  {
   "cell_type": "code",
   "execution_count": 15,
   "metadata": {},
   "outputs": [],
   "source": [
    "from typing import AsyncGenerator, TypedDict\n",
    "from aana.models.pydantic.asr_output import AsrTranscription\n",
    "from aana.models.pydantic.video_input import VideoInput\n",
    "from aana.models.pydantic.whisper_params import WhisperParams\n",
    "from aana.utils.video import download_video, extract_audio\n",
    "from aana.models.core.video import Video\n",
    "from aana.models.core.audio import Audio\n",
    "\n",
    "\n",
    "class Transcription(TypedDict):\n",
    "    transcription: str\n",
    "    full_transcription: str\n",
    "\n",
    "\n",
    "async def transcribe_video_stream(\n",
    "    video_input: VideoInput, whisper_params: WhisperParams\n",
    ") -> AsyncGenerator[Transcription, None]:\n",
    "    video: Video = download_video(video_input=video_input)\n",
    "    audio: Audio = extract_audio(video=video)\n",
    "\n",
    "    transcriptions = []\n",
    "    async for whisper_output in (\n",
    "        get_deployment(\"whisper_deployment_medium\")\n",
    "        .options(stream=True)\n",
    "        .transcribe_stream.remote(audio=audio, params=whisper_params)\n",
    "    ):\n",
    "        transcription = whisper_output[\"transcription\"]\n",
    "        transcriptions.append(transcription)\n",
    "        yield {\"transcription\": transcription.text}\n",
    "\n",
    "    full_transcription = sum(transcriptions, AsrTranscription())\n",
    "    yield {\"full_transcription\": full_transcription.text}"
   ]
  },
  {
   "cell_type": "code",
   "execution_count": 16,
   "metadata": {},
   "outputs": [
    {
     "name": "stdout",
     "output_type": "stream",
     "text": [
      "[youtube] Extracting URL: https://www.youtube.com/watch?v=9bZkp7q19f0\n",
      "[youtube] 9bZkp7q19f0: Downloading webpage\n"
     ]
    },
    {
     "name": "stdout",
     "output_type": "stream",
     "text": [
      "[youtube] 9bZkp7q19f0: Downloading ios player API JSON\n",
      "[youtube] 9bZkp7q19f0: Downloading android player API JSON\n"
     ]
    },
    {
     "name": "stderr",
     "output_type": "stream",
     "text": [
      "WARNING: [youtube] YouTube said: ERROR - Precondition check failed.\n",
      "WARNING: [youtube] HTTP Error 400: Bad Request. Retrying (1/3)...\n"
     ]
    },
    {
     "name": "stdout",
     "output_type": "stream",
     "text": [
      "[youtube] 9bZkp7q19f0: Downloading android player API JSON\n"
     ]
    },
    {
     "name": "stderr",
     "output_type": "stream",
     "text": [
      "WARNING: [youtube] YouTube said: ERROR - Precondition check failed.\n",
      "WARNING: [youtube] HTTP Error 400: Bad Request. Retrying (2/3)...\n"
     ]
    },
    {
     "name": "stdout",
     "output_type": "stream",
     "text": [
      "[youtube] 9bZkp7q19f0: Downloading android player API JSON\n"
     ]
    },
    {
     "name": "stderr",
     "output_type": "stream",
     "text": [
      "WARNING: [youtube] YouTube said: ERROR - Precondition check failed.\n",
      "WARNING: [youtube] HTTP Error 400: Bad Request. Retrying (3/3)...\n"
     ]
    },
    {
     "name": "stdout",
     "output_type": "stream",
     "text": [
      "[youtube] 9bZkp7q19f0: Downloading android player API JSON\n"
     ]
    },
    {
     "name": "stderr",
     "output_type": "stream",
     "text": [
      "WARNING: [youtube] YouTube said: ERROR - Precondition check failed.\n",
      "WARNING: [youtube] Unable to download API page: HTTP Error 400: Bad Request (caused by <HTTPError 400: Bad Request>); please report this issue on  https://github.com/yt-dlp/yt-dlp/issues?q= , filling out the appropriate issue template. Confirm you are on the latest version using  yt-dlp -U\n"
     ]
    },
    {
     "name": "stdout",
     "output_type": "stream",
     "text": [
      "{'transcription': ' 오빤 강남 스타일'}\n",
      "{'transcription': ' 낮에는 따사로운 인간적인 여자'}\n",
      "{'transcription': ' 커피 한 잔에 여유를 아는 품격 있는 여자'}\n",
      "{'transcription': ' 밤이 오면 심장이 뜨거워지는 여자'}\n",
      "{'transcription': ' 그런 반전 있는 여자'}\n",
      "{'transcription': ' 너는 서너에'}\n",
      "{'transcription': ' 낮에는 너만큼 따사로운 그런 서너에'}\n",
      "{'transcription': ' 커피 씻기도 전에 원샷 때리는 서너에'}\n",
      "{'transcription': ' 밤이 오면 심장이 터져버리는 서너에'}\n",
      "{'transcription': ' 그런 서너에'}\n",
      "{'transcription': ' 아름다워 사랑스러워'}\n",
      "{'transcription': ' 그래 너, 그래 바로 너'}\n",
      "{'transcription': ' 아름다워 사랑스러워'}\n",
      "{'transcription': ' 그래 너, 그래 바로 너'}\n",
      "{'transcription': ' 지금부터 갈 때까지 가볼까?'}\n",
      "{'transcription': ' Go!'}\n",
      "{'transcription': ' 오빤 강남 스타일'}\n",
      "{'transcription': ' 에이 섹시 레이더'}\n",
      "{'transcription': ' 오빤 강남 스타일'}\n",
      "{'transcription': ' 에이 섹시 레이더'}\n",
      "{'transcription': ' 오빤 강남 스타일'}\n",
      "{'transcription': ' 정숙해 보이지만 놀 땐 노는 여자'}\n",
      "{'transcription': ' 이대다 싶으면 묶었던 머리 푸는 여자'}\n",
      "{'transcription': ' 가렸지만 웬만한 노출보다 야한 여자'}\n",
      "{'transcription': ' 그런 감각적인 여자'}\n",
      "{'transcription': ' 너는 서너에'}\n",
      "{'transcription': ' 점잖아 보이지만 놀 땐 노는 서너에'}\n",
      "{'transcription': ' 그때가 되면 완전 미쳐버리는 서너에'}\n",
      "{'transcription': ' 근육보다 사상이 올통볼통한 서너에'}\n",
      "{'transcription': ' 그런 서너에'}\n",
      "{'transcription': ' 아름다워 사랑스러워'}\n",
      "{'transcription': ' 그래 너, 그래 바로 너'}\n",
      "{'transcription': ' 아름다워 사랑스러워'}\n",
      "{'transcription': ' 그래 너, 그래 바로 너'}\n",
      "{'transcription': ' 지금부터 갈 때까지 가볼까?'}\n",
      "{'transcription': ' Go!'}\n",
      "{'transcription': ' 오빤 강남 스타일'}\n",
      "{'transcription': ' 에이 섹시 레이더'}\n",
      "{'transcription': ' 오빤 강남 스타일'}\n",
      "{'transcription': ' 에이 섹시 레이더'}\n",
      "{'transcription': ' 오빤 강남 스타일'}\n",
      "{'transcription': ' 뛰는 놈 그 위에 나는 놈'}\n",
      "{'transcription': ' 베이베 베이베 나는 뭘 좀 아는 놈'}\n",
      "{'transcription': ' 뛰는 놈 그 위에 나는 놈'}\n",
      "{'transcription': ' 베이베 베이베 나는 뭘 좀 아는 놈'}\n",
      "{'transcription': \" You know what I'm saying\"}\n",
      "{'transcription': ' 오빤 강남 스타일'}\n",
      "{'transcription': ' 에이 섹시 레이더'}\n",
      "{'transcription': ' 오빤 강남 스타일'}\n",
      "{'transcription': ' 에이 섹시 레이더'}\n",
      "{'transcription': ' 오빤 강남 스타일'}\n",
      "{'transcription': ' 오빤 강남 스타일'}\n",
      "{'full_transcription': \" 오빤 강남 스타일\\n 낮에는 따사로운 인간적인 여자\\n 커피 한 잔에 여유를 아는 품격 있는 여자\\n 밤이 오면 심장이 뜨거워지는 여자\\n 그런 반전 있는 여자\\n 너는 서너에\\n 낮에는 너만큼 따사로운 그런 서너에\\n 커피 씻기도 전에 원샷 때리는 서너에\\n 밤이 오면 심장이 터져버리는 서너에\\n 그런 서너에\\n 아름다워 사랑스러워\\n 그래 너, 그래 바로 너\\n 아름다워 사랑스러워\\n 그래 너, 그래 바로 너\\n 지금부터 갈 때까지 가볼까?\\n Go!\\n 오빤 강남 스타일\\n 에이 섹시 레이더\\n 오빤 강남 스타일\\n 에이 섹시 레이더\\n 오빤 강남 스타일\\n 정숙해 보이지만 놀 땐 노는 여자\\n 이대다 싶으면 묶었던 머리 푸는 여자\\n 가렸지만 웬만한 노출보다 야한 여자\\n 그런 감각적인 여자\\n 너는 서너에\\n 점잖아 보이지만 놀 땐 노는 서너에\\n 그때가 되면 완전 미쳐버리는 서너에\\n 근육보다 사상이 올통볼통한 서너에\\n 그런 서너에\\n 아름다워 사랑스러워\\n 그래 너, 그래 바로 너\\n 아름다워 사랑스러워\\n 그래 너, 그래 바로 너\\n 지금부터 갈 때까지 가볼까?\\n Go!\\n 오빤 강남 스타일\\n 에이 섹시 레이더\\n 오빤 강남 스타일\\n 에이 섹시 레이더\\n 오빤 강남 스타일\\n 뛰는 놈 그 위에 나는 놈\\n 베이베 베이베 나는 뭘 좀 아는 놈\\n 뛰는 놈 그 위에 나는 놈\\n 베이베 베이베 나는 뭘 좀 아는 놈\\n You know what I'm saying\\n 오빤 강남 스타일\\n 에이 섹시 레이더\\n 오빤 강남 스타일\\n 에이 섹시 레이더\\n 오빤 강남 스타일\\n 오빤 강남 스타일\"}\n"
     ]
    }
   ],
   "source": [
    "async for chunk in transcribe_video_stream(\n",
    "    video_input=VideoInput(url=\"https://www.youtube.com/watch?v=9bZkp7q19f0\"),\n",
    "    whisper_params=WhisperParams(),\n",
    "):\n",
    "    print(chunk)"
   ]
  },
  {
   "cell_type": "code",
   "execution_count": 23,
   "metadata": {},
   "outputs": [],
   "source": [
    "aana_sdk.register_endpoint(\n",
    "    name=\"transcribe_video_stream\",\n",
    "    path=\"/transcribe_video_stream\",\n",
    "    summary=\"Transcribe video as generator\",\n",
    "    func=transcribe_video_stream,\n",
    ")"
   ]
  },
  {
   "cell_type": "code",
   "execution_count": 24,
   "metadata": {},
   "outputs": [
    {
     "data": {
      "text/plain": [
       "DeploymentHandle(deployment='RequestHandler')"
      ]
     },
     "execution_count": 24,
     "metadata": {},
     "output_type": "execute_result"
    }
   ],
   "source": [
    "aana_sdk.start_request_handler()"
   ]
  },
  {
   "cell_type": "code",
   "execution_count": 30,
   "metadata": {},
   "outputs": [
    {
     "name": "stdout",
     "output_type": "stream",
     "text": [
      "\u001b[36m(ServeReplica:RequestHandler:RequestHandler pid=108862)\u001b[0m [youtube] Extracting URL: https://www.youtube.com/watch?v=9bZkp7q19f0\n",
      "\u001b[36m(ServeReplica:RequestHandler:RequestHandler pid=108862)\u001b[0m [youtube] 9bZkp7q19f0: Downloading webpage\n",
      "\u001b[36m(ServeReplica:RequestHandler:RequestHandler pid=108862)\u001b[0m [youtube] 9bZkp7q19f0: Downloading ios player API JSON\n",
      "\u001b[36m(ServeReplica:RequestHandler:RequestHandler pid=108862)\u001b[0m [youtube] 9bZkp7q19f0: Downloading android player API JSON\n"
     ]
    },
    {
     "name": "stderr",
     "output_type": "stream",
     "text": [
      "\u001b[36m(ServeReplica:RequestHandler:RequestHandler pid=108862)\u001b[0m WARNING: [youtube] YouTube said: ERROR - Precondition check failed.\n",
      "\u001b[36m(ServeReplica:RequestHandler:RequestHandler pid=108862)\u001b[0m WARNING: [youtube] HTTP Error 400: Bad Request. Retrying (1/3)...\n",
      "\u001b[36m(ServeReplica:RequestHandler:RequestHandler pid=108862)\u001b[0m WARNING: [youtube] YouTube said: ERROR - Precondition check failed.\n",
      "\u001b[36m(ServeReplica:RequestHandler:RequestHandler pid=108862)\u001b[0m WARNING: [youtube] HTTP Error 400: Bad Request. Retrying (2/3)...\n",
      "\u001b[36m(ServeReplica:RequestHandler:RequestHandler pid=108862)\u001b[0m WARNING: [youtube] YouTube said: ERROR - Precondition check failed.\n",
      "\u001b[36m(ServeReplica:RequestHandler:RequestHandler pid=108862)\u001b[0m WARNING: [youtube] HTTP Error 400: Bad Request. Retrying (3/3)...\n",
      "\u001b[36m(ServeReplica:RequestHandler:RequestHandler pid=108862)\u001b[0m WARNING: [youtube] YouTube said: ERROR - Precondition check failed.\n",
      "\u001b[36m(ServeReplica:RequestHandler:RequestHandler pid=108862)\u001b[0m WARNING: [youtube] Unable to download API page: HTTP Error 400: Bad Request (caused by <HTTPError 400: Bad Request>); please report this issue on  https://github.com/yt-dlp/yt-dlp/issues?q= , filling out the appropriate issue template. Confirm you are on the latest version using  yt-dlp -U\n"
     ]
    },
    {
     "name": "stdout",
     "output_type": "stream",
     "text": [
      "\u001b[36m(ServeReplica:RequestHandler:RequestHandler pid=108862)\u001b[0m [youtube] 9bZkp7q19f0: Downloading android player API JSON\n",
      "\u001b[36m(ServeReplica:RequestHandler:RequestHandler pid=108862)\u001b[0m [youtube] 9bZkp7q19f0: Downloading android player API JSON\n",
      "\u001b[36m(ServeReplica:RequestHandler:RequestHandler pid=108862)\u001b[0m [youtube] 9bZkp7q19f0: Downloading android player API JSON\n"
     ]
    },
    {
     "name": "stdout",
     "output_type": "stream",
     "text": [
      "{'transcription': ' 오빤 강남 스타일'}\n",
      "{'transcription': ' 낮에는 따사로운 인간적인 여자'}\n",
      "{'transcription': ' 커피 한 잔에 여유를 아는 품격 있는 여자'}\n",
      "{'transcription': ' 밤이 오면 심장이 뜨거워지는 여자'}\n",
      "{'transcription': ' 그런 반전 있는 여자'}\n",
      "{'transcription': ' 너는 서너에'}\n",
      "{'transcription': ' 낮에는 너만큼 따사로운 그런 서너에'}\n",
      "{'transcription': ' 커피 씻기도 전에 원샷 때리는 서너에'}\n",
      "{'transcription': ' 밤이 오면 심장이 터져버리는 서너에'}\n",
      "{'transcription': ' 그런 서너에'}\n",
      "{'transcription': ' 아름다워 사랑스러워'}\n",
      "{'transcription': ' 그래 너, 그래 바로 너'}\n",
      "{'transcription': ' 아름다워 사랑스러워'}\n",
      "{'transcription': ' 그래 너, 그래 바로 너'}\n",
      "{'transcription': ' 지금부터 갈 때까지 가볼까?'}\n",
      "{'transcription': ' Go!'}\n",
      "{'transcription': ' 오빤 강남 스타일'}\n",
      "{'transcription': ' 에이 섹시 레이더'}\n",
      "{'transcription': ' 오빤 강남 스타일'}\n",
      "{'transcription': ' 에이 섹시 레이더'}\n",
      "{'transcription': ' 오빤 강남 스타일'}\n",
      "{'transcription': ' 정숙해 보이지만 놀 땐 노는 여자'}\n",
      "{'transcription': ' 이대다 싶으면 묶었던 머리 푸는 여자'}\n",
      "{'transcription': ' 가렸지만 웬만한 노출보다 야한 여자'}\n",
      "{'transcription': ' 그런 감각적인 여자'}\n",
      "{'transcription': ' 너는 서너에'}\n",
      "{'transcription': ' 점잖아 보이지만 놀 땐 노는 서너에'}\n",
      "{'transcription': ' 그때가 되면 완전 미쳐버리는 서너에'}\n",
      "{'transcription': ' 근육보다 사상이 올통볼통한 서너에'}\n",
      "{'transcription': ' 그런 서너에'}\n",
      "{'transcription': ' 아름다워 사랑스러워'}\n",
      "{'transcription': ' 그래 너, 그래 바로 너'}\n",
      "{'transcription': ' 아름다워 사랑스러워'}\n",
      "{'transcription': ' 그래 너, 그래 바로 너'}\n",
      "{'transcription': ' 지금부터 갈 때까지 가볼까?'}\n",
      "{'transcription': ' Go!'}\n",
      "{'transcription': ' 오빤 강남 스타일'}\n",
      "{'transcription': ' 에이 섹시 레이더'}\n",
      "{'transcription': ' 오빤 강남 스타일'}\n",
      "{'transcription': ' 에이 섹시 레이더'}\n",
      "{'transcription': ' 오빤 강남 스타일'}\n",
      "{'transcription': ' 뛰는 놈 그 위에 나는 놈'}\n",
      "{'transcription': ' 베이베 베이베 나는 뭘 좀 아는 놈'}\n",
      "{'transcription': ' 뛰는 놈 그 위에 나는 놈'}\n",
      "{'transcription': ' 베이베 베이베 나는 뭘 좀 아는 놈'}\n",
      "{'transcription': \" You know what I'm saying\"}\n",
      "{'transcription': ' 오빤 강남 스타일'}\n",
      "{'transcription': ' 에이 섹시 레이더'}\n",
      "{'transcription': ' 오빤 강남 스타일'}\n",
      "{'transcription': ' 에이 섹시 레이더'}\n",
      "{'transcription': ' 오빤 강남 스타일'}\n",
      "{'transcription': ' 오빤 강남 스타일'}\n",
      "{'full_transcription': \" 오빤 강남 스타일\\n 낮에는 따사로운 인간적인 여자\\n 커피 한 잔에 여유를 아는 품격 있는 여자\\n 밤이 오면 심장이 뜨거워지는 여자\\n 그런 반전 있는 여자\\n 너는 서너에\\n 낮에는 너만큼 따사로운 그런 서너에\\n 커피 씻기도 전에 원샷 때리는 서너에\\n 밤이 오면 심장이 터져버리는 서너에\\n 그런 서너에\\n 아름다워 사랑스러워\\n 그래 너, 그래 바로 너\\n 아름다워 사랑스러워\\n 그래 너, 그래 바로 너\\n 지금부터 갈 때까지 가볼까?\\n Go!\\n 오빤 강남 스타일\\n 에이 섹시 레이더\\n 오빤 강남 스타일\\n 에이 섹시 레이더\\n 오빤 강남 스타일\\n 정숙해 보이지만 놀 땐 노는 여자\\n 이대다 싶으면 묶었던 머리 푸는 여자\\n 가렸지만 웬만한 노출보다 야한 여자\\n 그런 감각적인 여자\\n 너는 서너에\\n 점잖아 보이지만 놀 땐 노는 서너에\\n 그때가 되면 완전 미쳐버리는 서너에\\n 근육보다 사상이 올통볼통한 서너에\\n 그런 서너에\\n 아름다워 사랑스러워\\n 그래 너, 그래 바로 너\\n 아름다워 사랑스러워\\n 그래 너, 그래 바로 너\\n 지금부터 갈 때까지 가볼까?\\n Go!\\n 오빤 강남 스타일\\n 에이 섹시 레이더\\n 오빤 강남 스타일\\n 에이 섹시 레이더\\n 오빤 강남 스타일\\n 뛰는 놈 그 위에 나는 놈\\n 베이베 베이베 나는 뭘 좀 아는 놈\\n 뛰는 놈 그 위에 나는 놈\\n 베이베 베이베 나는 뭘 좀 아는 놈\\n You know what I'm saying\\n 오빤 강남 스타일\\n 에이 섹시 레이더\\n 오빤 강남 스타일\\n 에이 섹시 레이더\\n 오빤 강남 스타일\\n 오빤 강남 스타일\"}\n"
     ]
    }
   ],
   "source": [
    "import requests, json\n",
    "\n",
    "data = {\"video_input\": {\"url\": \"https://www.youtube.com/watch?v=9bZkp7q19f0\"}}\n",
    "response = requests.post(\n",
    "    \"http://127.0.0.1:8000/transcribe_video_stream\",\n",
    "    data={\"body\": json.dumps(data)},\n",
    "    stream=True,\n",
    ")\n",
    "for chunk in response.iter_content(chunk_size=None):\n",
    "    print(json.loads(chunk))"
   ]
  },
  {
   "cell_type": "code",
   "execution_count": null,
   "metadata": {},
   "outputs": [],
   "source": []
  },
  {
   "cell_type": "code",
   "execution_count": null,
   "metadata": {},
   "outputs": [],
   "source": []
  },
  {
   "cell_type": "code",
   "execution_count": null,
   "metadata": {},
   "outputs": [],
   "source": []
  }
 ],
 "metadata": {
  "kernelspec": {
   "display_name": "aana-vIr3-B0u-py3.10",
   "language": "python",
   "name": "python3"
  },
  "language_info": {
   "codemirror_mode": {
    "name": "ipython",
    "version": 3
   },
   "file_extension": ".py",
   "mimetype": "text/x-python",
   "name": "python",
   "nbconvert_exporter": "python",
   "pygments_lexer": "ipython3",
   "version": "3.10.14"
  }
 },
 "nbformat": 4,
 "nbformat_minor": 2
}
