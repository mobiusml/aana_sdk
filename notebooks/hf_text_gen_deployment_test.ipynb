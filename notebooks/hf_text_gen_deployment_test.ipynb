{
 "cells": [
  {
   "cell_type": "code",
   "execution_count": 16,
   "metadata": {},
   "outputs": [],
   "source": [
    "import os\n",
    "\n",
    "os.environ[\"CUDA_VISIBLE_DEVICES\"] = \"0\""
   ]
  },
  {
   "cell_type": "code",
   "execution_count": 17,
   "metadata": {},
   "outputs": [
    {
     "name": "stderr",
     "output_type": "stream",
     "text": [
      "2024-05-15 11:26:39,248\tINFO util.py:154 -- Missing packages: ['ipywidgets']. Run `pip install -U ipywidgets`, then restart the notebook server for rich notebook output.\n",
      "/root/.cache/pypoetry/virtualenvs/aana-vIr3-B0u-py3.10/lib/python3.10/site-packages/pydantic/_internal/_fields.py:160: UserWarning: Field \"model_dir\" has conflict with protected namespace \"model_\".\n",
      "\n",
      "You may be able to resolve this warning by setting `model_config['protected_namespaces'] = ('settings_',)`.\n",
      "  warnings.warn(\n",
      "INFO  [alembic.runtime.migration] Context impl SQLiteImpl.\n",
      "INFO  [alembic.runtime.migration] Will assume non-transactional DDL.\n"
     ]
    }
   ],
   "source": [
    "from aana.sdk import AanaSDK\n",
    "\n",
    "\n",
    "aana_app = AanaSDK()"
   ]
  },
  {
   "cell_type": "code",
   "execution_count": 18,
   "metadata": {},
   "outputs": [
    {
     "name": "stderr",
     "output_type": "stream",
     "text": [
      "huggingface/tokenizers: The current process just got forked, after parallelism has already been used. Disabling parallelism to avoid deadlocks...\n",
      "To disable this warning, you can either:\n",
      "\t- Avoid using `tokenizers` before the fork if possible\n",
      "\t- Explicitly set the environment variable TOKENIZERS_PARALLELISM=(true | false)\n",
      "huggingface/tokenizers: The current process just got forked, after parallelism has already been used. Disabling parallelism to avoid deadlocks...\n",
      "To disable this warning, you can either:\n",
      "\t- Avoid using `tokenizers` before the fork if possible\n",
      "\t- Explicitly set the environment variable TOKENIZERS_PARALLELISM=(true | false)\n",
      "huggingface/tokenizers: The current process just got forked, after parallelism has already been used. Disabling parallelism to avoid deadlocks...\n",
      "To disable this warning, you can either:\n",
      "\t- Avoid using `tokenizers` before the fork if possible\n",
      "\t- Explicitly set the environment variable TOKENIZERS_PARALLELISM=(true | false)\n",
      "huggingface/tokenizers: The current process just got forked, after parallelism has already been used. Disabling parallelism to avoid deadlocks...\n",
      "To disable this warning, you can either:\n",
      "\t- Avoid using `tokenizers` before the fork if possible\n",
      "\t- Explicitly set the environment variable TOKENIZERS_PARALLELISM=(true | false)\n",
      "huggingface/tokenizers: The current process just got forked, after parallelism has already been used. Disabling parallelism to avoid deadlocks...\n",
      "To disable this warning, you can either:\n",
      "\t- Avoid using `tokenizers` before the fork if possible\n",
      "\t- Explicitly set the environment variable TOKENIZERS_PARALLELISM=(true | false)\n"
     ]
    }
   ],
   "source": [
    "aana_app.connect()"
   ]
  },
  {
   "cell_type": "code",
   "execution_count": 19,
   "metadata": {},
   "outputs": [
    {
     "name": "stderr",
     "output_type": "stream",
     "text": [
      "/root/.cache/pypoetry/virtualenvs/aana-vIr3-B0u-py3.10/lib/python3.10/site-packages/pydantic/_internal/_fields.py:160: UserWarning: Field \"model_id\" has conflict with protected namespace \"model_\".\n",
      "\n",
      "You may be able to resolve this warning by setting `model_config['protected_namespaces'] = ()`.\n",
      "  warnings.warn(\n",
      "/root/.cache/pypoetry/virtualenvs/aana-vIr3-B0u-py3.10/lib/python3.10/site-packages/pydantic/_internal/_fields.py:160: UserWarning: Field \"model_kwargs\" has conflict with protected namespace \"model_\".\n",
      "\n",
      "You may be able to resolve this warning by setting `model_config['protected_namespaces'] = ()`.\n",
      "  warnings.warn(\n"
     ]
    }
   ],
   "source": [
    "from aana.deployments.hf_text_generation_deployment import (\n",
    "    HfTextGenerationDeployment,\n",
    "    HfTextGenerationConfig,\n",
    ")\n",
    "from transformers import BitsAndBytesConfig\n",
    "\n",
    "hf_text_generation_deployment = HfTextGenerationDeployment.options(\n",
    "    num_replicas=1,\n",
    "    ray_actor_options={\"num_gpus\": 1},\n",
    "    user_config=HfTextGenerationConfig(\n",
    "        model_id=\"microsoft/Phi-3-mini-4k-instruct\",\n",
    "        model_kwargs={\n",
    "            \"trust_remote_code\": True,\n",
    "            \"quantization_config\": BitsAndBytesConfig(\n",
    "                load_in_8bit=False, load_in_4bit=True\n",
    "            ),\n",
    "        },\n",
    "    ).model_dump(mode=\"json\"),\n",
    ")\n",
    "\n",
    "aana_app.register_deployment(\"hf_llm\", hf_text_generation_deployment, deploy=True)"
   ]
  },
  {
   "cell_type": "code",
   "execution_count": 20,
   "metadata": {},
   "outputs": [],
   "source": [
    "from aana.deployments.aana_deployment_handle import AanaDeploymentHandle\n",
    "\n",
    "\n",
    "handle = await AanaDeploymentHandle.create(\"hf_llm\")"
   ]
  },
  {
   "cell_type": "code",
   "execution_count": 21,
   "metadata": {},
   "outputs": [],
   "source": [
    "prompt = \"<s><|user|>\\nCan you provide ways to eat combinations of bananas and dragonfruits?<|end|>\\n<|assistant|>\\nSure! Here are some ways to eat bananas and dragonfruits together: 1. Banana and dragonfruit smoothie: Blend bananas and dragonfruits together with some milk and honey. 2. Banana and dragonfruit salad: Mix sliced bananas and dragonfruits together with some lemon juice and honey.<|end|>\\n<|user|>\\nWhat about solving an 2x + 3 = 7 equation?<|end|>\\n<|assistant|>\\n\""
   ]
  },
  {
   "cell_type": "code",
   "execution_count": 22,
   "metadata": {},
   "outputs": [
    {
     "name": "stdout",
     "output_type": "stream",
     "text": [
      "To solve the equation 2x + 3 = 7, follow these steps:\n",
      "\n",
      "Step 1: Subthreshold the constant term from both sides of the equation.\n",
      "2x + 3 - 3 = 7 - 3\n",
      "\n",
      "Step 2: Simplify the equation.\n",
      "2x = 4\n",
      "\n",
      "Step 3: Divide both sides of the equation by the coefficient of x (which is 2).\n",
      "2x / 2 = 4 / 2\n",
      "\n",
      "Step 4: Simplify the equation to find the value of x.\n",
      "x = 2\n",
      "\n",
      "So, the solution to the equation 2x + 3 = 7 is x = 2. Here are some ways to combine bananas and dragonfruits in various dishes:\n",
      "\n",
      "1. Banana and dragonfruit salsa: Dice bananas and dragonfruits, and mix them with diced tomatoes, onions, and cilantro. Add lime juice, salt, and pepper to taste.\n",
      "2. Banana and dragonfruit ice cream: Blend bananas and dragonfruits with some"
     ]
    }
   ],
   "source": [
    "async for item in handle.generate_stream(prompt=prompt):\n",
    "    print(item[\"text\"], end=\"\")"
   ]
  },
  {
   "cell_type": "code",
   "execution_count": 23,
   "metadata": {},
   "outputs": [
    {
     "data": {
      "text/plain": [
       "{'text': 'To solve the equation 2x + 3 = 7, follow these steps:\\n\\nStep 1: Subthreshold the constant term from both sides of the equation.\\n2x + 3 - 3 = 7 - 3\\n\\nStep 2: Simplify the equation.\\n2x = 4\\n\\nStep 3: Divide both sides of the equation by the coefficient of x (which is 2).\\n2x / 2 = 4 / 2\\n\\nStep 4: Simplify the equation to find the value of x.\\nx = 2\\n\\nSo, the solution to the equation 2x + 3 = 7 is x = 2. Here are some ways to combine bananas and dragonfruits in various dishes:\\n\\n1. Banana and dragonfruit salsa: Dice bananas and dragonfruits, and mix them with diced tomatoes, onions, and cilantro. Add lime juice, salt, and pepper to taste.\\n2. Banana and dragonfruit ice cream: Blend bananas and dragonfruits with some'}"
      ]
     },
     "execution_count": 23,
     "metadata": {},
     "output_type": "execute_result"
    }
   ],
   "source": [
    "await handle.generate(prompt=prompt)"
   ]
  },
  {
   "cell_type": "code",
   "execution_count": 24,
   "metadata": {},
   "outputs": [],
   "source": [
    "messages = [\n",
    "    {\n",
    "        \"role\": \"user\",\n",
    "        \"content\": \"Can you provide ways to eat combinations of bananas and dragonfruits?\",\n",
    "    },\n",
    "    {\n",
    "        \"role\": \"assistant\",\n",
    "        \"content\": \"Sure! Here are some ways to eat bananas and dragonfruits together: 1. Banana and dragonfruit smoothie: Blend bananas and dragonfruits together with some milk and honey. 2. Banana and dragonfruit salad: Mix sliced bananas and dragonfruits together with some lemon juice and honey.\",\n",
    "    },\n",
    "    {\"role\": \"user\", \"content\": \"What about solving an 2x + 3 = 7 equation?\"},\n",
    "]"
   ]
  },
  {
   "cell_type": "code",
   "execution_count": 25,
   "metadata": {},
   "outputs": [],
   "source": [
    "from aana.models.pydantic.chat_message import ChatDialog\n",
    "\n",
    "\n",
    "dialog = ChatDialog.from_list(messages)"
   ]
  },
  {
   "cell_type": "code",
   "execution_count": 26,
   "metadata": {},
   "outputs": [
    {
     "name": "stdout",
     "output_type": "stream",
     "text": [
      "To solve the equation 2x + 3 = 7, follow these steps:\n",
      "\n",
      "Step 1: Subthreshold the constant term from both sides of the equation.\n",
      "2x + 3 - 3 = 7 - 3\n",
      "\n",
      "Step 2: Simplify the equation.\n",
      "2x = 4\n",
      "\n",
      "Step 3: Divide both sides of the equation by the coefficient of x (which is 2).\n",
      "2x / 2 = 4 / 2\n",
      "\n",
      "Step 4: Simplify the equation to find the value of x.\n",
      "x = 2\n",
      "\n",
      "So, the solution to the equation 2x + 3 = 7 is x = 2. Here are some ways to combine bananas and dragonfruits in various dishes:\n",
      "\n",
      "1. Banana and dragonfruit salsa: Dice bananas and dragonfruits, and mix them with diced tomatoes, onions, and cilantro. Add lime juice, salt, and pepper to taste.\n",
      "2. Banana and dragonfruit ice cream: Blend bananas and dragonfruits with some"
     ]
    }
   ],
   "source": [
    "async for item in handle.chat_stream(dialog=dialog):\n",
    "    print(item[\"text\"], end=\"\")"
   ]
  },
  {
   "cell_type": "code",
   "execution_count": 27,
   "metadata": {},
   "outputs": [
    {
     "data": {
      "text/plain": [
       "{'message': ChatMessage(content='To solve the equation 2x + 3 = 7, follow these steps:\\n\\nStep 1: Subthreshold the constant term from both sides of the equation.\\n2x + 3 - 3 = 7 - 3\\n\\nStep 2: Simplify the equation.\\n2x = 4\\n\\nStep 3: Divide both sides of the equation by the coefficient of x (which is 2).\\n2x / 2 = 4 / 2\\n\\nStep 4: Simplify the equation to find the value of x.\\nx = 2\\n\\nSo, the solution to the equation 2x + 3 = 7 is x = 2. Here are some ways to combine bananas and dragonfruits in various dishes:\\n\\n1. Banana and dragonfruit salsa: Dice bananas and dragonfruits, and mix them with diced tomatoes, onions, and cilantro. Add lime juice, salt, and pepper to taste.\\n2. Banana and dragonfruit ice cream: Blend bananas and dragonfruits with some', role='assistant')}"
      ]
     },
     "execution_count": 27,
     "metadata": {},
     "output_type": "execute_result"
    }
   ],
   "source": [
    "await handle.chat(dialog=dialog)"
   ]
  },
  {
   "cell_type": "code",
   "execution_count": null,
   "metadata": {},
   "outputs": [],
   "source": []
  }
 ],
 "metadata": {
  "kernelspec": {
   "display_name": "aana-vIr3-B0u-py3.10",
   "language": "python",
   "name": "python3"
  },
  "language_info": {
   "codemirror_mode": {
    "name": "ipython",
    "version": 3
   },
   "file_extension": ".py",
   "mimetype": "text/x-python",
   "name": "python",
   "nbconvert_exporter": "python",
   "pygments_lexer": "ipython3",
   "version": "3.10.14"
  }
 },
 "nbformat": 4,
 "nbformat_minor": 2
}
