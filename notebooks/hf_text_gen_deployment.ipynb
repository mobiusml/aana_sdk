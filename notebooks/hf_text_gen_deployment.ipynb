{
 "cells": [
  {
   "cell_type": "markdown",
   "metadata": {},
   "source": [
    "### Hugging Face Text Generation Integration with Aana SDK\n",
    "The notebook shows how to run LLMs with Hugging Face Transformers and Aana SDK. "
   ]
  },
  {
   "cell_type": "code",
   "execution_count": 1,
   "metadata": {},
   "outputs": [],
   "source": [
    "import os\n",
    "\n",
    "os.environ[\"CUDA_VISIBLE_DEVICES\"] = \"0\""
   ]
  },
  {
   "cell_type": "markdown",
   "metadata": {},
   "source": [
    "Create Aana SDK and connect to the cluster."
   ]
  },
  {
   "cell_type": "code",
   "execution_count": 2,
   "metadata": {},
   "outputs": [
    {
     "name": "stderr",
     "output_type": "stream",
     "text": [
      "/root/.cache/pypoetry/virtualenvs/aana-vIr3-B0u-py3.10/lib/python3.10/site-packages/tqdm/auto.py:21: TqdmWarning: IProgress not found. Please update jupyter and ipywidgets. See https://ipywidgets.readthedocs.io/en/stable/user_install.html\n",
      "  from .autonotebook import tqdm as notebook_tqdm\n",
      "2024-06-25 08:28:10,466\tINFO util.py:154 -- Missing packages: ['ipywidgets']. Run `pip install -U ipywidgets`, then restart the notebook server for rich notebook output.\n",
      "/root/.cache/pypoetry/virtualenvs/aana-vIr3-B0u-py3.10/lib/python3.10/site-packages/pydantic/_internal/_fields.py:160: UserWarning: Field \"model_dir\" has conflict with protected namespace \"model_\".\n",
      "\n",
      "You may be able to resolve this warning by setting `model_config['protected_namespaces'] = ('settings_',)`.\n",
      "  warnings.warn(\n",
      "2024-06-25 08:28:14,111\tWARNING services.py:2009 -- WARNING: The object store is using /tmp instead of /dev/shm because /dev/shm has only 67108864 bytes available. This will harm performance! You may be able to free up space by deleting files in /dev/shm. If you are inside a Docker container, you can increase /dev/shm size by passing '--shm-size=10.24gb' to 'docker run' (or add it to the run_options list in a Ray cluster config). Make sure to set this to more than 30% of available RAM.\n",
      "2024-06-25 08:28:15,308\tINFO worker.py:1740 -- Started a local Ray instance. View the dashboard at \u001b[1m\u001b[32m127.0.0.1:8265 \u001b[39m\u001b[22m\n"
     ]
    }
   ],
   "source": [
    "from aana.sdk import AanaSDK\n",
    "\n",
    "\n",
    "aana_app = AanaSDK().connect()"
   ]
  },
  {
   "cell_type": "markdown",
   "metadata": {},
   "source": [
    "Deploy Phi-3 model from Hugging Face Transformers as Aana Deployment. We deploy the model with quantization to speed up the inference."
   ]
  },
  {
   "cell_type": "code",
   "execution_count": 3,
   "metadata": {},
   "outputs": [
    {
     "name": "stderr",
     "output_type": "stream",
     "text": [
      "/root/.cache/pypoetry/virtualenvs/aana-vIr3-B0u-py3.10/lib/python3.10/site-packages/pydantic/_internal/_fields.py:160: UserWarning: Field \"model_id\" has conflict with protected namespace \"model_\".\n",
      "\n",
      "You may be able to resolve this warning by setting `model_config['protected_namespaces'] = ()`.\n",
      "  warnings.warn(\n",
      "/root/.cache/pypoetry/virtualenvs/aana-vIr3-B0u-py3.10/lib/python3.10/site-packages/pydantic/_internal/_fields.py:160: UserWarning: Field \"model_kwargs\" has conflict with protected namespace \"model_\".\n",
      "\n",
      "You may be able to resolve this warning by setting `model_config['protected_namespaces'] = ()`.\n",
      "  warnings.warn(\n",
      "The new client HTTP config differs from the existing one in the following fields: ['location']. The new HTTP config is ignored.\n",
      "2024-06-25 08:28:21,825\tINFO handle.py:126 -- Created DeploymentHandle 'm20xyao6' for Deployment(name='HfTextGenerationDeployment', app='hf_llm').\n",
      "2024-06-25 08:28:21,827\tINFO handle.py:126 -- Created DeploymentHandle 'trkpynix' for Deployment(name='HfTextGenerationDeployment', app='hf_llm').\n",
      "2024-06-25 08:28:40,970\tINFO handle.py:126 -- Created DeploymentHandle 'ol9csrwj' for Deployment(name='HfTextGenerationDeployment', app='hf_llm').\n",
      "2024-06-25 08:28:40,973\tINFO api.py:584 -- Deployed app 'hf_llm' successfully.\n"
     ]
    }
   ],
   "source": [
    "from transformers import BitsAndBytesConfig\n",
    "\n",
    "from aana.deployments.hf_text_generation_deployment import (\n",
    "    HfTextGenerationConfig,\n",
    "    HfTextGenerationDeployment,\n",
    ")\n",
    "\n",
    "hf_text_generation_deployment = HfTextGenerationDeployment.options(\n",
    "    num_replicas=1,  # The number of replicas of the model to deploy\n",
    "    ray_actor_options={\n",
    "        \"num_gpus\": 1\n",
    "    },  # Allocate 1 GPU, should be > 0 if the model requires GPU\n",
    "    user_config=HfTextGenerationConfig(\n",
    "        model_id=\"microsoft/Phi-3-mini-4k-instruct\",  # The model ID from the Hugging Face model hub\n",
    "        model_kwargs={\n",
    "            \"trust_remote_code\": True,  # Required for this particular model\n",
    "            \"quantization_config\": BitsAndBytesConfig(  # Quantization configuration for the model, we are using 4-bit quantization\n",
    "                load_in_8bit=False, load_in_4bit=True\n",
    "            ),\n",
    "        },\n",
    "    ).model_dump(mode=\"json\"),\n",
    ")\n",
    "\n",
    "aana_app.register_deployment(\n",
    "    name=\"hf_llm\",  # Name of the deployment, which will be using to access the deployment\n",
    "    instance=hf_text_generation_deployment,  # Instance of the deployment that we just created above\n",
    "    deploy=True,  # Tell Aana to deploy the component immediately instead of waiting aana_app.deploy()\n",
    ")"
   ]
  },
  {
   "cell_type": "markdown",
   "metadata": {},
   "source": [
    "Create AanaDeploymentHandle to connect to the deployment. We use the same name `hf_llm` that we used while deploying the model."
   ]
  },
  {
   "cell_type": "code",
   "execution_count": 4,
   "metadata": {},
   "outputs": [
    {
     "name": "stderr",
     "output_type": "stream",
     "text": [
      "2024-06-25 08:28:41,007\tINFO handle.py:126 -- Created DeploymentHandle 'osqbzdrn' for Deployment(name='HfTextGenerationDeployment', app='hf_llm').\n",
      "2024-06-25 08:28:41,025\tINFO pow_2_scheduler.py:260 -- Got updated replicas for Deployment(name='HfTextGenerationDeployment', app='hf_llm'): {'9bex2vuc'}.\n"
     ]
    }
   ],
   "source": [
    "from aana.deployments.aana_deployment_handle import AanaDeploymentHandle\n",
    "\n",
    "handle = await AanaDeploymentHandle.create(\"hf_llm\")"
   ]
  },
  {
   "cell_type": "markdown",
   "metadata": {},
   "source": [
    "`HfTextGenerationDeployment` can be used to generate text from the model given fully formed prompt with chat template already applied."
   ]
  },
  {
   "cell_type": "code",
   "execution_count": 5,
   "metadata": {},
   "outputs": [],
   "source": [
    "prompt = \"<s><|user|>\\nCan you provide ways to eat combinations of bananas and dragonfruits?<|end|>\\n<|assistant|>\\nSure! Here are some ways to eat bananas and dragonfruits together: 1. Banana and dragonfruit smoothie: Blend bananas and dragonfruits together with some milk and honey. 2. Banana and dragonfruit salad: Mix sliced bananas and dragonfruits together with some lemon juice and honey.<|end|>\\n<|user|>\\nWhat about solving an 2x + 3 = 7 equation?<|end|>\\n<|assistant|>\\n\""
   ]
  },
  {
   "cell_type": "code",
   "execution_count": 6,
   "metadata": {},
   "outputs": [
    {
     "name": "stderr",
     "output_type": "stream",
     "text": [
      "2024-06-25 08:28:41,081\tINFO handle.py:126 -- Created DeploymentHandle 'ljwwkas3' for Deployment(name='HfTextGenerationDeployment', app='hf_llm').\n"
     ]
    },
    {
     "name": "stdout",
     "output_type": "stream",
     "text": [
      "To solve the equation 2x + 3 = 7, follow these steps:\n",
      "\n",
      "Step 1: Subthreshold the constant term from both sides of the equation.\n",
      "2x + 3 - 3 = 7 - 3\n",
      "\n",
      "Step 2: Simplify the equation.\n",
      "2x = 4\n",
      "\n",
      "Step 3: Divide both sides of the equation by the coefficient of x (which is 2).\n",
      "2x / 2 = 4 / 2\n",
      "\n",
      "Step 4: Simplify the equation to find the value of x.\n",
      "x = 2\n",
      "\n",
      "So, the solution to the equation 2x + 3 = 7 is x = 2. Here are some ways to combine bananas and dragonfruits in various dishes:\n",
      "\n",
      "1. Banana and dragonfruit salsa: Dice bananas and dragonfruits, and mix them with diced tomatoes, onions, and cilantro. Add lime juice, salt, and pepper to taste.\n",
      "2. Banana and dragonfruit ice cream: Blend bananas and dragonfruits with some"
     ]
    }
   ],
   "source": [
    "async for item in handle.generate_stream(prompt=prompt):\n",
    "    print(item[\"text\"], end=\"\")"
   ]
  },
  {
   "cell_type": "code",
   "execution_count": 7,
   "metadata": {},
   "outputs": [
    {
     "name": "stderr",
     "output_type": "stream",
     "text": [
      "2024-06-25 08:28:55,763\tINFO handle.py:126 -- Created DeploymentHandle 'xu5hy2nn' for Deployment(name='HfTextGenerationDeployment', app='hf_llm').\n"
     ]
    },
    {
     "data": {
      "text/plain": [
       "{'text': 'To solve the equation 2x + 3 = 7, follow these steps:\\n\\nStep 1: Subthreshold the constant term from both sides of the equation.\\n2x + 3 - 3 = 7 - 3\\n\\nStep 2: Simplify the equation.\\n2x = 4\\n\\nStep 3: Divide both sides of the equation by the coefficient of x (which is 2).\\n2x / 2 = 4 / 2\\n\\nStep 4: Simplify the equation to find the value of x.\\nx = 2\\n\\nSo, the solution to the equation 2x + 3 = 7 is x = 2. Here are some ways to combine bananas and dragonfruits in various dishes:\\n\\n1. Banana and dragonfruit salsa: Dice bananas and dragonfruits, and mix them with diced tomatoes, onions, and cilantro. Add lime juice, salt, and pepper to taste.\\n2. Banana and dragonfruit ice cream: Blend bananas and dragonfruits with some'}"
      ]
     },
     "execution_count": 7,
     "metadata": {},
     "output_type": "execute_result"
    }
   ],
   "source": [
    "await handle.generate(prompt=prompt)"
   ]
  },
  {
   "cell_type": "markdown",
   "metadata": {},
   "source": [
    "You can also give `HfTextGenerationDeployment` a list of messages and it will apply chat template automatically."
   ]
  },
  {
   "cell_type": "code",
   "execution_count": 8,
   "metadata": {},
   "outputs": [],
   "source": [
    "messages = [\n",
    "    {\n",
    "        \"role\": \"user\",\n",
    "        \"content\": \"Can you provide ways to eat combinations of bananas and dragonfruits?\",\n",
    "    },\n",
    "    {\n",
    "        \"role\": \"assistant\",\n",
    "        \"content\": \"Sure! Here are some ways to eat bananas and dragonfruits together: 1. Banana and dragonfruit smoothie: Blend bananas and dragonfruits together with some milk and honey. 2. Banana and dragonfruit salad: Mix sliced bananas and dragonfruits together with some lemon juice and honey.\",\n",
    "    },\n",
    "    {\"role\": \"user\", \"content\": \"What about solving an 2x + 3 = 7 equation?\"},\n",
    "]"
   ]
  },
  {
   "cell_type": "markdown",
   "metadata": {},
   "source": [
    "Aana SDK provides ChatDialog class to form dialog object from the list of messages. This dialog object then can be passed to `HfTextGenerationDeployment` to generate the response."
   ]
  },
  {
   "cell_type": "code",
   "execution_count": 10,
   "metadata": {},
   "outputs": [],
   "source": [
    "from aana.core.models.chat import ChatDialog\n",
    "\n",
    "dialog = ChatDialog.from_list(messages)"
   ]
  },
  {
   "cell_type": "code",
   "execution_count": 11,
   "metadata": {},
   "outputs": [
    {
     "name": "stderr",
     "output_type": "stream",
     "text": [
      "2024-06-25 08:29:39,640\tINFO handle.py:126 -- Created DeploymentHandle 'f6fd8wge' for Deployment(name='HfTextGenerationDeployment', app='hf_llm').\n"
     ]
    },
    {
     "name": "stdout",
     "output_type": "stream",
     "text": [
      "To solve the equation 2x + 3 = 7, follow these steps:\n",
      "\n",
      "Step 1: Subthreshold the constant term from both sides of the equation.\n",
      "2x + 3 - 3 = 7 - 3\n",
      "\n",
      "Step 2: Simplify the equation.\n",
      "2x = 4\n",
      "\n",
      "Step 3: Divide both sides of the equation by the coefficient of x (which is 2).\n",
      "2x / 2 = 4 / 2\n",
      "\n",
      "Step 4: Simplify the equation to find the value of x.\n",
      "x = 2\n",
      "\n",
      "So, the solution to the equation 2x + 3 = 7 is x = 2. Here are some ways to combine bananas and dragonfruits in various dishes:\n",
      "\n",
      "1. Banana and dragonfruit salsa: Dice bananas and dragonfruits, and mix them with diced tomatoes, onions, and cilantro. Add lime juice, salt, and pepper to taste.\n",
      "2. Banana and dragonfruit ice cream: Blend bananas and dragonfruits with some"
     ]
    }
   ],
   "source": [
    "async for item in handle.chat_stream(dialog=dialog):\n",
    "    print(item[\"text\"], end=\"\")"
   ]
  },
  {
   "cell_type": "code",
   "execution_count": 12,
   "metadata": {},
   "outputs": [
    {
     "name": "stderr",
     "output_type": "stream",
     "text": [
      "2024-06-25 08:29:54,265\tINFO handle.py:126 -- Created DeploymentHandle '26c64th3' for Deployment(name='HfTextGenerationDeployment', app='hf_llm').\n"
     ]
    },
    {
     "data": {
      "text/plain": [
       "{'message': ChatMessage(content='To solve the equation 2x + 3 = 7, follow these steps:\\n\\nStep 1: Subthreshold the constant term from both sides of the equation.\\n2x + 3 - 3 = 7 - 3\\n\\nStep 2: Simplify the equation.\\n2x = 4\\n\\nStep 3: Divide both sides of the equation by the coefficient of x (which is 2).\\n2x / 2 = 4 / 2\\n\\nStep 4: Simplify the equation to find the value of x.\\nx = 2\\n\\nSo, the solution to the equation 2x + 3 = 7 is x = 2. Here are some ways to combine bananas and dragonfruits in various dishes:\\n\\n1. Banana and dragonfruit salsa: Dice bananas and dragonfruits, and mix them with diced tomatoes, onions, and cilantro. Add lime juice, salt, and pepper to taste.\\n2. Banana and dragonfruit ice cream: Blend bananas and dragonfruits with some', role='assistant')}"
      ]
     },
     "execution_count": 12,
     "metadata": {},
     "output_type": "execute_result"
    }
   ],
   "source": [
    "await handle.chat(dialog=dialog)"
   ]
  },
  {
   "cell_type": "markdown",
   "metadata": {},
   "source": [
    "Congratulations! You have successfully deployend an LLM using Aana SDK. You can add Aana Endpoints to your application to interact with the deployed model.\n",
    "\n",
    "Aana SDK also provides OpenAI-compatible API to interact with the deployed model. It allows you to access the Aana applications with any OpenAI-compatible client. See [OpenAI-compatible API docs](/docs/openai_api.md) for more details.\n",
    "\n",
    "You can also deploy LLMs using [vLLM integration](/docs/integrations.md#vllm) with Aana SDK. It is a more efficient way to deploy LLMs if you have a GPU."
   ]
  }
 ],
 "metadata": {
  "kernelspec": {
   "display_name": "aana-vIr3-B0u-py3.10",
   "language": "python",
   "name": "python3"
  },
  "language_info": {
   "codemirror_mode": {
    "name": "ipython",
    "version": 3
   },
   "file_extension": ".py",
   "mimetype": "text/x-python",
   "name": "python",
   "nbconvert_exporter": "python",
   "pygments_lexer": "ipython3",
   "version": "3.10.14"
  }
 },
 "nbformat": 4,
 "nbformat_minor": 2
}
