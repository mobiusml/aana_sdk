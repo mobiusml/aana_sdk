{
 "cells": [
  {
   "cell_type": "markdown",
   "metadata": {},
   "source": [
    "# How to use Structured Generation\n",
    "\n",
    "Structured generation is a feature that allows you to generate structured data using the vLLM deployment forcing LLM to adhere to a specific JSON schema or regular expression pattern.\n",
    "\n",
    "Structured generation is supported only for the vLLM deployment at the moment. \n",
    "\n",
    "This notebook demonstrates how to use structured generation with vLLM."
   ]
  },
  {
   "cell_type": "code",
   "execution_count": 1,
   "metadata": {},
   "outputs": [],
   "source": [
    "import os\n",
    "\n",
    "os.environ[\"CUDA_VISIBLE_DEVICES\"] = \"0\""
   ]
  },
  {
   "cell_type": "code",
   "execution_count": null,
   "metadata": {},
   "outputs": [],
   "source": [
    "from aana.sdk import AanaSDK\n",
    "\n",
    "aana = AanaSDK().connect(show_logs=True)"
   ]
  },
  {
   "cell_type": "markdown",
   "metadata": {},
   "source": [
    "For this example, we will be using `Phi-3-mini-4k-instruct` model. So let's deploy it first."
   ]
  },
  {
   "cell_type": "code",
   "execution_count": null,
   "metadata": {},
   "outputs": [],
   "source": [
    "from aana.core.models.sampling import SamplingParams\n",
    "from aana.core.models.types import Dtype\n",
    "from aana.deployments.vllm_deployment import VLLMConfig, VLLMDeployment\n",
    "\n",
    "deployment = VLLMDeployment.options(\n",
    "    num_replicas=1,\n",
    "    ray_actor_options={\"num_gpus\": 0.5},\n",
    "    user_config=VLLMConfig(\n",
    "        model_id=\"microsoft/Phi-3-mini-4k-instruct\",\n",
    "        dtype=Dtype.FLOAT16,\n",
    "        gpu_memory_reserved=10000,\n",
    "        enforce_eager=True,\n",
    "        default_sampling_params=SamplingParams(\n",
    "            temperature=0.0, top_p=1.0, top_k=-1, max_tokens=1024\n",
    "        ),\n",
    "        engine_args={\n",
    "            \"trust_remote_code\": True,\n",
    "        },\n",
    "    ).model_dump(mode=\"json\"),\n",
    ")\n",
    "\n",
    "aana.register_deployment(\n",
    "    \"vllm_deployment\",\n",
    "    deployment,\n",
    "    deploy=True,\n",
    ")"
   ]
  },
  {
   "cell_type": "markdown",
   "metadata": {},
   "source": [
    "We create an AanaDeploymentHandle to remotely interact with the deployment."
   ]
  },
  {
   "cell_type": "code",
   "execution_count": 4,
   "metadata": {},
   "outputs": [],
   "source": [
    "from aana.deployments.aana_deployment_handle import AanaDeploymentHandle\n",
    "\n",
    "handle = await AanaDeploymentHandle.create(\"vllm_deployment\")"
   ]
  },
  {
   "cell_type": "markdown",
   "metadata": {},
   "source": [
    "Structured Generation requires a JSON schema. We can use Pydantic model to define the schema."
   ]
  },
  {
   "cell_type": "code",
   "execution_count": 17,
   "metadata": {},
   "outputs": [
    {
     "name": "stdout",
     "output_type": "stream",
     "text": [
      "{\"properties\": {\"city\": {\"title\": \"City\", \"type\": \"string\"}, \"country\": {\"title\": \"Country\", \"type\": \"string\"}, \"description\": {\"title\": \"Description\", \"type\": \"string\"}}, \"required\": [\"city\", \"country\", \"description\"], \"title\": \"CityDescription\", \"type\": \"object\"}\n"
     ]
    }
   ],
   "source": [
    "import json\n",
    "\n",
    "from pydantic import BaseModel\n",
    "\n",
    "\n",
    "class CityDescription(BaseModel):\n",
    "    \"\"\"City description model.\"\"\"\n",
    "\n",
    "    city: str\n",
    "    country: str\n",
    "    description: str\n",
    "\n",
    "\n",
    "schema = json.dumps(CityDescription.model_json_schema())\n",
    "print(schema)"
   ]
  },
  {
   "cell_type": "markdown",
   "metadata": {},
   "source": [
    "First, we ask LLM to tell us about Paris without using structured generation."
   ]
  },
  {
   "cell_type": "code",
   "execution_count": null,
   "metadata": {},
   "outputs": [],
   "source": [
    "from aana.core.models.chat import ChatDialog, ChatMessage\n",
    "\n",
    "dialog = ChatDialog(\n",
    "    messages=[\n",
    "        ChatMessage(role=\"user\", content=\"Tell me about Paris.\"),\n",
    "    ]\n",
    ")\n",
    "\n",
    "response = await handle.chat(dialog)"
   ]
  },
  {
   "cell_type": "code",
   "execution_count": 7,
   "metadata": {},
   "outputs": [
    {
     "name": "stdout",
     "output_type": "stream",
     "text": [
      " Paris, the capital city of France, is renowned globally for its rich history, art, fashion, and cuisine. This iconic city, situated on the River Seine in the north-central part of the country, has enthralled millions of visitors over centuries. With its countless attractions, including the famous Eiffel Tower, Louvre Museum, and Montmartre, Paris embodies elegance and charm in its essence, making it an enduring symbol of love and romance.\n",
      "\n",
      "Paris also boasts a myriad of world-class cultural landmarks. The Louvre, home to countless treasures such as the Mona Lisa and the Venus de Milo, stands on the right bank of the Seine. The Musée d'Orsay displays its vast collection of Impressionist works of art, while the Centre Pompidou exhibits modern and contemporary pieces. The Orsay Museum, on the other hand, houses an extensive collection of decorative arts and design. Other landmarks include the Notre-Dame Cathedral, the Sainte-Chapelle, the Sacré-Cœur Basilica, and the majestic Versailles Palace.\n",
      "\n",
      "The city is also famous for its charming cafes, incredible food, and delicious pastries. One cannot talk about Paris without mentioning its iconic cuisine. The food culture in the city aligns seamlessly with the art and history - from classics like Ratatouille and Bouillabaisse to current foodie trends like vegan and organic options. The city also boasts a multitude of world-class restaurants - offering everything from gourmet classic French food, sophisticated Asian fusion, European star chefs, and street food vendors - there is something for each individual taste bud.\n",
      "\n",
      "Paris is also a city renowned for its fashion - fashion weeks here are watched by both Parisians and fashion enthusiasts worldwide. Visitors can explore the fashion houses of the city, from the latest offerings of Louis Vuitton, Chanel, Givenchy, Dior to the emerging new talent.\n",
      "\n",
      "Over the years, Paris has become a hub in art, literature, and thought, having been the birthplace or home of literary figures like Victor Hugo, Marcel Proust, and Charles Baudelaire. The city is interwoven with symbols of emotions and imagination, offering breathtaking views, romantic strolls along the Seine, and insight into French history.\n",
      "\n",
      "Paris, with its dedication to culture, history, art, and fashion, continues to captivate tourists and locals alike, offering an experience that stays with you, just as the city itself has remained timeless for centuries.\n"
     ]
    }
   ],
   "source": [
    "print(response[\"message\"].content)"
   ]
  },
  {
   "cell_type": "markdown",
   "metadata": {},
   "source": [
    "As you can see it gives us a large text description of Paris without any structure. Now let's try to use the schema we generated to get a structured response."
   ]
  },
  {
   "cell_type": "markdown",
   "metadata": {},
   "source": [
    "To enable structured generation, we need to pass `SamplingParams` object to the `chat` method with `json_schema` parameter set to the schema we generated above."
   ]
  },
  {
   "cell_type": "code",
   "execution_count": null,
   "metadata": {},
   "outputs": [],
   "source": [
    "from aana.core.models.chat import ChatDialog, ChatMessage\n",
    "\n",
    "dialog = ChatDialog(\n",
    "    messages=[\n",
    "        ChatMessage(role=\"user\", content=\"Tell me about Paris.\"),\n",
    "    ]\n",
    ")\n",
    "\n",
    "response = await handle.chat(dialog, sampling_params=SamplingParams(json_schema=schema))"
   ]
  },
  {
   "cell_type": "code",
   "execution_count": 9,
   "metadata": {},
   "outputs": [
    {
     "name": "stdout",
     "output_type": "stream",
     "text": [
      "{ \"city\": \"Paris\", \"country\": \"France\", \"description\": \"Paris is the capital city of France, renowned for its art, fashion, gastronomy, and culture. Home to iconic landmarks such as the Eiffel Tower, Louvre Museum, Palace of Versailles, and Notre-Dame Cathedral, Paris is a major global center for art, fashion, gastronomy, and culture. The city is famous for its charming streets, romantic ambiance, and world-class museums and restaurants.\" }\n"
     ]
    }
   ],
   "source": [
    "print(response[\"message\"].content)"
   ]
  },
  {
   "cell_type": "markdown",
   "metadata": {},
   "source": [
    "Now, the response from LLM adheres to the provided schema. We can also use Pydantic model `CityDescription` to parse the response into a Python object."
   ]
  },
  {
   "cell_type": "code",
   "execution_count": 10,
   "metadata": {},
   "outputs": [
    {
     "name": "stdout",
     "output_type": "stream",
     "text": [
      "City: Paris\n",
      "Country: France\n",
      "Description: Paris is the capital city of France, renowned for its art, fashion, gastronomy, and culture. Home to iconic landmarks such as the Eiffel Tower, Louvre Museum, Palace of Versailles, and Notre-Dame Cathedral, Paris is a major global center for art, fashion, gastronomy, and culture. The city is famous for its charming streets, romantic ambiance, and world-class museums and restaurants.\n"
     ]
    }
   ],
   "source": [
    "city = CityDescription.model_validate_json(response[\"message\"].content)\n",
    "print(f\"City: {city.city}\")\n",
    "print(f\"Country: {city.country}\")\n",
    "print(f\"Description: {city.description}\")"
   ]
  },
  {
   "cell_type": "markdown",
   "metadata": {},
   "source": [
    "We can also specify another schema to get a list of cities and their descriptions. Notice that here we we added `Return a list of dictionaries.` to the prompt. Usually, it is very helpful to provide some guidance on what you expect from the model. The best is to provide a schema and a few examples of the expected output. That's where prompt engineering comes in."
   ]
  },
  {
   "cell_type": "code",
   "execution_count": null,
   "metadata": {},
   "outputs": [],
   "source": [
    "from pydantic import RootModel\n",
    "\n",
    "CityDescriptionList = RootModel[list[CityDescription]]\n",
    "schema = json.dumps(CityDescriptionList.model_json_schema())\n",
    "\n",
    "dialog = ChatDialog(\n",
    "    messages=[\n",
    "        ChatMessage(\n",
    "            role=\"user\",\n",
    "            content=\"Tell me about Vienna, Paris, and New York. Return a list of dictionaries.\",\n",
    "        ),\n",
    "    ]\n",
    ")\n",
    "\n",
    "response = await handle.chat(dialog, SamplingParams(json_schema=schema))"
   ]
  },
  {
   "cell_type": "code",
   "execution_count": 12,
   "metadata": {},
   "outputs": [
    {
     "name": "stdout",
     "output_type": "stream",
     "text": [
      "[{\"city\":\"Vienna\",\"country\":\"Austria\",\"description\":\"Vienna is the capital city of Austria and has a rich cultural history dating back to Roman times. It is known for its classical music, imperial palaces, and the annual New Year's Concert performed by the Vienna Philharmonic.\"},{\"city\":\"Paris\",\"country\":\"France\",\"description\":\"Paris is the capital of France and is renowned for its romantic ambiance, iconic landmarks like the Eiffel Tower and Notre-Dame Cathedral, and as a center for art, fashion, gastronomy, and culture.\"},{\"city\":\"New York\",\"country\":\"United States\",\"description\":\"New York City, often simply called New York, is a major cultural, financial, and media hub. It is famous for its diverse cultural scenes, financial markets, historical significance in many domains, and monuments like the Statue of Liberty and Times Square. New York also hosts institutions like the Metropolitan Museum of Art, Broadway, and Central Park.\"}]\n"
     ]
    },
    {
     "name": "stderr",
     "output_type": "stream",
     "text": [
      "\u001b[36m(ServeReplica:vllm_deployment:VLLMDeployment pid=1888371)\u001b[0m INFO 2024-09-26 13:28:00,474 vllm_deployment_VLLMDeployment 3yq0wqtc 8c88b063-18f0-4ee4-9f49-a0bcb5224d01 replica.py:376 - CHAT OK 4969.3ms\n",
      "Compiling FSM index for all state transitions:   0%|          | 0/9 [00:00<?, ?it/s]\n",
      "Compiling FSM index for all state transitions: 100%|██████████| 9/9 [00:00<00:00, 51.53it/s]\n"
     ]
    }
   ],
   "source": [
    "print(response[\"message\"].content)"
   ]
  },
  {
   "cell_type": "code",
   "execution_count": 13,
   "metadata": {},
   "outputs": [
    {
     "name": "stdout",
     "output_type": "stream",
     "text": [
      "City: Vienna\n",
      "Country: Austria\n",
      "Description: Vienna is the capital city of Austria and has a rich cultural history dating back to Roman times. It is known for its classical music, imperial palaces, and the annual New Year's Concert performed by the Vienna Philharmonic.\n",
      "\n",
      "City: Paris\n",
      "Country: France\n",
      "Description: Paris is the capital of France and is renowned for its romantic ambiance, iconic landmarks like the Eiffel Tower and Notre-Dame Cathedral, and as a center for art, fashion, gastronomy, and culture.\n",
      "\n",
      "City: New York\n",
      "Country: United States\n",
      "Description: New York City, often simply called New York, is a major cultural, financial, and media hub. It is famous for its diverse cultural scenes, financial markets, historical significance in many domains, and monuments like the Statue of Liberty and Times Square. New York also hosts institutions like the Metropolitan Museum of Art, Broadway, and Central Park.\n",
      "\n"
     ]
    }
   ],
   "source": [
    "cities = CityDescriptionList.model_validate_json(response[\"message\"].content)\n",
    "for city in cities.root:\n",
    "    print(f\"City: {city.city}\")\n",
    "    print(f\"Country: {city.country}\")\n",
    "    print(f\"Description: {city.description}\")\n",
    "    print()"
   ]
  },
  {
   "cell_type": "markdown",
   "metadata": {},
   "source": [
    "And we can also use regular expression patterns to generate structured data. Here we are generating Pi. \n",
    "For that we need to set `regex_string` parameter in `SamplingParams` object to the regular expression pattern we want to generate."
   ]
  },
  {
   "cell_type": "code",
   "execution_count": null,
   "metadata": {},
   "outputs": [],
   "source": [
    "dialog = ChatDialog(\n",
    "    messages=[\n",
    "        ChatMessage(\n",
    "            role=\"user\",\n",
    "            content=\"What is Pi? Give me the first 15 digits. Only return the number.\",\n",
    "        ),\n",
    "    ]\n",
    ")\n",
    "\n",
    "regex_pattern = \"(-)?(0|[1-9][0-9]*)(\\\\.[0-9]+)?([eE][+-][0-9]+)?\"\n",
    "\n",
    "sampling_params = SamplingParams(regex_string=regex_pattern, max_tokens=32)\n",
    "\n",
    "response = await handle.chat(dialog, sampling_params=sampling_params)"
   ]
  },
  {
   "cell_type": "code",
   "execution_count": 15,
   "metadata": {},
   "outputs": [
    {
     "name": "stdout",
     "output_type": "stream",
     "text": [
      "3.141592653589793238462643383279\n"
     ]
    }
   ],
   "source": [
    "print(response[\"message\"].content)"
   ]
  },
  {
   "cell_type": "code",
   "execution_count": 16,
   "metadata": {},
   "outputs": [
    {
     "name": "stderr",
     "output_type": "stream",
     "text": [
      "\u001b[36m(ServeReplica:vllm_deployment:VLLMDeployment pid=1888371)\u001b[0m INFO 2024-09-26 13:28:01,461 vllm_deployment_VLLMDeployment 3yq0wqtc 4f035913-7c7e-47fe-8a66-197a00120d26 replica.py:376 - CHAT OK 923.0ms\n"
     ]
    },
    {
     "data": {
      "text/plain": [
       "<re.Match object; span=(0, 32), match='3.141592653589793238462643383279'>"
      ]
     },
     "execution_count": 16,
     "metadata": {},
     "output_type": "execute_result"
    }
   ],
   "source": [
    "import re\n",
    "\n",
    "re.fullmatch(regex_pattern, response[\"message\"].content)"
   ]
  }
 ],
 "metadata": {
  "kernelspec": {
   "display_name": "aana-vIr3-B0u-py3.10",
   "language": "python",
   "name": "python3"
  },
  "language_info": {
   "codemirror_mode": {
    "name": "ipython",
    "version": 3
   },
   "file_extension": ".py",
   "mimetype": "text/x-python",
   "name": "python",
   "nbconvert_exporter": "python",
   "pygments_lexer": "ipython3",
   "version": "3.10.16"
  }
 },
 "nbformat": 4,
 "nbformat_minor": 2
}
