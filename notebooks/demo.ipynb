{
 "cells": [
  {
   "cell_type": "code",
   "execution_count": 1,
   "metadata": {},
   "outputs": [],
   "source": [
    "import requests\n",
    "import json"
   ]
  },
  {
   "cell_type": "code",
   "execution_count": 3,
   "metadata": {},
   "outputs": [],
   "source": [
    "data = {\n",
    "    \"prompt\": \"[INST] Who is Elon Musk? [/INST]\",\n",
    "    \"sampling_params\": {\n",
    "        \"temperature\": 0.9,\n",
    "    },\n",
    "}\n",
    "\n",
    "url = \"http://127.0.0.1:8000/llm/generate\"\n",
    "response = requests.post(url, json=data)\n",
    "# response.json()"
   ]
  },
  {
   "cell_type": "code",
   "execution_count": 11,
   "metadata": {},
   "outputs": [
    {
     "name": "stdout",
     "output_type": "stream",
     "text": [
      "{'text': ' Now I want to return to the conservation of mechanical energy.'}\n",
      "{'text': ' I have here a pendulum.'}\n",
      "{'text': ' I have an object that weighs 15 kilograms'}\n",
      "{'text': ' and I can lift it up one meter, which I have done now.'}\n",
      "{'text': ' If I let it fall, then that will be converted to kinetic energy.'}\n",
      "{'text': ' If I would let it swing from one meter height'}\n",
      "{'text': \" and you would be there and it would hit you, you'd be dead.\"}\n",
      "{'text': ' 150 joules is enough to kill you.'}\n",
      "{'text': ' You lift up a very heavy object, even heavier than this,'}\n",
      "{'text': ' and then you let it go, you swing it,'}\n",
      "{'text': ' thereby converting gravitational potential energy into kinetic energy'}\n",
      "{'text': ' and that way you can demolish a building.'}\n",
      "{'text': ' So you are using, then, the conversion of gravitational potential energy'}\n",
      "{'text': ' to kinetic energy.'}\n",
      "{'text': ' Now, I am such a strong believer of the conservation of mechanical energy'}\n",
      "{'text': ' that I am willing to put my life on the line.'}\n",
      "{'text': ' If I release that bob from a certain height,'}\n",
      "{'text': ' then that bob can never come back to a point where the height is any larger.'}\n",
      "{'text': ' If I release it from this height and it swings,'}\n",
      "{'text': ' then when it reaches here, it could not be higher.'}\n",
      "{'text': ' It should not be able to reach any higher'}\n",
      "{'text': ' provided that I do not give this object an initial speed when I stand here.'}\n",
      "{'text': ' I trust the conservation of mechanical energy for 100%.'}\n",
      "{'text': ' I may not trust myself.'}\n",
      "{'text': ' And I hope I will be able to do it at zero speed'}\n",
      "{'text': ' so that when it comes back, it may touch my chin,'}\n",
      "{'text': ' but it may not crush my chin.'}\n",
      "{'text': ' I want you to be extremely quiet because this is no joke.'}\n",
      "{'text': \" I want you to be very quiet. I almost didn't sleep all night.\"}\n",
      "{'text': ' Three, two, one, zero.'}\n",
      "{'text': ' Physics works and I am still alive.'}\n",
      "\n",
      "\n",
      "===================\n",
      "End of Transcription\n"
     ]
    }
   ],
   "source": [
    "# whisper transcribe stream example (with audio input)\n",
    "import requests, json, pdb\n",
    "\n",
    "data = {\n",
    "    \"video\": {\"path\": \"/workspaces/aana_sdk/aana/tests/files/audios/physicsworks.wav\"},\n",
    "}\n",
    "\n",
    "url = \"http://127.0.0.1:8001/video/transcribe\"\n",
    "\n",
    "response = requests.post(url, data={\"body\": json.dumps(data)}, stream=True)\n",
    "for chunk in response.iter_content(chunk_size=None):\n",
    "    json_data = json.loads(chunk)\n",
    "\n",
    "    if \"error\" in json_data:\n",
    "        print(json_data[\"error\"])\n",
    "        print(json_data[\"message\"])\n",
    "        print(json_data[\"stacktrace\"])\n",
    "        break\n",
    "\n",
    "    segments = json_data.get(\"transcription\")\n",
    "    if segments:\n",
    "        print(segments)\n",
    "        # print(segments[0][\"text\"])\n",
    "    else:\n",
    "        print(\"\\n\")\n",
    "        print(\"===================\")\n",
    "        print(\"End of Transcription\")"
   ]
  },
  {
   "cell_type": "code",
   "execution_count": 19,
   "metadata": {},
   "outputs": [
    {
     "name": "stdout",
     "output_type": "stream",
     "text": [
      " Now I want to return to the conservation of mechanical energy. I have here a pendulum. I have an object that weighs 15 kilograms and I can lift it up one meter, which I have done now. That means I've done work. mgh is the work I have done, believe me. I've increased the potential energy of this object. 15 times 10 is about 150 joules.\n",
      " then that will be converted to kinetic energy. If I would let it swing from one meter height and you would be there and it would hit you, you'd be dead. 150 joules is enough to kill you. They use these devices. They're called a racquetball. They use them to demolish buildings. You lift up a very heavy object, even heavier than this\n",
      " And then you let it go, you swing it, thereby converting gravitational potential energy into kinetic energy, and that way you can demolish a building. You just let it hit... and it breaks a building. And that's the whole idea of wrecking. So you are using, then, the conversion of gravitational potential energy to kinetic energy.\n",
      " Now, I am such a strong believer of the conservation of mechanical energy that I am willing to put my life on the line. If I release that bob from a certain height then that bob can never come back to a point where the height is any larger.\n",
      " and it swings, then when it reaches here it could not be higher. There is a conversion from gravitational potential energy to kinetic energy back to gravitational potential energy and it will come to a stop here. And when it swings back, it should not be able to reach any higher, provided that I do not give this object an initial speed when I stand here.\n",
      " the conservation of mechanical energy for 100%. I may not trust myself. I'm going to release this object and I hope I will be able to do it at zero speed so that when it comes back it may touch my chin but it may not crush my chin. I want you to be extremely quiet because this is no joke. If I don't succeed in giving it zero speed\n",
      " then this will be my last lecture. I will close my eyes. I don't want to see this. So please be very quiet. I almost didn't sleep all night. Three, two, one, zero.\n",
      " Physics works, and I'm still alive.\n",
      "===================\n",
      "End of Transcription\n"
     ]
    }
   ],
   "source": [
    "import requests, json\n",
    "\n",
    "# whisper batched transcribe stream example (with video input)\n",
    "#  Tested with: mp4, mxf, wav, mpeg, mov\n",
    "#  MP3, AAC, m4a, ts\n",
    "# Tested with video, audio and video without audio channel\n",
    "data = {\n",
    "    \"video\": {\n",
    "        \"path\": \"/workspaces/aana_sdk/aana/tests/files/videos/physicsworks.webm\",  # aana/tests/files/videos/physicsworks.webm\",\n",
    "    },\n",
    "}\n",
    "\n",
    "url = \"http://127.0.0.1:8001/video/transcribe_in_chunks\"\n",
    "\n",
    "response = requests.post(url, data={\"body\": json.dumps(data)}, stream=True)\n",
    "for chunk in response.iter_content(chunk_size=None):\n",
    "    json_data = json.loads(chunk)\n",
    "    if \"error\" in json_data:\n",
    "        print(json_data[\"error\"])\n",
    "        print(json_data[\"message\"])\n",
    "        print(json_data[\"stacktrace\"])\n",
    "        break\n",
    "\n",
    "    segments = json_data.get(\"segments\")\n",
    "\n",
    "    if segments:\n",
    "        print(segments[0][\"text\"])\n",
    "    else:\n",
    "        if segments == []:  # Empty segments for no-audio case\n",
    "            continue\n",
    "        print(\"===================\")\n",
    "        print(\"End of Transcription\")\n",
    "\n",
    "# print(json_data)  # To get transcription_id as well"
   ]
  },
  {
   "cell_type": "code",
   "execution_count": 2,
   "metadata": {},
   "outputs": [
    {
     "name": "stdout",
     "output_type": "stream",
     "text": [
      "[100.40857911109924, 92.53680682182312, 93.19299221038818, 92.7681987285614, 92.4898133277893, 91.91909074783325, 92.23066234588623, 91.05932140350342, 91.68245553970337, 94.19734644889832]\n"
     ]
    }
   ],
   "source": [
    "# transcribe sequential benchmarking from /nas dataset\n",
    "import os, requests, json\n",
    "import time\n",
    "\n",
    "# documentary videos\n",
    "url = \"http://127.0.0.1:8001/video/transcribe_batch\"\n",
    "base_dir = \"/nas/jilt/datasets/Documentaries/Crawler/all_videos\"\n",
    "\n",
    "paths = [\n",
    "    os.path.join(base_dir, pth) for pth in os.listdir(base_dir) if pth.endswith(\".mp4\")\n",
    "]\n",
    "difference = []\n",
    "for i in range(10):\n",
    "    start_time = time.time()\n",
    "    for path in paths:\n",
    "        data = {\n",
    "            \"video\": {\"path\": path},\n",
    "        }\n",
    "        response = requests.post(url, data={\"body\": json.dumps(data)}, stream=True)\n",
    "\n",
    "        for chunk in response.iter_content(chunk_size=None):\n",
    "            json_data = json.loads(chunk)\n",
    "\n",
    "            if \"error\" in json_data:\n",
    "                print(json_data[\"error\"])\n",
    "                print(json_data[\"message\"])\n",
    "                print(json_data[\"stacktrace\"])\n",
    "                break\n",
    "\n",
    "            segments = json_data.get(\"segments\")\n",
    "\n",
    "    differ = time.time() - start_time\n",
    "    difference.append(differ)\n",
    "print(difference)"
   ]
  },
  {
   "cell_type": "code",
   "execution_count": 27,
   "metadata": {},
   "outputs": [
    {
     "name": "stdout",
     "output_type": "stream",
     "text": [
      "[45.32583928108215, 47.194429874420166, 44.753589391708374, 45.29305362701416, 44.94037747383118, 44.15987682342529, 43.98680377006531, 49.56646513938904, 43.43703770637512, 44.23016595840454]\n"
     ]
    }
   ],
   "source": [
    "# transcribe threading benchmarking based on /nas dataset with 2 whisper replicas on 2 small ada GPUs\n",
    "import os, requests, json\n",
    "import time\n",
    "import threading\n",
    "from concurrent.futures import ThreadPoolExecutor\n",
    "\n",
    "# documentary videos\n",
    "url = \"http://127.0.0.1:8001/video/transcribe_batch\"\n",
    "base_dir = \"/nas/jilt/datasets/Documentaries/Crawler/all_videos\"\n",
    "\n",
    "paths = [\n",
    "    os.path.join(base_dir, pth) for pth in os.listdir(base_dir) if pth.endswith(\".mp4\")\n",
    "]\n",
    "\n",
    "difference = []\n",
    "\n",
    "\n",
    "def predict_on_video(path):\n",
    "    data = {\n",
    "        \"video\": {\"path\": path},\n",
    "    }\n",
    "    response = requests.post(url, data={\"body\": json.dumps(data)}, stream=True)\n",
    "    op_text = []\n",
    "    for chunk in response.iter_content(chunk_size=None):\n",
    "        json_data = json.loads(chunk)\n",
    "        if \"error\" in json_data:\n",
    "            print(json_data[\"error\"])\n",
    "            print(json_data[\"message\"])\n",
    "            print(json_data[\"stacktrace\"])\n",
    "            break\n",
    "\n",
    "        segments = json_data.get(\"segments\")\n",
    "        if segments:\n",
    "            op_text.append(segments[0][\"text\"])\n",
    "        else:\n",
    "            return op_text\n",
    "\n",
    "\n",
    "# now do it for 20 iterations\n",
    "difference = []\n",
    "for i in range(10):\n",
    "    start_time = time.time()\n",
    "    with ThreadPoolExecutor(max_workers=10) as executor:\n",
    "\n",
    "        def worker_func(path):\n",
    "            return predict_on_video(path)\n",
    "\n",
    "        results = list(\n",
    "            zip(paths, executor.map(worker_func, paths))\n",
    "        )  # should get a list of lists.\n",
    "    differ = time.time() - start_time\n",
    "    difference.append(differ)\n",
    "print(difference)"
   ]
  }
 ],
 "metadata": {
  "kernelspec": {
   "display_name": "aana-vIr3-B0u-py3.10",
   "language": "python",
   "name": "python3"
  },
  "language_info": {
   "codemirror_mode": {
    "name": "ipython",
    "version": 3
   },
   "file_extension": ".py",
   "mimetype": "text/x-python",
   "name": "python",
   "nbconvert_exporter": "python",
   "pygments_lexer": "ipython3",
   "version": "3.10.13"
  }
 },
 "nbformat": 4,
 "nbformat_minor": 2
}
