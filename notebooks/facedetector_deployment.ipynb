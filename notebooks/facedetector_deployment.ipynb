{
 "cells": [
  {
   "cell_type": "code",
   "execution_count": 1,
   "metadata": {},
   "outputs": [],
   "source": [
    "import os\n",
    "\n",
    "os.environ[\"CUDA_VISIBLE_DEVICES\"] = \"4\""
   ]
  },
  {
   "cell_type": "code",
   "execution_count": 2,
   "metadata": {},
   "outputs": [
    {
     "name": "stderr",
     "output_type": "stream",
     "text": [
      "/root/.cache/pypoetry/virtualenvs/aana-vIr3-B0u-py3.10/lib/python3.10/site-packages/tqdm/auto.py:21: TqdmWarning: IProgress not found. Please update jupyter and ipywidgets. See https://ipywidgets.readthedocs.io/en/stable/user_install.html\n",
      "  from .autonotebook import tqdm as notebook_tqdm\n",
      "2024-06-21 09:16:23,565\tINFO util.py:154 -- Missing packages: ['ipywidgets']. Run `pip install -U ipywidgets`, then restart the notebook server for rich notebook output.\n",
      "/root/.cache/pypoetry/virtualenvs/aana-vIr3-B0u-py3.10/lib/python3.10/site-packages/pydantic/_internal/_fields.py:160: UserWarning: Field \"model_dir\" has conflict with protected namespace \"model_\".\n",
      "\n",
      "You may be able to resolve this warning by setting `model_config['protected_namespaces'] = ('settings_',)`.\n",
      "  warnings.warn(\n",
      "INFO  [alembic.runtime.migration] Context impl SQLiteImpl.\n",
      "INFO  [alembic.runtime.migration] Will assume non-transactional DDL.\n",
      "INFO  [alembic.runtime.migration] Running upgrade  -> b5a993b53e6c, Initialize.\n",
      "INFO  [alembic.runtime.migration] Running upgrade b5a993b53e6c -> 86a31568e6c2, Added video title and description.\n",
      "INFO  [alembic.runtime.migration] Running upgrade 86a31568e6c2 -> 0918cb09ac67, Name constraints, fix cascading deletes.\n",
      "\u001b[36m(ProxyActor pid=5902)\u001b[0m INFO 2024-06-21 09:16:35,634 proxy 172.17.0.3 proxy.py:1161 - Proxy starting on node 85e297ac579b7e5ece3926817366844fc9b75147b099779e0eccc7a3 (HTTP port: 8000).\n"
     ]
    },
    {
     "name": "stderr",
     "output_type": "stream",
     "text": [
      "\u001b[33m(raylet)\u001b[0m [2024-06-21 09:16:40,244 E 2194 2232] (raylet) file_system_monitor.cc:111: /tmp/ray/session_2024-06-21_09-16-27_387283_1852 is over 95% full, available space: 8580161536; capacity: 983347249152. Object creation will fail if spilling is required.\n",
      "\u001b[33m(raylet)\u001b[0m [2024-06-21 09:16:50,257 E 2194 2232] (raylet) file_system_monitor.cc:111: /tmp/ray/session_2024-06-21_09-16-27_387283_1852 is over 95% full, available space: 8580141056; capacity: 983347249152. Object creation will fail if spilling is required.\n",
      "\u001b[33m(raylet)\u001b[0m [2024-06-21 09:17:00,270 E 2194 2232] (raylet) file_system_monitor.cc:111: /tmp/ray/session_2024-06-21_09-16-27_387283_1852 is over 95% full, available space: 8580005888; capacity: 983347249152. Object creation will fail if spilling is required.\n",
      "\u001b[33m(raylet)\u001b[0m [2024-06-21 09:17:10,283 E 2194 2232] (raylet) file_system_monitor.cc:111: /tmp/ray/session_2024-06-21_09-16-27_387283_1852 is over 95% full, available space: 8579870720; capacity: 983347249152. Object creation will fail if spilling is required.\n",
      "\u001b[33m(raylet)\u001b[0m [2024-06-21 09:17:20,296 E 2194 2232] (raylet) file_system_monitor.cc:111: /tmp/ray/session_2024-06-21_09-16-27_387283_1852 is over 95% full, available space: 8579862528; capacity: 983347249152. Object creation will fail if spilling is required.\n",
      "\u001b[33m(raylet)\u001b[0m [2024-06-21 09:17:30,308 E 2194 2232] (raylet) file_system_monitor.cc:111: /tmp/ray/session_2024-06-21_09-16-27_387283_1852 is over 95% full, available space: 8579719168; capacity: 983347249152. Object creation will fail if spilling is required.\n",
      "\u001b[33m(raylet)\u001b[0m [2024-06-21 09:17:40,320 E 2194 2232] (raylet) file_system_monitor.cc:111: /tmp/ray/session_2024-06-21_09-16-27_387283_1852 is over 95% full, available space: 8579260416; capacity: 983347249152. Object creation will fail if spilling is required.\n",
      "\u001b[33m(raylet)\u001b[0m [2024-06-21 09:17:50,333 E 2194 2232] (raylet) file_system_monitor.cc:111: /tmp/ray/session_2024-06-21_09-16-27_387283_1852 is over 95% full, available space: 8390508544; capacity: 983347249152. Object creation will fail if spilling is required.\n",
      "\u001b[33m(raylet)\u001b[0m [2024-06-21 09:18:00,345 E 2194 2232] (raylet) file_system_monitor.cc:111: /tmp/ray/session_2024-06-21_09-16-27_387283_1852 is over 95% full, available space: 8177922048; capacity: 983347249152. Object creation will fail if spilling is required.\n",
      "\u001b[33m(raylet)\u001b[0m [2024-06-21 09:18:10,358 E 2194 2232] (raylet) file_system_monitor.cc:111: /tmp/ray/session_2024-06-21_09-16-27_387283_1852 is over 95% full, available space: 7771013120; capacity: 983347249152. Object creation will fail if spilling is required.\n",
      "\u001b[33m(raylet)\u001b[0m [2024-06-21 09:18:20,371 E 2194 2232] (raylet) file_system_monitor.cc:111: /tmp/ray/session_2024-06-21_09-16-27_387283_1852 is over 95% full, available space: 7770882048; capacity: 983347249152. Object creation will fail if spilling is required.\n",
      "\u001b[33m(raylet)\u001b[0m [2024-06-21 09:18:30,383 E 2194 2232] (raylet) file_system_monitor.cc:111: /tmp/ray/session_2024-06-21_09-16-27_387283_1852 is over 95% full, available space: 7770849280; capacity: 983347249152. Object creation will fail if spilling is required.\n",
      "\u001b[33m(raylet)\u001b[0m [2024-06-21 09:18:40,395 E 2194 2232] (raylet) file_system_monitor.cc:111: /tmp/ray/session_2024-06-21_09-16-27_387283_1852 is over 95% full, available space: 7770341376; capacity: 983347249152. Object creation will fail if spilling is required.\n",
      "\u001b[33m(raylet)\u001b[0m [2024-06-21 09:18:50,407 E 2194 2232] (raylet) file_system_monitor.cc:111: /tmp/ray/session_2024-06-21_09-16-27_387283_1852 is over 95% full, available space: 7770337280; capacity: 983347249152. Object creation will fail if spilling is required.\n",
      "\u001b[36m(ServeController pid=5819)\u001b[0m INFO 2024-06-21 09:18:56,567 controller 5819 deployment_state.py:1598 - Deploying new version of Deployment(name='FaceDetectorDeployment', app='face_detector') (initial target replicas: 1).\n",
      "\u001b[36m(ServeController pid=5819)\u001b[0m INFO 2024-06-21 09:18:56,680 controller 5819 deployment_state.py:1721 - Stopping 1 replicas of Deployment(name='FaceDetectorDeployment', app='face_detector') with outdated versions.\n",
      "\u001b[36m(ServeController pid=5819)\u001b[0m INFO 2024-06-21 09:18:56,680 controller 5819 deployment_state.py:1844 - Adding 1 replica to Deployment(name='FaceDetectorDeployment', app='face_detector').\n",
      "\u001b[36m(ServeReplica:face_detector:FaceDetectorDeployment pid=7913)\u001b[0m /root/.cache/pypoetry/virtualenvs/aana-vIr3-B0u-py3.10/lib/python3.10/site-packages/pydantic/_internal/_fields.py:160: UserWarning: Field \"model_dir\" has conflict with protected namespace \"model_\".\n",
      "\u001b[36m(ServeReplica:face_detector:FaceDetectorDeployment pid=7913)\u001b[0m \n",
      "\u001b[36m(ServeReplica:face_detector:FaceDetectorDeployment pid=7913)\u001b[0m You may be able to resolve this warning by setting `model_config['protected_namespaces'] = ('settings_',)`.\n",
      "\u001b[36m(ServeReplica:face_detector:FaceDetectorDeployment pid=7913)\u001b[0m   warnings.warn(\n",
      "\u001b[36m(ServeController pid=5819)\u001b[0m INFO 2024-06-21 09:18:58,733 controller 5819 deployment_state.py:2182 - Replica(id='ti0udsfo', deployment='FaceDetectorDeployment', app='face_detector') is stopped.\n",
      "\u001b[36m(ServeReplica:face_detector:FaceDetectorDeployment pid=7913)\u001b[0m /root/.cache/pypoetry/virtualenvs/aana-vIr3-B0u-py3.10/lib/python3.10/site-packages/pydantic/_internal/_fields.py:160: UserWarning: Field \"model_url\" has conflict with protected namespace \"model_\".\n",
      "\u001b[36m(ServeReplica:face_detector:FaceDetectorDeployment pid=7913)\u001b[0m \n",
      "\u001b[36m(ServeReplica:face_detector:FaceDetectorDeployment pid=7913)\u001b[0m You may be able to resolve this warning by setting `model_config['protected_namespaces'] = ()`.\n",
      "\u001b[36m(ServeReplica:face_detector:FaceDetectorDeployment pid=7913)\u001b[0m   warnings.warn(\n"
     ]
    }
   ],
   "source": [
    "from aana.sdk import AanaSDK\n",
    "\n",
    "\n",
    "aana_app = AanaSDK()\n",
    "aana_app.connect(show_logs=True)"
   ]
  },
  {
   "cell_type": "code",
   "execution_count": 4,
   "metadata": {},
   "outputs": [
    {
     "name": "stdout",
     "output_type": "stream",
     "text": [
      "\u001b[36m(ServeReplica:face_detector:FaceDetectorDeployment pid=7913)\u001b[0m Available providers: ['CUDAExecutionProvider', 'CPUExecutionProvider']\n"
     ]
    },
    {
     "name": "stderr",
     "output_type": "stream",
     "text": [
      "\u001b[33m(raylet)\u001b[0m [2024-06-21 09:19:00,419 E 2194 2232] (raylet) file_system_monitor.cc:111: /tmp/ray/session_2024-06-21_09-16-27_387283_1852 is over 95% full, available space: 7770275840; capacity: 983347249152. Object creation will fail if spilling is required.\n",
      "\u001b[33m(raylet)\u001b[0m [2024-06-21 09:19:10,431 E 2194 2232] (raylet) file_system_monitor.cc:111: /tmp/ray/session_2024-06-21_09-16-27_387283_1852 is over 95% full, available space: 7770267648; capacity: 983347249152. Object creation will fail if spilling is required.\n",
      "\u001b[36m(ServeReplica:face_detector:FaceDetectorDeployment pid=7913)\u001b[0m INFO 2024-06-21 09:19:17,104 face_detector_FaceDetectorDeployment wzb9lrek 035c94fb-067d-47c6-bc16-da8da7329655 replica.py:373 - GET_METHODS OK 6.4ms\n",
      "\u001b[33m(raylet)\u001b[0m [2024-06-21 09:19:20,444 E 2194 2232] (raylet) file_system_monitor.cc:111: /tmp/ray/session_2024-06-21_09-16-27_387283_1852 is over 95% full, available space: 7770247168; capacity: 983347249152. Object creation will fail if spilling is required.\n",
      "\u001b[36m(ServeReplica:face_detector:FaceDetectorDeployment pid=7913)\u001b[0m INFO 2024-06-21 09:19:28,214 face_detector_FaceDetectorDeployment wzb9lrek b4ccaee7-1960-42bb-b4c8-3376ea69b6de replica.py:373 - PREDICT OK 2211.6ms\n",
      "\u001b[33m(raylet)\u001b[0m [2024-06-21 09:19:30,457 E 2194 2232] (raylet) file_system_monitor.cc:111: /tmp/ray/session_2024-06-21_09-16-27_387283_1852 is over 95% full, available space: 7767232512; capacity: 983347249152. Object creation will fail if spilling is required.\n",
      "\u001b[33m(raylet)\u001b[0m [2024-06-21 09:19:40,469 E 2194 2232] (raylet) file_system_monitor.cc:111: /tmp/ray/session_2024-06-21_09-16-27_387283_1852 is over 95% full, available space: 7752826880; capacity: 983347249152. Object creation will fail if spilling is required.\n",
      "\u001b[33m(raylet)\u001b[0m [2024-06-21 09:19:50,482 E 2194 2232] (raylet) file_system_monitor.cc:111: /tmp/ray/session_2024-06-21_09-16-27_387283_1852 is over 95% full, available space: 7746850816; capacity: 983347249152. Object creation will fail if spilling is required.\n",
      "\u001b[33m(raylet)\u001b[0m [2024-06-21 09:20:00,495 E 2194 2232] (raylet) file_system_monitor.cc:111: /tmp/ray/session_2024-06-21_09-16-27_387283_1852 is over 95% full, available space: 7746842624; capacity: 983347249152. Object creation will fail if spilling is required.\n",
      "\u001b[33m(raylet)\u001b[0m [2024-06-21 09:20:10,508 E 2194 2232] (raylet) file_system_monitor.cc:111: /tmp/ray/session_2024-06-21_09-16-27_387283_1852 is over 95% full, available space: 7746838528; capacity: 983347249152. Object creation will fail if spilling is required.\n",
      "\u001b[33m(raylet)\u001b[0m [2024-06-21 09:20:20,521 E 2194 2232] (raylet) file_system_monitor.cc:111: /tmp/ray/session_2024-06-21_09-16-27_387283_1852 is over 95% full, available space: 7746695168; capacity: 983347249152. Object creation will fail if spilling is required.\n",
      "\u001b[33m(raylet)\u001b[0m [2024-06-21 09:20:30,534 E 2194 2232] (raylet) file_system_monitor.cc:111: /tmp/ray/session_2024-06-21_09-16-27_387283_1852 is over 95% full, available space: 7746654208; capacity: 983347249152. Object creation will fail if spilling is required.\n",
      "\u001b[33m(raylet)\u001b[0m [2024-06-21 09:20:40,546 E 2194 2232] (raylet) file_system_monitor.cc:111: /tmp/ray/session_2024-06-21_09-16-27_387283_1852 is over 95% full, available space: 7746084864; capacity: 983347249152. Object creation will fail if spilling is required.\n",
      "\u001b[36m(ServeController pid=5819)\u001b[0m INFO 2024-06-21 09:20:42,150 controller 5819 deployment_state.py:1598 - Deploying new version of Deployment(name='FacefeatureExtractorDeployment', app='facefeat_extractor') (initial target replicas: 1).\n",
      "\u001b[36m(ServeController pid=5819)\u001b[0m INFO 2024-06-21 09:20:42,258 controller 5819 deployment_state.py:1844 - Adding 1 replica to Deployment(name='FacefeatureExtractorDeployment', app='facefeat_extractor').\n",
      "\u001b[36m(ServeReplica:facefeat_extractor:FacefeatureExtractorDeployment pid=8574)\u001b[0m /root/.cache/pypoetry/virtualenvs/aana-vIr3-B0u-py3.10/lib/python3.10/site-packages/pydantic/_internal/_fields.py:160: UserWarning: Field \"model_dir\" has conflict with protected namespace \"model_\".\n",
      "\u001b[36m(ServeReplica:facefeat_extractor:FacefeatureExtractorDeployment pid=8574)\u001b[0m \n",
      "\u001b[36m(ServeReplica:facefeat_extractor:FacefeatureExtractorDeployment pid=8574)\u001b[0m You may be able to resolve this warning by setting `model_config['protected_namespaces'] = ('settings_',)`.\n",
      "\u001b[36m(ServeReplica:facefeat_extractor:FacefeatureExtractorDeployment pid=8574)\u001b[0m   warnings.warn(\n",
      "\u001b[36m(ServeReplica:facefeat_extractor:FacefeatureExtractorDeployment pid=8574)\u001b[0m /root/.cache/pypoetry/virtualenvs/aana-vIr3-B0u-py3.10/lib/python3.10/site-packages/pydantic/_internal/_fields.py:160: UserWarning: Field \"model_url\" has conflict with protected namespace \"model_\".\n",
      "\u001b[36m(ServeReplica:facefeat_extractor:FacefeatureExtractorDeployment pid=8574)\u001b[0m \n",
      "\u001b[36m(ServeReplica:facefeat_extractor:FacefeatureExtractorDeployment pid=8574)\u001b[0m You may be able to resolve this warning by setting `model_config['protected_namespaces'] = ()`.\n",
      "\u001b[36m(ServeReplica:facefeat_extractor:FacefeatureExtractorDeployment pid=8574)\u001b[0m   warnings.warn(\n",
      "\u001b[36m(ServeReplica:facefeat_extractor:FacefeatureExtractorDeployment pid=8574)\u001b[0m INFO 2024-06-21 09:20:50,271 facefeat_extractor_FacefeatureExtractorDeployment pnuxlmnz d5c284be-1d99-49a2-8fb6-6f30ee98a437 replica.py:373 - GET_METHODS OK 5.8ms\n",
      "\u001b[33m(raylet)\u001b[0m [2024-06-21 09:20:50,558 E 2194 2232] (raylet) file_system_monitor.cc:111: /tmp/ray/session_2024-06-21_09-16-27_387283_1852 is over 95% full, available space: 7746052096; capacity: 983347249152. Object creation will fail if spilling is required.\n",
      "\u001b[36m(ServeReplica:facefeat_extractor:FacefeatureExtractorDeployment pid=8574)\u001b[0m INFO 2024-06-21 09:20:54,608 facefeat_extractor_FacefeatureExtractorDeployment pnuxlmnz 68e281c9-09c2-45b0-a55b-615e6b9cfaac replica.py:373 - PREDICT OK 621.7ms\n",
      "\u001b[33m(raylet)\u001b[0m [2024-06-21 09:21:00,571 E 2194 2232] (raylet) file_system_monitor.cc:111: /tmp/ray/session_2024-06-21_09-16-27_387283_1852 is over 95% full, available space: 7744835584; capacity: 983347249152. Object creation will fail if spilling is required.\n",
      "\u001b[33m(raylet)\u001b[0m [2024-06-21 09:21:10,583 E 2194 2232] (raylet) file_system_monitor.cc:111: /tmp/ray/session_2024-06-21_09-16-27_387283_1852 is over 95% full, available space: 7744819200; capacity: 983347249152. Object creation will fail if spilling is required.\n",
      "\u001b[33m(raylet)\u001b[0m [2024-06-21 09:21:20,596 E 2194 2232] (raylet) file_system_monitor.cc:111: /tmp/ray/session_2024-06-21_09-16-27_387283_1852 is over 95% full, available space: 7744811008; capacity: 983347249152. Object creation will fail if spilling is required.\n",
      "\u001b[33m(raylet)\u001b[0m [2024-06-21 09:21:30,609 E 2194 2232] (raylet) file_system_monitor.cc:111: /tmp/ray/session_2024-06-21_09-16-27_387283_1852 is over 95% full, available space: 7744786432; capacity: 983347249152. Object creation will fail if spilling is required.\n",
      "\u001b[33m(raylet)\u001b[0m [2024-06-21 09:21:40,622 E 2194 2232] (raylet) file_system_monitor.cc:111: /tmp/ray/session_2024-06-21_09-16-27_387283_1852 is over 95% full, available space: 7744094208; capacity: 983347249152. Object creation will fail if spilling is required.\n",
      "\u001b[33m(raylet)\u001b[0m [2024-06-21 09:21:50,634 E 2194 2232] (raylet) file_system_monitor.cc:111: /tmp/ray/session_2024-06-21_09-16-27_387283_1852 is over 95% full, available space: 7743946752; capacity: 983347249152. Object creation will fail if spilling is required.\n",
      "\u001b[33m(raylet)\u001b[0m [2024-06-21 09:22:00,647 E 2194 2232] (raylet) file_system_monitor.cc:111: /tmp/ray/session_2024-06-21_09-16-27_387283_1852 is over 95% full, available space: 7743795200; capacity: 983347249152. Object creation will fail if spilling is required.\n",
      "\u001b[33m(raylet)\u001b[0m [2024-06-21 09:22:10,660 E 2194 2232] (raylet) file_system_monitor.cc:111: /tmp/ray/session_2024-06-21_09-16-27_387283_1852 is over 95% full, available space: 7743782912; capacity: 983347249152. Object creation will fail if spilling is required.\n",
      "\u001b[33m(raylet)\u001b[0m [2024-06-21 09:22:20,672 E 2194 2232] (raylet) file_system_monitor.cc:111: /tmp/ray/session_2024-06-21_09-16-27_387283_1852 is over 95% full, available space: 7743643648; capacity: 983347249152. Object creation will fail if spilling is required.\n",
      "\u001b[33m(raylet)\u001b[0m [2024-06-21 09:22:30,684 E 2194 2232] (raylet) file_system_monitor.cc:111: /tmp/ray/session_2024-06-21_09-16-27_387283_1852 is over 95% full, available space: 7743479808; capacity: 983347249152. Object creation will fail if spilling is required.\n",
      "\u001b[33m(raylet)\u001b[0m [2024-06-21 09:22:40,697 E 2194 2232] (raylet) file_system_monitor.cc:111: /tmp/ray/session_2024-06-21_09-16-27_387283_1852 is over 95% full, available space: 7743021056; capacity: 983347249152. Object creation will fail if spilling is required.\n",
      "\u001b[33m(raylet)\u001b[0m [2024-06-21 09:22:50,710 E 2194 2232] (raylet) file_system_monitor.cc:111: /tmp/ray/session_2024-06-21_09-16-27_387283_1852 is over 95% full, available space: 7743004672; capacity: 983347249152. Object creation will fail if spilling is required.\n",
      "\u001b[33m(raylet)\u001b[0m [2024-06-21 09:23:00,722 E 2194 2232] (raylet) file_system_monitor.cc:111: /tmp/ray/session_2024-06-21_09-16-27_387283_1852 is over 95% full, available space: 7742988288; capacity: 983347249152. Object creation will fail if spilling is required.\n",
      "\u001b[33m(raylet)\u001b[0m [2024-06-21 09:23:10,734 E 2194 2232] (raylet) file_system_monitor.cc:111: /tmp/ray/session_2024-06-21_09-16-27_387283_1852 is over 95% full, available space: 7742844928; capacity: 983347249152. Object creation will fail if spilling is required.\n",
      "\u001b[33m(raylet)\u001b[0m [2024-06-21 09:23:20,748 E 2194 2232] (raylet) file_system_monitor.cc:111: /tmp/ray/session_2024-06-21_09-16-27_387283_1852 is over 95% full, available space: 7742697472; capacity: 983347249152. Object creation will fail if spilling is required.\n",
      "\u001b[33m(raylet)\u001b[0m [2024-06-21 09:23:30,761 E 2194 2232] (raylet) file_system_monitor.cc:111: /tmp/ray/session_2024-06-21_09-16-27_387283_1852 is over 95% full, available space: 7742533632; capacity: 983347249152. Object creation will fail if spilling is required.\n",
      "\u001b[33m(raylet)\u001b[0m [2024-06-21 09:23:40,773 E 2194 2232] (raylet) file_system_monitor.cc:111: /tmp/ray/session_2024-06-21_09-16-27_387283_1852 is over 95% full, available space: 7742033920; capacity: 983347249152. Object creation will fail if spilling is required.\n",
      "\u001b[33m(raylet)\u001b[0m [2024-06-21 09:23:50,785 E 2194 2232] (raylet) file_system_monitor.cc:111: /tmp/ray/session_2024-06-21_09-16-27_387283_1852 is over 95% full, available space: 7742017536; capacity: 983347249152. Object creation will fail if spilling is required.\n",
      "\u001b[33m(raylet)\u001b[0m [2024-06-21 09:24:00,798 E 2194 2232] (raylet) file_system_monitor.cc:111: /tmp/ray/session_2024-06-21_09-16-27_387283_1852 is over 95% full, available space: 7741870080; capacity: 983347249152. Object creation will fail if spilling is required.\n",
      "\u001b[33m(raylet)\u001b[0m [2024-06-21 09:24:10,810 E 2194 2232] (raylet) file_system_monitor.cc:111: /tmp/ray/session_2024-06-21_09-16-27_387283_1852 is over 95% full, available space: 7741865984; capacity: 983347249152. Object creation will fail if spilling is required.\n",
      "\u001b[33m(raylet)\u001b[0m [2024-06-21 09:24:20,821 E 2194 2232] (raylet) file_system_monitor.cc:111: /tmp/ray/session_2024-06-21_09-16-27_387283_1852 is over 95% full, available space: 7741714432; capacity: 983347249152. Object creation will fail if spilling is required.\n",
      "\u001b[33m(raylet)\u001b[0m [2024-06-21 09:24:30,834 E 2194 2232] (raylet) file_system_monitor.cc:111: /tmp/ray/session_2024-06-21_09-16-27_387283_1852 is over 95% full, available space: 7741546496; capacity: 983347249152. Object creation will fail if spilling is required.\n",
      "\u001b[33m(raylet)\u001b[0m [2024-06-21 09:24:40,847 E 2194 2232] (raylet) file_system_monitor.cc:111: /tmp/ray/session_2024-06-21_09-16-27_387283_1852 is over 95% full, available space: 7741177856; capacity: 983347249152. Object creation will fail if spilling is required.\n",
      "\u001b[33m(raylet)\u001b[0m [2024-06-21 09:24:50,860 E 2194 2232] (raylet) file_system_monitor.cc:111: /tmp/ray/session_2024-06-21_09-16-27_387283_1852 is over 95% full, available space: 7741136896; capacity: 983347249152. Object creation will fail if spilling is required.\n",
      "\u001b[33m(raylet)\u001b[0m [2024-06-21 09:25:00,871 E 2194 2232] (raylet) file_system_monitor.cc:111: /tmp/ray/session_2024-06-21_09-16-27_387283_1852 is over 95% full, available space: 7741124608; capacity: 983347249152. Object creation will fail if spilling is required.\n",
      "\u001b[33m(raylet)\u001b[0m [2024-06-21 09:25:10,882 E 2194 2232] (raylet) file_system_monitor.cc:111: /tmp/ray/session_2024-06-21_09-16-27_387283_1852 is over 95% full, available space: 7741112320; capacity: 983347249152. Object creation will fail if spilling is required.\n",
      "\u001b[33m(raylet)\u001b[0m [2024-06-21 09:25:20,894 E 2194 2232] (raylet) file_system_monitor.cc:111: /tmp/ray/session_2024-06-21_09-16-27_387283_1852 is over 95% full, available space: 7741108224; capacity: 983347249152. Object creation will fail if spilling is required.\n",
      "\u001b[33m(raylet)\u001b[0m [2024-06-21 09:25:30,907 E 2194 2232] (raylet) file_system_monitor.cc:111: /tmp/ray/session_2024-06-21_09-16-27_387283_1852 is over 95% full, available space: 7741063168; capacity: 983347249152. Object creation will fail if spilling is required.\n",
      "\u001b[33m(raylet)\u001b[0m [2024-06-21 09:25:40,919 E 2194 2232] (raylet) file_system_monitor.cc:111: /tmp/ray/session_2024-06-21_09-16-27_387283_1852 is over 95% full, available space: 7740751872; capacity: 983347249152. Object creation will fail if spilling is required.\n",
      "\u001b[33m(raylet)\u001b[0m [2024-06-21 09:25:50,932 E 2194 2232] (raylet) file_system_monitor.cc:111: /tmp/ray/session_2024-06-21_09-16-27_387283_1852 is over 95% full, available space: 7740715008; capacity: 983347249152. Object creation will fail if spilling is required.\n",
      "\u001b[33m(raylet)\u001b[0m [2024-06-21 09:26:00,944 E 2194 2232] (raylet) file_system_monitor.cc:111: /tmp/ray/session_2024-06-21_09-16-27_387283_1852 is over 95% full, available space: 7725355008; capacity: 983347249152. Object creation will fail if spilling is required.\n",
      "\u001b[33m(raylet)\u001b[0m [2024-06-21 09:26:10,955 E 2194 2232] (raylet) file_system_monitor.cc:111: /tmp/ray/session_2024-06-21_09-16-27_387283_1852 is over 95% full, available space: 7689629696; capacity: 983347249152. Object creation will fail if spilling is required.\n",
      "\u001b[33m(raylet)\u001b[0m [2024-06-21 09:26:20,968 E 2194 2232] (raylet) file_system_monitor.cc:111: /tmp/ray/session_2024-06-21_09-16-27_387283_1852 is over 95% full, available space: 7687659520; capacity: 983347249152. Object creation will fail if spilling is required.\n",
      "\u001b[33m(raylet)\u001b[0m [2024-06-21 09:26:30,981 E 2194 2232] (raylet) file_system_monitor.cc:111: /tmp/ray/session_2024-06-21_09-16-27_387283_1852 is over 95% full, available space: 7687475200; capacity: 983347249152. Object creation will fail if spilling is required.\n",
      "\u001b[33m(raylet)\u001b[0m [2024-06-21 09:26:40,994 E 2194 2232] (raylet) file_system_monitor.cc:111: /tmp/ray/session_2024-06-21_09-16-27_387283_1852 is over 95% full, available space: 7686692864; capacity: 983347249152. Object creation will fail if spilling is required.\n",
      "\u001b[33m(raylet)\u001b[0m [2024-06-21 09:26:51,005 E 2194 2232] (raylet) file_system_monitor.cc:111: /tmp/ray/session_2024-06-21_09-16-27_387283_1852 is over 95% full, available space: 7686651904; capacity: 983347249152. Object creation will fail if spilling is required.\n",
      "\u001b[33m(raylet)\u001b[0m [2024-06-21 09:27:01,017 E 2194 2232] (raylet) file_system_monitor.cc:111: /tmp/ray/session_2024-06-21_09-16-27_387283_1852 is over 95% full, available space: 7686529024; capacity: 983347249152. Object creation will fail if spilling is required.\n",
      "\u001b[33m(raylet)\u001b[0m [2024-06-21 09:27:11,028 E 2194 2232] (raylet) file_system_monitor.cc:111: /tmp/ray/session_2024-06-21_09-16-27_387283_1852 is over 95% full, available space: 7686369280; capacity: 983347249152. Object creation will fail if spilling is required.\n",
      "\u001b[33m(raylet)\u001b[0m [2024-06-21 09:27:21,039 E 2194 2232] (raylet) file_system_monitor.cc:111: /tmp/ray/session_2024-06-21_09-16-27_387283_1852 is over 95% full, available space: 7686086656; capacity: 983347249152. Object creation will fail if spilling is required.\n",
      "\u001b[33m(raylet)\u001b[0m [2024-06-21 09:27:31,051 E 2194 2232] (raylet) file_system_monitor.cc:111: /tmp/ray/session_2024-06-21_09-16-27_387283_1852 is over 95% full, available space: 7685935104; capacity: 983347249152. Object creation will fail if spilling is required.\n",
      "\u001b[33m(raylet)\u001b[0m [2024-06-21 09:27:41,063 E 2194 2232] (raylet) file_system_monitor.cc:111: /tmp/ray/session_2024-06-21_09-16-27_387283_1852 is over 95% full, available space: 7685459968; capacity: 983347249152. Object creation will fail if spilling is required.\n",
      "\u001b[33m(raylet)\u001b[0m [2024-06-21 09:27:51,076 E 2194 2232] (raylet) file_system_monitor.cc:111: /tmp/ray/session_2024-06-21_09-16-27_387283_1852 is over 95% full, available space: 7685251072; capacity: 983347249152. Object creation will fail if spilling is required.\n",
      "\u001b[33m(raylet)\u001b[0m [2024-06-21 09:28:01,088 E 2194 2232] (raylet) file_system_monitor.cc:111: /tmp/ray/session_2024-06-21_09-16-27_387283_1852 is over 95% full, available space: 7685115904; capacity: 983347249152. Object creation will fail if spilling is required.\n",
      "\u001b[33m(raylet)\u001b[0m [2024-06-21 09:28:11,100 E 2194 2232] (raylet) file_system_monitor.cc:111: /tmp/ray/session_2024-06-21_09-16-27_387283_1852 is over 95% full, available space: 7684964352; capacity: 983347249152. Object creation will fail if spilling is required.\n",
      "\u001b[33m(raylet)\u001b[0m [2024-06-21 09:28:21,112 E 2194 2232] (raylet) file_system_monitor.cc:111: /tmp/ray/session_2024-06-21_09-16-27_387283_1852 is over 95% full, available space: 7684784128; capacity: 983347249152. Object creation will fail if spilling is required.\n",
      "\u001b[33m(raylet)\u001b[0m [2024-06-21 09:28:31,124 E 2194 2232] (raylet) file_system_monitor.cc:111: /tmp/ray/session_2024-06-21_09-16-27_387283_1852 is over 95% full, available space: 7684489216; capacity: 983347249152. Object creation will fail if spilling is required.\n",
      "\u001b[33m(raylet)\u001b[0m [2024-06-21 09:28:41,135 E 2194 2232] (raylet) file_system_monitor.cc:111: /tmp/ray/session_2024-06-21_09-16-27_387283_1852 is over 95% full, available space: 7683678208; capacity: 983347249152. Object creation will fail if spilling is required.\n",
      "\u001b[33m(raylet)\u001b[0m [2024-06-21 09:28:51,148 E 2194 2232] (raylet) file_system_monitor.cc:111: /tmp/ray/session_2024-06-21_09-16-27_387283_1852 is over 95% full, available space: 7683506176; capacity: 983347249152. Object creation will fail if spilling is required.\n",
      "\u001b[33m(raylet)\u001b[0m [2024-06-21 09:29:01,161 E 2194 2232] (raylet) file_system_monitor.cc:111: /tmp/ray/session_2024-06-21_09-16-27_387283_1852 is over 95% full, available space: 7683497984; capacity: 983347249152. Object creation will fail if spilling is required.\n",
      "\u001b[33m(raylet)\u001b[0m [2024-06-21 09:29:11,174 E 2194 2232] (raylet) file_system_monitor.cc:111: /tmp/ray/session_2024-06-21_09-16-27_387283_1852 is over 95% full, available space: 7683342336; capacity: 983347249152. Object creation will fail if spilling is required.\n",
      "\u001b[33m(raylet)\u001b[0m [2024-06-21 09:29:21,188 E 2194 2232] (raylet) file_system_monitor.cc:111: /tmp/ray/session_2024-06-21_09-16-27_387283_1852 is over 95% full, available space: 7683334144; capacity: 983347249152. Object creation will fail if spilling is required.\n",
      "\u001b[33m(raylet)\u001b[0m [2024-06-21 09:29:31,200 E 2194 2232] (raylet) file_system_monitor.cc:111: /tmp/ray/session_2024-06-21_09-16-27_387283_1852 is over 95% full, available space: 7683162112; capacity: 983347249152. Object creation will fail if spilling is required.\n",
      "\u001b[33m(raylet)\u001b[0m [2024-06-21 09:29:41,211 E 2194 2232] (raylet) file_system_monitor.cc:111: /tmp/ray/session_2024-06-21_09-16-27_387283_1852 is over 95% full, available space: 7682662400; capacity: 983347249152. Object creation will fail if spilling is required.\n",
      "\u001b[33m(raylet)\u001b[0m [2024-06-21 09:29:51,224 E 2194 2232] (raylet) file_system_monitor.cc:111: /tmp/ray/session_2024-06-21_09-16-27_387283_1852 is over 95% full, available space: 7682654208; capacity: 983347249152. Object creation will fail if spilling is required.\n",
      "\u001b[33m(raylet)\u001b[0m [2024-06-21 09:30:01,235 E 2194 2232] (raylet) file_system_monitor.cc:111: /tmp/ray/session_2024-06-21_09-16-27_387283_1852 is over 95% full, available space: 7682473984; capacity: 983347249152. Object creation will fail if spilling is required.\n",
      "\u001b[33m(raylet)\u001b[0m [2024-06-21 09:30:11,246 E 2194 2232] (raylet) file_system_monitor.cc:111: /tmp/ray/session_2024-06-21_09-16-27_387283_1852 is over 95% full, available space: 7682265088; capacity: 983347249152. Object creation will fail if spilling is required.\n",
      "\u001b[33m(raylet)\u001b[0m [2024-06-21 09:30:21,258 E 2194 2232] (raylet) file_system_monitor.cc:111: /tmp/ray/session_2024-06-21_09-16-27_387283_1852 is over 95% full, available space: 7682154496; capacity: 983347249152. Object creation will fail if spilling is required.\n",
      "\u001b[33m(raylet)\u001b[0m [2024-06-21 09:30:31,275 E 2194 2232] (raylet) file_system_monitor.cc:111: /tmp/ray/session_2024-06-21_09-16-27_387283_1852 is over 95% full, available space: 7682039808; capacity: 983347249152. Object creation will fail if spilling is required.\n",
      "\u001b[33m(raylet)\u001b[0m [2024-06-21 09:30:41,289 E 2194 2232] (raylet) file_system_monitor.cc:111: /tmp/ray/session_2024-06-21_09-16-27_387283_1852 is over 95% full, available space: 7681351680; capacity: 983347249152. Object creation will fail if spilling is required.\n",
      "\u001b[33m(raylet)\u001b[0m [2024-06-21 09:30:51,301 E 2194 2232] (raylet) file_system_monitor.cc:111: /tmp/ray/session_2024-06-21_09-16-27_387283_1852 is over 95% full, available space: 7681159168; capacity: 983347249152. Object creation will fail if spilling is required.\n",
      "\u001b[33m(raylet)\u001b[0m [2024-06-21 09:31:01,314 E 2194 2232] (raylet) file_system_monitor.cc:111: /tmp/ray/session_2024-06-21_09-16-27_387283_1852 is over 95% full, available space: 7681036288; capacity: 983347249152. Object creation will fail if spilling is required.\n",
      "\u001b[33m(raylet)\u001b[0m [2024-06-21 09:31:11,327 E 2194 2232] (raylet) file_system_monitor.cc:111: /tmp/ray/session_2024-06-21_09-16-27_387283_1852 is over 95% full, available space: 7680847872; capacity: 983347249152. Object creation will fail if spilling is required.\n",
      "\u001b[33m(raylet)\u001b[0m [2024-06-21 09:31:21,339 E 2194 2232] (raylet) file_system_monitor.cc:111: /tmp/ray/session_2024-06-21_09-16-27_387283_1852 is over 95% full, available space: 7680741376; capacity: 983347249152. Object creation will fail if spilling is required.\n",
      "\u001b[33m(raylet)\u001b[0m [2024-06-21 09:31:31,352 E 2194 2232] (raylet) file_system_monitor.cc:111: /tmp/ray/session_2024-06-21_09-16-27_387283_1852 is over 95% full, available space: 7680696320; capacity: 983347249152. Object creation will fail if spilling is required.\n",
      "\u001b[33m(raylet)\u001b[0m [2024-06-21 09:31:41,364 E 2194 2232] (raylet) file_system_monitor.cc:111: /tmp/ray/session_2024-06-21_09-16-27_387283_1852 is over 95% full, available space: 7680389120; capacity: 983347249152. Object creation will fail if spilling is required.\n",
      "\u001b[33m(raylet)\u001b[0m [2024-06-21 09:31:51,377 E 2194 2232] (raylet) file_system_monitor.cc:111: /tmp/ray/session_2024-06-21_09-16-27_387283_1852 is over 95% full, available space: 7680221184; capacity: 983347249152. Object creation will fail if spilling is required.\n",
      "\u001b[33m(raylet)\u001b[0m [2024-06-21 09:32:01,388 E 2194 2232] (raylet) file_system_monitor.cc:111: /tmp/ray/session_2024-06-21_09-16-27_387283_1852 is over 95% full, available space: 7680086016; capacity: 983347249152. Object creation will fail if spilling is required.\n",
      "\u001b[33m(raylet)\u001b[0m [2024-06-21 09:32:11,400 E 2194 2232] (raylet) file_system_monitor.cc:111: /tmp/ray/session_2024-06-21_09-16-27_387283_1852 is over 95% full, available space: 7679901696; capacity: 983347249152. Object creation will fail if spilling is required.\n",
      "\u001b[33m(raylet)\u001b[0m [2024-06-21 09:32:21,418 E 2194 2232] (raylet) file_system_monitor.cc:111: /tmp/ray/session_2024-06-21_09-16-27_387283_1852 is over 95% full, available space: 9766158336; capacity: 983347249152. Object creation will fail if spilling is required.\n",
      "\u001b[33m(raylet)\u001b[0m [2024-06-21 09:32:31,428 E 2194 2232] (raylet) file_system_monitor.cc:111: /tmp/ray/session_2024-06-21_09-16-27_387283_1852 is over 95% full, available space: 40875671552; capacity: 983347249152. Object creation will fail if spilling is required.\n",
      "\u001b[33m(raylet)\u001b[0m [2024-06-21 09:32:41,440 E 2194 2232] (raylet) file_system_monitor.cc:111: /tmp/ray/session_2024-06-21_09-16-27_387283_1852 is over 95% full, available space: 40874168320; capacity: 983347249152. Object creation will fail if spilling is required.\n",
      "\u001b[33m(raylet)\u001b[0m [2024-06-21 09:32:51,452 E 2194 2232] (raylet) file_system_monitor.cc:111: /tmp/ray/session_2024-06-21_09-16-27_387283_1852 is over 95% full, available space: 40135692288; capacity: 983347249152. Object creation will fail if spilling is required.\n",
      "\u001b[33m(raylet)\u001b[0m [2024-06-21 09:33:01,464 E 2194 2232] (raylet) file_system_monitor.cc:111: /tmp/ray/session_2024-06-21_09-16-27_387283_1852 is over 95% full, available space: 38955094016; capacity: 983347249152. Object creation will fail if spilling is required.\n",
      "\u001b[33m(raylet)\u001b[0m [2024-06-21 09:33:11,476 E 2194 2232] (raylet) file_system_monitor.cc:111: /tmp/ray/session_2024-06-21_09-16-27_387283_1852 is over 95% full, available space: 38300282880; capacity: 983347249152. Object creation will fail if spilling is required.\n",
      "\u001b[33m(raylet)\u001b[0m [2024-06-21 09:33:21,488 E 2194 2232] (raylet) file_system_monitor.cc:111: /tmp/ray/session_2024-06-21_09-16-27_387283_1852 is over 95% full, available space: 38031372288; capacity: 983347249152. Object creation will fail if spilling is required.\n",
      "\u001b[33m(raylet)\u001b[0m [2024-06-21 09:33:31,502 E 2194 2232] (raylet) file_system_monitor.cc:111: /tmp/ray/session_2024-06-21_09-16-27_387283_1852 is over 95% full, available space: 37672427520; capacity: 983347249152. Object creation will fail if spilling is required.\n",
      "\u001b[33m(raylet)\u001b[0m [2024-06-21 09:33:41,515 E 2194 2232] (raylet) file_system_monitor.cc:111: /tmp/ray/session_2024-06-21_09-16-27_387283_1852 is over 95% full, available space: 37187436544; capacity: 983347249152. Object creation will fail if spilling is required.\n",
      "\u001b[33m(raylet)\u001b[0m [2024-06-21 09:33:51,528 E 2194 2232] (raylet) file_system_monitor.cc:111: /tmp/ray/session_2024-06-21_09-16-27_387283_1852 is over 95% full, available space: 36671369216; capacity: 983347249152. Object creation will fail if spilling is required.\n",
      "\u001b[33m(raylet)\u001b[0m [2024-06-21 09:34:01,541 E 2194 2232] (raylet) file_system_monitor.cc:111: /tmp/ray/session_2024-06-21_09-16-27_387283_1852 is over 95% full, available space: 35808092160; capacity: 983347249152. Object creation will fail if spilling is required.\n",
      "\u001b[33m(raylet)\u001b[0m [2024-06-21 09:34:11,553 E 2194 2232] (raylet) file_system_monitor.cc:111: /tmp/ray/session_2024-06-21_09-16-27_387283_1852 is over 95% full, available space: 33594228736; capacity: 983347249152. Object creation will fail if spilling is required.\n",
      "\u001b[33m(raylet)\u001b[0m [2024-06-21 09:34:21,565 E 2194 2232] (raylet) file_system_monitor.cc:111: /tmp/ray/session_2024-06-21_09-16-27_387283_1852 is over 95% full, available space: 33547063296; capacity: 983347249152. Object creation will fail if spilling is required.\n",
      "\u001b[33m(raylet)\u001b[0m [2024-06-21 09:34:31,577 E 2194 2232] (raylet) file_system_monitor.cc:111: /tmp/ray/session_2024-06-21_09-16-27_387283_1852 is over 95% full, available space: 32973185024; capacity: 983347249152. Object creation will fail if spilling is required.\n",
      "\u001b[33m(raylet)\u001b[0m [2024-06-21 09:34:41,589 E 2194 2232] (raylet) file_system_monitor.cc:111: /tmp/ray/session_2024-06-21_09-16-27_387283_1852 is over 95% full, available space: 32170217472; capacity: 983347249152. Object creation will fail if spilling is required.\n",
      "\u001b[33m(raylet)\u001b[0m [2024-06-21 09:34:51,601 E 2194 2232] (raylet) file_system_monitor.cc:111: /tmp/ray/session_2024-06-21_09-16-27_387283_1852 is over 95% full, available space: 31395057664; capacity: 983347249152. Object creation will fail if spilling is required.\n",
      "\u001b[33m(raylet)\u001b[0m [2024-06-21 09:35:01,613 E 2194 2232] (raylet) file_system_monitor.cc:111: /tmp/ray/session_2024-06-21_09-16-27_387283_1852 is over 95% full, available space: 30894215168; capacity: 983347249152. Object creation will fail if spilling is required.\n",
      "\u001b[33m(raylet)\u001b[0m [2024-06-21 09:35:11,623 E 2194 2232] (raylet) file_system_monitor.cc:111: /tmp/ray/session_2024-06-21_09-16-27_387283_1852 is over 95% full, available space: 29864128512; capacity: 983347249152. Object creation will fail if spilling is required.\n",
      "\u001b[33m(raylet)\u001b[0m [2024-06-21 09:35:21,635 E 2194 2232] (raylet) file_system_monitor.cc:111: /tmp/ray/session_2024-06-21_09-16-27_387283_1852 is over 95% full, available space: 29540331520; capacity: 983347249152. Object creation will fail if spilling is required.\n",
      "\u001b[33m(raylet)\u001b[0m [2024-06-21 09:35:31,646 E 2194 2232] (raylet) file_system_monitor.cc:111: /tmp/ray/session_2024-06-21_09-16-27_387283_1852 is over 95% full, available space: 29284638720; capacity: 983347249152. Object creation will fail if spilling is required.\n",
      "\u001b[33m(raylet)\u001b[0m [2024-06-21 09:35:41,658 E 2194 2232] (raylet) file_system_monitor.cc:111: /tmp/ray/session_2024-06-21_09-16-27_387283_1852 is over 95% full, available space: 29015384064; capacity: 983347249152. Object creation will fail if spilling is required.\n",
      "\u001b[33m(raylet)\u001b[0m [2024-06-21 09:35:51,670 E 2194 2232] (raylet) file_system_monitor.cc:111: /tmp/ray/session_2024-06-21_09-16-27_387283_1852 is over 95% full, available space: 28515467264; capacity: 983347249152. Object creation will fail if spilling is required.\n",
      "\u001b[33m(raylet)\u001b[0m [2024-06-21 09:36:01,683 E 2194 2232] (raylet) file_system_monitor.cc:111: /tmp/ray/session_2024-06-21_09-16-27_387283_1852 is over 95% full, available space: 27897004032; capacity: 983347249152. Object creation will fail if spilling is required.\n",
      "\u001b[33m(raylet)\u001b[0m [2024-06-21 09:36:11,694 E 2194 2232] (raylet) file_system_monitor.cc:111: /tmp/ray/session_2024-06-21_09-16-27_387283_1852 is over 95% full, available space: 26912509952; capacity: 983347249152. Object creation will fail if spilling is required.\n",
      "\u001b[33m(raylet)\u001b[0m [2024-06-21 09:36:21,705 E 2194 2232] (raylet) file_system_monitor.cc:111: /tmp/ray/session_2024-06-21_09-16-27_387283_1852 is over 95% full, available space: 26502799360; capacity: 983347249152. Object creation will fail if spilling is required.\n",
      "\u001b[33m(raylet)\u001b[0m [2024-06-21 09:36:31,718 E 2194 2232] (raylet) file_system_monitor.cc:111: /tmp/ray/session_2024-06-21_09-16-27_387283_1852 is over 95% full, available space: 25750237184; capacity: 983347249152. Object creation will fail if spilling is required.\n",
      "\u001b[33m(raylet)\u001b[0m [2024-06-21 09:36:41,730 E 2194 2232] (raylet) file_system_monitor.cc:111: /tmp/ray/session_2024-06-21_09-16-27_387283_1852 is over 95% full, available space: 24910544896; capacity: 983347249152. Object creation will fail if spilling is required.\n",
      "\u001b[33m(raylet)\u001b[0m [2024-06-21 09:36:51,742 E 2194 2232] (raylet) file_system_monitor.cc:111: /tmp/ray/session_2024-06-21_09-16-27_387283_1852 is over 95% full, available space: 24884998144; capacity: 983347249152. Object creation will fail if spilling is required.\n",
      "\u001b[33m(raylet)\u001b[0m [2024-06-21 09:37:01,755 E 2194 2232] (raylet) file_system_monitor.cc:111: /tmp/ray/session_2024-06-21_09-16-27_387283_1852 is over 95% full, available space: 24937500672; capacity: 983347249152. Object creation will fail if spilling is required.\n",
      "\u001b[33m(raylet)\u001b[0m [2024-06-21 09:37:11,768 E 2194 2232] (raylet) file_system_monitor.cc:111: /tmp/ray/session_2024-06-21_09-16-27_387283_1852 is over 95% full, available space: 24937484288; capacity: 983347249152. Object creation will fail if spilling is required.\n",
      "\u001b[33m(raylet)\u001b[0m [2024-06-21 09:37:21,782 E 2194 2232] (raylet) file_system_monitor.cc:111: /tmp/ray/session_2024-06-21_09-16-27_387283_1852 is over 95% full, available space: 24937472000; capacity: 983347249152. Object creation will fail if spilling is required.\n",
      "\u001b[33m(raylet)\u001b[0m [2024-06-21 09:37:31,796 E 2194 2232] (raylet) file_system_monitor.cc:111: /tmp/ray/session_2024-06-21_09-16-27_387283_1852 is over 95% full, available space: 24937377792; capacity: 983347249152. Object creation will fail if spilling is required.\n",
      "\u001b[33m(raylet)\u001b[0m [2024-06-21 09:37:41,810 E 2194 2232] (raylet) file_system_monitor.cc:111: /tmp/ray/session_2024-06-21_09-16-27_387283_1852 is over 95% full, available space: 24936943616; capacity: 983347249152. Object creation will fail if spilling is required.\n",
      "\u001b[33m(raylet)\u001b[0m [2024-06-21 09:37:51,823 E 2194 2232] (raylet) file_system_monitor.cc:111: /tmp/ray/session_2024-06-21_09-16-27_387283_1852 is over 95% full, available space: 24936902656; capacity: 983347249152. Object creation will fail if spilling is required.\n",
      "\u001b[33m(raylet)\u001b[0m [2024-06-21 09:38:01,836 E 2194 2232] (raylet) file_system_monitor.cc:111: /tmp/ray/session_2024-06-21_09-16-27_387283_1852 is over 95% full, available space: 24936857600; capacity: 983347249152. Object creation will fail if spilling is required.\n",
      "\u001b[33m(raylet)\u001b[0m [2024-06-21 09:38:11,848 E 2194 2232] (raylet) file_system_monitor.cc:111: /tmp/ray/session_2024-06-21_09-16-27_387283_1852 is over 95% full, available space: 24898158592; capacity: 983347249152. Object creation will fail if spilling is required.\n",
      "\u001b[33m(raylet)\u001b[0m [2024-06-21 09:38:21,860 E 2194 2232] (raylet) file_system_monitor.cc:111: /tmp/ray/session_2024-06-21_09-16-27_387283_1852 is over 95% full, available space: 24858275840; capacity: 983347249152. Object creation will fail if spilling is required.\n",
      "\u001b[33m(raylet)\u001b[0m [2024-06-21 09:38:31,870 E 2194 2232] (raylet) file_system_monitor.cc:111: /tmp/ray/session_2024-06-21_09-16-27_387283_1852 is over 95% full, available space: 24833503232; capacity: 983347249152. Object creation will fail if spilling is required.\n",
      "\u001b[33m(raylet)\u001b[0m [2024-06-21 09:38:41,883 E 2194 2232] (raylet) file_system_monitor.cc:111: /tmp/ray/session_2024-06-21_09-16-27_387283_1852 is over 95% full, available space: 24832638976; capacity: 983347249152. Object creation will fail if spilling is required.\n"
     ]
    }
   ],
   "source": [
    "from aana.deployments.face_detection_deployment import (\n",
    "    FaceDetectorConfig,\n",
    "    FaceDetectorDeployment,\n",
    ")\n",
    "\n",
    "face_detector_deployment = FaceDetectorDeployment.options(\n",
    "    num_replicas=1,\n",
    "    ray_actor_options={\"num_gpus\": 0.1},\n",
    "    user_config=FaceDetectorConfig(\n",
    "        model_url=\"/nas/dominic/Production/FaceModel_REST/InsightFace-REST/models/onnx/scrfd_10g_gnkps/scrfd_10g_gnkps.onnx\",\n",
    "        nms_thresh=0.4,\n",
    "        batch_size=4,\n",
    "        input_size=640,\n",
    "    ).model_dump(mode=\"json\"),\n",
    ")\n",
    "\n",
    "aana_app.register_deployment(\"face_detector\", face_detector_deployment, deploy=True)"
   ]
  },
  {
   "cell_type": "code",
   "execution_count": 5,
   "metadata": {},
   "outputs": [],
   "source": [
    "from aana.deployments.aana_deployment_handle import AanaDeploymentHandle\n",
    "\n",
    "\n",
    "handle = await AanaDeploymentHandle.create(\"face_detector\")"
   ]
  },
  {
   "cell_type": "code",
   "execution_count": 6,
   "metadata": {},
   "outputs": [],
   "source": [
    "from aana.core.models.image import Image\n",
    "from pathlib import Path\n",
    "image = Image(path=Path(\"/nas/dominic/Production/FaceModel_REST/InsightFace-REST/src/api_trt/test_images/group_1.jpg\"))"
   ]
  },
  {
   "cell_type": "code",
   "execution_count": 7,
   "metadata": {},
   "outputs": [],
   "source": [
    "detector_output = await handle.predict([image])"
   ]
  },
  {
   "cell_type": "code",
   "execution_count": 8,
   "metadata": {},
   "outputs": [
    {
     "name": "stdout",
     "output_type": "stream",
     "text": [
      "{'bounding_boxes': [array([[384.54086   ,  60.97224   , 447.36746   , 147.87277   ,\n",
      "          0.8577642 ],\n",
      "       [433.33582   , 143.24683   , 528.5499    , 251.911     ,\n",
      "          0.8136517 ],\n",
      "       [294.98123   ,  76.552765  , 369.68015   , 158.42337   ,\n",
      "          0.8026969 ],\n",
      "       [ 74.67878   , 174.83174   , 157.06747   , 287.8034    ,\n",
      "          0.8024849 ],\n",
      "       [240.47298   , 160.65451   , 310.59863   , 261.87784   ,\n",
      "          0.7807217 ],\n",
      "       [310.00235   , 160.83907   , 379.83856   , 261.0729    ,\n",
      "          0.7789517 ],\n",
      "       [166.35059   ,  83.13015   , 241.7204    , 178.81956   ,\n",
      "          0.75995415]], dtype=float32)], 'keypoints': [array([[[395.08386 ,  97.8154  ],\n",
      "        [425.6294  ,  90.19366 ],\n",
      "        [410.0098  , 104.62544 ],\n",
      "        [401.13202 , 124.9643  ],\n",
      "        [429.13327 , 118.493324]],\n",
      "\n",
      "       [[452.32224 , 193.64856 ],\n",
      "        [489.60065 , 174.51643 ],\n",
      "        [476.46063 , 206.2497  ],\n",
      "        [469.32574 , 225.71524 ],\n",
      "        [507.31046 , 208.23306 ]],\n",
      "\n",
      "       [[325.2752  , 100.234795],\n",
      "        [350.5079  , 120.63783 ],\n",
      "        [328.05325 , 123.40097 ],\n",
      "        [308.67294 , 126.282486],\n",
      "        [330.72952 , 143.21216 ]],\n",
      "\n",
      "       [[111.95178 , 220.05544 ],\n",
      "        [145.78563 , 216.3879  ],\n",
      "        [140.65254 , 239.26482 ],\n",
      "        [111.66838 , 256.02505 ],\n",
      "        [145.06885 , 253.26474 ]],\n",
      "\n",
      "       [[266.47974 , 194.65701 ],\n",
      "        [298.9122  , 202.42471 ],\n",
      "        [282.5834  , 214.2537  ],\n",
      "        [259.97452 , 228.11504 ],\n",
      "        [290.08765 , 235.06529 ]],\n",
      "\n",
      "       [[322.86572 , 199.49794 ],\n",
      "        [356.6039  , 196.9671  ],\n",
      "        [337.3792  , 212.05333 ],\n",
      "        [325.97034 , 230.45448 ],\n",
      "        [358.24652 , 228.50598 ]],\n",
      "\n",
      "       [[191.45088 , 114.20684 ],\n",
      "        [223.8898  , 128.85512 ],\n",
      "        [201.15881 , 138.78848 ],\n",
      "        [179.87218 , 142.50066 ],\n",
      "        [211.29065 , 155.4566  ]]], dtype=float32)]}\n"
     ]
    }
   ],
   "source": [
    "print(detector_output)"
   ]
  },
  {
   "cell_type": "code",
   "execution_count": 10,
   "metadata": {},
   "outputs": [],
   "source": [
    "from aana.deployments.face_featureextraction_deployment import (\n",
    "    FacefeatureExtractorConfig,\n",
    "    FacefeatureExtractorDeployment,\n",
    ")\n",
    "\n",
    "facefeat_extractor_deployment = FacefeatureExtractorDeployment.options(\n",
    "    num_replicas=1,\n",
    "    ray_actor_options={\"num_gpus\": 0.5},\n",
    "    user_config=FacefeatureExtractorConfig(\n",
    "        model_url=\"/nas/dominic/AdaFace/pretrained/adaface_ir50_webface4m.ckpt\",\n",
    "        min_face_norm=18.0\n",
    "    ).model_dump(mode=\"json\"),\n",
    ")\n",
    "\n",
    "aana_app.register_deployment(\n",
    "    \"facefeat_extractor\", facefeat_extractor_deployment, deploy=True\n",
    ")"
   ]
  },
  {
   "cell_type": "code",
   "execution_count": 11,
   "metadata": {},
   "outputs": [],
   "source": [
    "from aana.deployments.aana_deployment_handle import AanaDeploymentHandle\n",
    "\n",
    "\n",
    "facefeat_handle = await AanaDeploymentHandle.create(\"facefeat_extractor\")"
   ]
  },
  {
   "cell_type": "code",
   "execution_count": 12,
   "metadata": {},
   "outputs": [],
   "source": [
    "keypoints = detector_output['keypoints']"
   ]
  },
  {
   "cell_type": "code",
   "execution_count": 13,
   "metadata": {},
   "outputs": [],
   "source": [
    "facefeat_output = await facefeat_handle.predict([image], keypoints)"
   ]
  },
  {
   "cell_type": "code",
   "execution_count": 14,
   "metadata": {},
   "outputs": [
    {
     "data": {
      "text/plain": [
       "{'facefeats_per_image': [{'face_feats': array([[-0.01961349, -0.0623821 , -0.00813501, ..., -0.05425359,\n",
       "            0.02324992, -0.01696939],\n",
       "          [-0.04928799,  0.03148894, -0.03748646, ...,  0.09751447,\n",
       "           -0.00310521,  0.04418212],\n",
       "          [ 0.03298211,  0.00803477,  0.03870542, ..., -0.08577755,\n",
       "           -0.05855932, -0.03082386],\n",
       "          ...,\n",
       "          [ 0.03602575, -0.06101663, -0.00808396, ...,  0.07198863,\n",
       "           -0.06150961, -0.01345934],\n",
       "          [-0.0419326 ,  0.00321984, -0.09398558, ...,  0.01119729,\n",
       "           -0.02694403, -0.01147183],\n",
       "          [-0.03697017,  0.00075135, -0.00875726, ...,  0.00301811,\n",
       "            0.07731081,  0.00929155]], dtype=float32),\n",
       "   'norms': array([[22.930727],\n",
       "          [22.830807],\n",
       "          [23.095766],\n",
       "          [24.813797],\n",
       "          [21.567142],\n",
       "          [22.338127],\n",
       "          [25.992365]], dtype=float32)}]}"
      ]
     },
     "execution_count": 14,
     "metadata": {},
     "output_type": "execute_result"
    }
   ],
   "source": [
    "facefeat_output"
   ]
  },
  {
   "cell_type": "code",
   "execution_count": 20,
   "metadata": {},
   "outputs": [
    {
     "data": {
      "text/plain": [
       "7"
      ]
     },
     "execution_count": 20,
     "metadata": {},
     "output_type": "execute_result"
    }
   ],
   "source": [
    "len(facefeat_output['facefeats_per_image'][0]['face_feats'])"
   ]
  },
  {
   "cell_type": "code",
   "execution_count": 45,
   "metadata": {},
   "outputs": [
    {
     "name": "stdout",
     "output_type": "stream",
     "text": [
      "{'images': [{'path': 'image1.jpg'}, {'path': 'image2.jpg'}, {'path': 'image3.jpg'}, {'path': 'image4.jpg'}, {'path': 'image5.jpg'}, {'path': 'image6.jpg'}, {'path': 'image7.jpg'}, {'path': 'image8.jpg'}, {'path': 'image9.jpg'}, {'path': 'image10.jpg'}]}\n"
     ]
    }
   ],
   "source": [
    "# Sample image paths\n",
    "image_paths = [\n",
    "    'image1.jpg', 'image2.jpg', 'image3.jpg', 'image4.jpg', 'image5.jpg',\n",
    "    'image6.jpg', 'image7.jpg', 'image8.jpg', 'image9.jpg', 'image10.jpg'\n",
    "]\n",
    "\n",
    "# Populate the data dictionary\n",
    "data = {\n",
    "    \"images\": [{'path': im_path} for im_path in image_paths[0:10]]\n",
    "}\n",
    "\n",
    "# Print the result\n",
    "print(data)"
   ]
  },
  {
   "cell_type": "code",
   "execution_count": 49,
   "metadata": {},
   "outputs": [],
   "source": [
    "import requests, json\n",
    "\n",
    "\n",
    "\n",
    "def extract_face_feats(im_path):\n",
    "    data = {\n",
    "    \"images\": [\n",
    "        {'path': im_path},\n",
    "        {'path': im_path}\n",
    "\n",
    "    ],\n",
    "    }\n",
    "\n",
    "    response = requests.post(\n",
    "        \"http://127.0.0.1:8000/recognize_faces\",\n",
    "        data={\"body\": json.dumps(data)},\n",
    "        stream=False,\n",
    "    )\n",
    "    res = response.json()\n",
    "\n",
    "    return res\n",
    "    #return res['face_features_per_image'][0]['face_feats'], res['face_features_per_image'][0]['norms'] \n",
    "\n",
    "def extract_face_feats_batched(im_paths):\n",
    "    data = {\n",
    "        \"images\": [{'path': im_path} for im_path in im_paths]\n",
    "    }\n",
    "\n",
    "    print(data)\n",
    "\n",
    "\n",
    "    response = requests.post(\n",
    "        \"http://127.0.0.1:8000/recognize_faces\",\n",
    "        data={\"body\": json.dumps(data)},\n",
    "        stream=False,\n",
    "    )\n",
    "    res = response.json()\n",
    "    \n",
    "    return res\n",
    "\n",
    "    # face_feats = [res['face_features_per_image'][k]['face_feats'] for k in range(len(res['face_features_per_image']))]\n",
    "    # norms = [res['face_features_per_image'][k]['norms'] for k in range(len(res['face_features_per_image']))]\n",
    "\n",
    "    # return face_feats, norms\n",
    "\n"
   ]
  },
  {
   "cell_type": "code",
   "execution_count": 40,
   "metadata": {},
   "outputs": [],
   "source": [
    "res = extract_face_feats(\"/nas/dominic/AanaFaceEval/identities_reference/default/000bb305-88c1-4490-977f-59e66b755cd4|||Ilse Neubauer.jpg\")"
   ]
  },
  {
   "cell_type": "code",
   "execution_count": 55,
   "metadata": {},
   "outputs": [
    {
     "name": "stdout",
     "output_type": "stream",
     "text": [
      "{'images': [{'path': '/nas/dominic/AanaFaceEval/identities_reference/default/000744f4-4131-44db-a569-ca211fa55a48|||Keita Machida.jpg'}, {'path': '/nas/dominic/AanaFaceEval/identities_reference/default/0007970d-a5d9-4791-bb47-9c52d4cf4473|||Caroleen Feeney.jpg'}, {'path': '/nas/dominic/AanaFaceEval/identities_reference/default/0009aaba-e0da-46c3-a557-72d318ce0bd8|||Ewa Fröling.jpg'}, {'path': '/nas/dominic/AanaFaceEval/identities_reference/default/000b66a3-5009-4513-aa13-535202c679b3|||Marielle Heller.jpg'}, {'path': '/nas/dominic/AanaFaceEval/identities_reference/default/000bb305-88c1-4490-977f-59e66b755cd4|||Ilse Neubauer.jpg'}, {'path': '/nas/dominic/AanaFaceEval/identities_reference/default/000d385b-ac12-41b0-9692-7abff6c5546a|||Michel Joelsas.jpg'}, {'path': '/nas/dominic/AanaFaceEval/identities_reference/default/00112729-6837-424c-bdf5-1709b9b38cba|||Patricia Hodge.jpg'}, {'path': '/nas/dominic/AanaFaceEval/identities_reference/default/00115272-41a7-4b22-bb5a-ea079aa2dea6|||Gillian Anderson.jpg'}, {'path': '/nas/dominic/AanaFaceEval/identities_reference/default/00120863-71aa-4489-83cb-2e90b736ca09|||Apoorva Gowda.jpg'}, {'path': '/nas/dominic/AanaFaceEval/identities_reference/default/0014b61b-1743-4f4d-a8a3-d23844c050c8|||Rebecca Pidgeon.jpg'}]}\n"
     ]
    }
   ],
   "source": [
    "data = {\n",
    "        \"images\": [{'path': im_path} for im_path in image_paths[0:10]]\n",
    "    }\n",
    "\n",
    "print(data)"
   ]
  },
  {
   "cell_type": "code",
   "execution_count": 72,
   "metadata": {},
   "outputs": [
    {
     "name": "stdout",
     "output_type": "stream",
     "text": [
      "{'images': [{'path': '/nas/dominic/AanaFaceEval/identities_reference/default/001c3bcf-3ab0-48cc-b805-c8da6ed3ba6a|||Eryk Lubos.jpg'}, {'path': '/nas/dominic/AanaFaceEval/identities_reference/default/001d0484-4b83-42da-bff9-145bcc46359b|||Sanjjanaa Archana Galrani.jpg'}, {'path': '/nas/dominic/AanaFaceEval/identities_reference/default/001e04f1-a8f4-45e0-a85d-59d8bf06f12a|||Gerald Okamura.jpg'}, {'path': '/nas/dominic/AanaFaceEval/identities_reference/default/0021297f-e5f7-4965-a0cd-bb42c4d70732|||Laurie Metcalf.jpg'}, {'path': '/nas/dominic/AanaFaceEval/identities_reference/default/00227c4a-8cf5-491f-823d-4bd6251efac1|||Luís Melo.jpg'}, {'path': '/nas/dominic/AanaFaceEval/identities_reference/default/0022e2e0-f72b-4470-af26-0b93527b3ebf|||Marie-Mae van Zuilen.jpg'}]}\n"
     ]
    }
   ],
   "source": [
    "res = extract_face_feats_batched(image_paths[13:19])"
   ]
  },
  {
   "cell_type": "code",
   "execution_count": 73,
   "metadata": {},
   "outputs": [
    {
     "data": {
      "text/plain": [
       "{'error': 'IndexError',\n",
       " 'message': 'list index out of range',\n",
       " 'data': {},\n",
       " 'stacktrace': '\\x1b[36mray::ServeReplica:facefeat_extractor_deployment:FacefeatureExtractorDeployment.handle_request_with_rejection()\\x1b[39m (pid=9498, ip=172.17.0.3, actor_id=2d13ca81aac0a71ca1ac728801000000, repr=<ray.serve._private.replica.ServeReplica:facefeat_extractor_deployment:FacefeatureExtractorDeployment object at 0x7f035bcd8af0>)\\n    yield await self._user_callable_wrapper.call_user_method(\\n  File \"/root/.cache/pypoetry/virtualenvs/aana-vIr3-B0u-py3.10/lib/python3.10/site-packages/ray/serve/_private/replica.py\", line 1150, in call_user_method\\n    raise e from None\\nray.exceptions.RayTaskError: \\x1b[36mray::ServeReplica:facefeat_extractor_deployment:FacefeatureExtractorDeployment.handle_request_with_rejection()\\x1b[39m (pid=9498, ip=172.17.0.3)\\n  File \"/root/.cache/pypoetry/virtualenvs/aana-vIr3-B0u-py3.10/lib/python3.10/site-packages/ray/serve/_private/utils.py\", line 168, in wrap_to_ray_error\\n    raise exception\\n  File \"/root/.cache/pypoetry/virtualenvs/aana-vIr3-B0u-py3.10/lib/python3.10/site-packages/ray/serve/_private/replica.py\", line 1132, in call_user_method\\n    await self._call_func_or_gen(\\n  File \"/root/.cache/pypoetry/virtualenvs/aana-vIr3-B0u-py3.10/lib/python3.10/site-packages/ray/serve/_private/replica.py\", line 856, in _call_func_or_gen\\n    result = await result\\n  File \"/workspaces/aana_sdk/aana/deployments/face_featureextraction_deployment.py\", line 61, in predict\\n    image_np, face_landmarks[k], image_size=(112, 112), method=\"similar\"\\nIndexError: list index out of range'}"
      ]
     },
     "execution_count": 73,
     "metadata": {},
     "output_type": "execute_result"
    }
   ],
   "source": [
    "res"
   ]
  },
  {
   "cell_type": "code",
   "execution_count": 2,
   "metadata": {},
   "outputs": [
    {
     "name": "stderr",
     "output_type": "stream",
     "text": [
      "  0%|          | 28/33541 [00:07<2:38:11,  3.53it/s]\n"
     ]
    },
    {
     "ename": "KeyboardInterrupt",
     "evalue": "",
     "output_type": "error",
     "traceback": [
      "\u001b[0;31m---------------------------------------------------------------------------\u001b[0m",
      "\u001b[0;31mKeyboardInterrupt\u001b[0m                         Traceback (most recent call last)",
      "Cell \u001b[0;32mIn[2], line 17\u001b[0m\n\u001b[1;32m     13\u001b[0m image_paths \u001b[38;5;241m=\u001b[39m \u001b[38;5;28msorted\u001b[39m(glob\u001b[38;5;241m.\u001b[39mglob(\u001b[38;5;124m'\u001b[39m\u001b[38;5;124m/nas/dominic/AanaFaceEval/identities_reference/default/*.jpg\u001b[39m\u001b[38;5;124m'\u001b[39m))\n\u001b[1;32m     15\u001b[0m \u001b[38;5;28;01mfor\u001b[39;00m image_filepath \u001b[38;5;129;01min\u001b[39;00m tqdm\u001b[38;5;241m.\u001b[39mtqdm(image_paths):\n\u001b[0;32m---> 17\u001b[0m     face_feats, norms \u001b[38;5;241m=\u001b[39m \u001b[43mextract_face_feats\u001b[49m\u001b[43m(\u001b[49m\u001b[43mimage_filepath\u001b[49m\u001b[43m)\u001b[49m\n\u001b[1;32m     19\u001b[0m     \u001b[38;5;66;03m#import pdb; pdb.set_trace()\u001b[39;00m\n\u001b[1;32m     21\u001b[0m     \u001b[38;5;28;01mif\u001b[39;00m(face_feats \u001b[38;5;129;01mis\u001b[39;00m \u001b[38;5;129;01mnot\u001b[39;00m \u001b[38;5;28;01mNone\u001b[39;00m \u001b[38;5;129;01mand\u001b[39;00m \u001b[38;5;28mlen\u001b[39m(face_feats)\u001b[38;5;241m==\u001b[39m\u001b[38;5;241m1\u001b[39m \u001b[38;5;129;01mand\u001b[39;00m norms[\u001b[38;5;241m0\u001b[39m][\u001b[38;5;241m0\u001b[39m]\u001b[38;5;241m>\u001b[39m\u001b[38;5;241m=\u001b[39m\u001b[38;5;241m19.0\u001b[39m):\n",
      "Cell \u001b[0;32mIn[1], line 13\u001b[0m, in \u001b[0;36mextract_face_feats\u001b[0;34m(im_path)\u001b[0m\n\u001b[1;32m      5\u001b[0m \u001b[38;5;28;01mdef\u001b[39;00m \u001b[38;5;21mextract_face_feats\u001b[39m(im_path):\n\u001b[1;32m      6\u001b[0m     data \u001b[38;5;241m=\u001b[39m {\n\u001b[1;32m      7\u001b[0m     \u001b[38;5;124m\"\u001b[39m\u001b[38;5;124mimages\u001b[39m\u001b[38;5;124m\"\u001b[39m: [\n\u001b[1;32m      8\u001b[0m         {\u001b[38;5;124m'\u001b[39m\u001b[38;5;124mpath\u001b[39m\u001b[38;5;124m'\u001b[39m: im_path}\n\u001b[1;32m      9\u001b[0m \n\u001b[1;32m     10\u001b[0m     ],\n\u001b[1;32m     11\u001b[0m     }\n\u001b[0;32m---> 13\u001b[0m     response \u001b[38;5;241m=\u001b[39m \u001b[43mrequests\u001b[49m\u001b[38;5;241;43m.\u001b[39;49m\u001b[43mpost\u001b[49m\u001b[43m(\u001b[49m\n\u001b[1;32m     14\u001b[0m \u001b[43m        \u001b[49m\u001b[38;5;124;43m\"\u001b[39;49m\u001b[38;5;124;43mhttp://127.0.0.1:8000/recognize_faces\u001b[39;49m\u001b[38;5;124;43m\"\u001b[39;49m\u001b[43m,\u001b[49m\n\u001b[1;32m     15\u001b[0m \u001b[43m        \u001b[49m\u001b[43mdata\u001b[49m\u001b[38;5;241;43m=\u001b[39;49m\u001b[43m{\u001b[49m\u001b[38;5;124;43m\"\u001b[39;49m\u001b[38;5;124;43mbody\u001b[39;49m\u001b[38;5;124;43m\"\u001b[39;49m\u001b[43m:\u001b[49m\u001b[43m \u001b[49m\u001b[43mjson\u001b[49m\u001b[38;5;241;43m.\u001b[39;49m\u001b[43mdumps\u001b[49m\u001b[43m(\u001b[49m\u001b[43mdata\u001b[49m\u001b[43m)\u001b[49m\u001b[43m}\u001b[49m\u001b[43m,\u001b[49m\n\u001b[1;32m     16\u001b[0m \u001b[43m        \u001b[49m\u001b[43mstream\u001b[49m\u001b[38;5;241;43m=\u001b[39;49m\u001b[38;5;28;43;01mFalse\u001b[39;49;00m\u001b[43m,\u001b[49m\n\u001b[1;32m     17\u001b[0m \u001b[43m    \u001b[49m\u001b[43m)\u001b[49m\n\u001b[1;32m     18\u001b[0m     res \u001b[38;5;241m=\u001b[39m response\u001b[38;5;241m.\u001b[39mjson()\n\u001b[1;32m     20\u001b[0m     \u001b[38;5;28;01mreturn\u001b[39;00m res[\u001b[38;5;124m'\u001b[39m\u001b[38;5;124mface_features_per_image\u001b[39m\u001b[38;5;124m'\u001b[39m][\u001b[38;5;241m0\u001b[39m][\u001b[38;5;124m'\u001b[39m\u001b[38;5;124mface_feats\u001b[39m\u001b[38;5;124m'\u001b[39m], res[\u001b[38;5;124m'\u001b[39m\u001b[38;5;124mface_features_per_image\u001b[39m\u001b[38;5;124m'\u001b[39m][\u001b[38;5;241m0\u001b[39m][\u001b[38;5;124m'\u001b[39m\u001b[38;5;124mnorms\u001b[39m\u001b[38;5;124m'\u001b[39m]\n",
      "File \u001b[0;32m~/.cache/pypoetry/virtualenvs/aana-vIr3-B0u-py3.10/lib/python3.10/site-packages/requests/api.py:115\u001b[0m, in \u001b[0;36mpost\u001b[0;34m(url, data, json, **kwargs)\u001b[0m\n\u001b[1;32m    103\u001b[0m \u001b[38;5;28;01mdef\u001b[39;00m \u001b[38;5;21mpost\u001b[39m(url, data\u001b[38;5;241m=\u001b[39m\u001b[38;5;28;01mNone\u001b[39;00m, json\u001b[38;5;241m=\u001b[39m\u001b[38;5;28;01mNone\u001b[39;00m, \u001b[38;5;241m*\u001b[39m\u001b[38;5;241m*\u001b[39mkwargs):\n\u001b[1;32m    104\u001b[0m \u001b[38;5;250m    \u001b[39m\u001b[38;5;124mr\u001b[39m\u001b[38;5;124;03m\"\"\"Sends a POST request.\u001b[39;00m\n\u001b[1;32m    105\u001b[0m \n\u001b[1;32m    106\u001b[0m \u001b[38;5;124;03m    :param url: URL for the new :class:`Request` object.\u001b[39;00m\n\u001b[0;32m   (...)\u001b[0m\n\u001b[1;32m    112\u001b[0m \u001b[38;5;124;03m    :rtype: requests.Response\u001b[39;00m\n\u001b[1;32m    113\u001b[0m \u001b[38;5;124;03m    \"\"\"\u001b[39;00m\n\u001b[0;32m--> 115\u001b[0m     \u001b[38;5;28;01mreturn\u001b[39;00m \u001b[43mrequest\u001b[49m\u001b[43m(\u001b[49m\u001b[38;5;124;43m\"\u001b[39;49m\u001b[38;5;124;43mpost\u001b[39;49m\u001b[38;5;124;43m\"\u001b[39;49m\u001b[43m,\u001b[49m\u001b[43m \u001b[49m\u001b[43murl\u001b[49m\u001b[43m,\u001b[49m\u001b[43m \u001b[49m\u001b[43mdata\u001b[49m\u001b[38;5;241;43m=\u001b[39;49m\u001b[43mdata\u001b[49m\u001b[43m,\u001b[49m\u001b[43m \u001b[49m\u001b[43mjson\u001b[49m\u001b[38;5;241;43m=\u001b[39;49m\u001b[43mjson\u001b[49m\u001b[43m,\u001b[49m\u001b[43m \u001b[49m\u001b[38;5;241;43m*\u001b[39;49m\u001b[38;5;241;43m*\u001b[39;49m\u001b[43mkwargs\u001b[49m\u001b[43m)\u001b[49m\n",
      "File \u001b[0;32m~/.cache/pypoetry/virtualenvs/aana-vIr3-B0u-py3.10/lib/python3.10/site-packages/requests/api.py:59\u001b[0m, in \u001b[0;36mrequest\u001b[0;34m(method, url, **kwargs)\u001b[0m\n\u001b[1;32m     55\u001b[0m \u001b[38;5;66;03m# By using the 'with' statement we are sure the session is closed, thus we\u001b[39;00m\n\u001b[1;32m     56\u001b[0m \u001b[38;5;66;03m# avoid leaving sockets open which can trigger a ResourceWarning in some\u001b[39;00m\n\u001b[1;32m     57\u001b[0m \u001b[38;5;66;03m# cases, and look like a memory leak in others.\u001b[39;00m\n\u001b[1;32m     58\u001b[0m \u001b[38;5;28;01mwith\u001b[39;00m sessions\u001b[38;5;241m.\u001b[39mSession() \u001b[38;5;28;01mas\u001b[39;00m session:\n\u001b[0;32m---> 59\u001b[0m     \u001b[38;5;28;01mreturn\u001b[39;00m \u001b[43msession\u001b[49m\u001b[38;5;241;43m.\u001b[39;49m\u001b[43mrequest\u001b[49m\u001b[43m(\u001b[49m\u001b[43mmethod\u001b[49m\u001b[38;5;241;43m=\u001b[39;49m\u001b[43mmethod\u001b[49m\u001b[43m,\u001b[49m\u001b[43m \u001b[49m\u001b[43murl\u001b[49m\u001b[38;5;241;43m=\u001b[39;49m\u001b[43murl\u001b[49m\u001b[43m,\u001b[49m\u001b[43m \u001b[49m\u001b[38;5;241;43m*\u001b[39;49m\u001b[38;5;241;43m*\u001b[39;49m\u001b[43mkwargs\u001b[49m\u001b[43m)\u001b[49m\n",
      "File \u001b[0;32m~/.cache/pypoetry/virtualenvs/aana-vIr3-B0u-py3.10/lib/python3.10/site-packages/requests/sessions.py:589\u001b[0m, in \u001b[0;36mSession.request\u001b[0;34m(self, method, url, params, data, headers, cookies, files, auth, timeout, allow_redirects, proxies, hooks, stream, verify, cert, json)\u001b[0m\n\u001b[1;32m    584\u001b[0m send_kwargs \u001b[38;5;241m=\u001b[39m {\n\u001b[1;32m    585\u001b[0m     \u001b[38;5;124m\"\u001b[39m\u001b[38;5;124mtimeout\u001b[39m\u001b[38;5;124m\"\u001b[39m: timeout,\n\u001b[1;32m    586\u001b[0m     \u001b[38;5;124m\"\u001b[39m\u001b[38;5;124mallow_redirects\u001b[39m\u001b[38;5;124m\"\u001b[39m: allow_redirects,\n\u001b[1;32m    587\u001b[0m }\n\u001b[1;32m    588\u001b[0m send_kwargs\u001b[38;5;241m.\u001b[39mupdate(settings)\n\u001b[0;32m--> 589\u001b[0m resp \u001b[38;5;241m=\u001b[39m \u001b[38;5;28;43mself\u001b[39;49m\u001b[38;5;241;43m.\u001b[39;49m\u001b[43msend\u001b[49m\u001b[43m(\u001b[49m\u001b[43mprep\u001b[49m\u001b[43m,\u001b[49m\u001b[43m \u001b[49m\u001b[38;5;241;43m*\u001b[39;49m\u001b[38;5;241;43m*\u001b[39;49m\u001b[43msend_kwargs\u001b[49m\u001b[43m)\u001b[49m\n\u001b[1;32m    591\u001b[0m \u001b[38;5;28;01mreturn\u001b[39;00m resp\n",
      "File \u001b[0;32m~/.cache/pypoetry/virtualenvs/aana-vIr3-B0u-py3.10/lib/python3.10/site-packages/requests/sessions.py:703\u001b[0m, in \u001b[0;36mSession.send\u001b[0;34m(self, request, **kwargs)\u001b[0m\n\u001b[1;32m    700\u001b[0m start \u001b[38;5;241m=\u001b[39m preferred_clock()\n\u001b[1;32m    702\u001b[0m \u001b[38;5;66;03m# Send the request\u001b[39;00m\n\u001b[0;32m--> 703\u001b[0m r \u001b[38;5;241m=\u001b[39m \u001b[43madapter\u001b[49m\u001b[38;5;241;43m.\u001b[39;49m\u001b[43msend\u001b[49m\u001b[43m(\u001b[49m\u001b[43mrequest\u001b[49m\u001b[43m,\u001b[49m\u001b[43m \u001b[49m\u001b[38;5;241;43m*\u001b[39;49m\u001b[38;5;241;43m*\u001b[39;49m\u001b[43mkwargs\u001b[49m\u001b[43m)\u001b[49m\n\u001b[1;32m    705\u001b[0m \u001b[38;5;66;03m# Total elapsed time of the request (approximately)\u001b[39;00m\n\u001b[1;32m    706\u001b[0m elapsed \u001b[38;5;241m=\u001b[39m preferred_clock() \u001b[38;5;241m-\u001b[39m start\n",
      "File \u001b[0;32m~/.cache/pypoetry/virtualenvs/aana-vIr3-B0u-py3.10/lib/python3.10/site-packages/requests/adapters.py:486\u001b[0m, in \u001b[0;36mHTTPAdapter.send\u001b[0;34m(self, request, stream, timeout, verify, cert, proxies)\u001b[0m\n\u001b[1;32m    483\u001b[0m     timeout \u001b[38;5;241m=\u001b[39m TimeoutSauce(connect\u001b[38;5;241m=\u001b[39mtimeout, read\u001b[38;5;241m=\u001b[39mtimeout)\n\u001b[1;32m    485\u001b[0m \u001b[38;5;28;01mtry\u001b[39;00m:\n\u001b[0;32m--> 486\u001b[0m     resp \u001b[38;5;241m=\u001b[39m \u001b[43mconn\u001b[49m\u001b[38;5;241;43m.\u001b[39;49m\u001b[43murlopen\u001b[49m\u001b[43m(\u001b[49m\n\u001b[1;32m    487\u001b[0m \u001b[43m        \u001b[49m\u001b[43mmethod\u001b[49m\u001b[38;5;241;43m=\u001b[39;49m\u001b[43mrequest\u001b[49m\u001b[38;5;241;43m.\u001b[39;49m\u001b[43mmethod\u001b[49m\u001b[43m,\u001b[49m\n\u001b[1;32m    488\u001b[0m \u001b[43m        \u001b[49m\u001b[43murl\u001b[49m\u001b[38;5;241;43m=\u001b[39;49m\u001b[43murl\u001b[49m\u001b[43m,\u001b[49m\n\u001b[1;32m    489\u001b[0m \u001b[43m        \u001b[49m\u001b[43mbody\u001b[49m\u001b[38;5;241;43m=\u001b[39;49m\u001b[43mrequest\u001b[49m\u001b[38;5;241;43m.\u001b[39;49m\u001b[43mbody\u001b[49m\u001b[43m,\u001b[49m\n\u001b[1;32m    490\u001b[0m \u001b[43m        \u001b[49m\u001b[43mheaders\u001b[49m\u001b[38;5;241;43m=\u001b[39;49m\u001b[43mrequest\u001b[49m\u001b[38;5;241;43m.\u001b[39;49m\u001b[43mheaders\u001b[49m\u001b[43m,\u001b[49m\n\u001b[1;32m    491\u001b[0m \u001b[43m        \u001b[49m\u001b[43mredirect\u001b[49m\u001b[38;5;241;43m=\u001b[39;49m\u001b[38;5;28;43;01mFalse\u001b[39;49;00m\u001b[43m,\u001b[49m\n\u001b[1;32m    492\u001b[0m \u001b[43m        \u001b[49m\u001b[43massert_same_host\u001b[49m\u001b[38;5;241;43m=\u001b[39;49m\u001b[38;5;28;43;01mFalse\u001b[39;49;00m\u001b[43m,\u001b[49m\n\u001b[1;32m    493\u001b[0m \u001b[43m        \u001b[49m\u001b[43mpreload_content\u001b[49m\u001b[38;5;241;43m=\u001b[39;49m\u001b[38;5;28;43;01mFalse\u001b[39;49;00m\u001b[43m,\u001b[49m\n\u001b[1;32m    494\u001b[0m \u001b[43m        \u001b[49m\u001b[43mdecode_content\u001b[49m\u001b[38;5;241;43m=\u001b[39;49m\u001b[38;5;28;43;01mFalse\u001b[39;49;00m\u001b[43m,\u001b[49m\n\u001b[1;32m    495\u001b[0m \u001b[43m        \u001b[49m\u001b[43mretries\u001b[49m\u001b[38;5;241;43m=\u001b[39;49m\u001b[38;5;28;43mself\u001b[39;49m\u001b[38;5;241;43m.\u001b[39;49m\u001b[43mmax_retries\u001b[49m\u001b[43m,\u001b[49m\n\u001b[1;32m    496\u001b[0m \u001b[43m        \u001b[49m\u001b[43mtimeout\u001b[49m\u001b[38;5;241;43m=\u001b[39;49m\u001b[43mtimeout\u001b[49m\u001b[43m,\u001b[49m\n\u001b[1;32m    497\u001b[0m \u001b[43m        \u001b[49m\u001b[43mchunked\u001b[49m\u001b[38;5;241;43m=\u001b[39;49m\u001b[43mchunked\u001b[49m\u001b[43m,\u001b[49m\n\u001b[1;32m    498\u001b[0m \u001b[43m    \u001b[49m\u001b[43m)\u001b[49m\n\u001b[1;32m    500\u001b[0m \u001b[38;5;28;01mexcept\u001b[39;00m (ProtocolError, \u001b[38;5;167;01mOSError\u001b[39;00m) \u001b[38;5;28;01mas\u001b[39;00m err:\n\u001b[1;32m    501\u001b[0m     \u001b[38;5;28;01mraise\u001b[39;00m \u001b[38;5;167;01mConnectionError\u001b[39;00m(err, request\u001b[38;5;241m=\u001b[39mrequest)\n",
      "File \u001b[0;32m~/.cache/pypoetry/virtualenvs/aana-vIr3-B0u-py3.10/lib/python3.10/site-packages/urllib3/connectionpool.py:793\u001b[0m, in \u001b[0;36mHTTPConnectionPool.urlopen\u001b[0;34m(self, method, url, body, headers, retries, redirect, assert_same_host, timeout, pool_timeout, release_conn, chunked, body_pos, preload_content, decode_content, **response_kw)\u001b[0m\n\u001b[1;32m    790\u001b[0m response_conn \u001b[38;5;241m=\u001b[39m conn \u001b[38;5;28;01mif\u001b[39;00m \u001b[38;5;129;01mnot\u001b[39;00m release_conn \u001b[38;5;28;01melse\u001b[39;00m \u001b[38;5;28;01mNone\u001b[39;00m\n\u001b[1;32m    792\u001b[0m \u001b[38;5;66;03m# Make the request on the HTTPConnection object\u001b[39;00m\n\u001b[0;32m--> 793\u001b[0m response \u001b[38;5;241m=\u001b[39m \u001b[38;5;28;43mself\u001b[39;49m\u001b[38;5;241;43m.\u001b[39;49m\u001b[43m_make_request\u001b[49m\u001b[43m(\u001b[49m\n\u001b[1;32m    794\u001b[0m \u001b[43m    \u001b[49m\u001b[43mconn\u001b[49m\u001b[43m,\u001b[49m\n\u001b[1;32m    795\u001b[0m \u001b[43m    \u001b[49m\u001b[43mmethod\u001b[49m\u001b[43m,\u001b[49m\n\u001b[1;32m    796\u001b[0m \u001b[43m    \u001b[49m\u001b[43murl\u001b[49m\u001b[43m,\u001b[49m\n\u001b[1;32m    797\u001b[0m \u001b[43m    \u001b[49m\u001b[43mtimeout\u001b[49m\u001b[38;5;241;43m=\u001b[39;49m\u001b[43mtimeout_obj\u001b[49m\u001b[43m,\u001b[49m\n\u001b[1;32m    798\u001b[0m \u001b[43m    \u001b[49m\u001b[43mbody\u001b[49m\u001b[38;5;241;43m=\u001b[39;49m\u001b[43mbody\u001b[49m\u001b[43m,\u001b[49m\n\u001b[1;32m    799\u001b[0m \u001b[43m    \u001b[49m\u001b[43mheaders\u001b[49m\u001b[38;5;241;43m=\u001b[39;49m\u001b[43mheaders\u001b[49m\u001b[43m,\u001b[49m\n\u001b[1;32m    800\u001b[0m \u001b[43m    \u001b[49m\u001b[43mchunked\u001b[49m\u001b[38;5;241;43m=\u001b[39;49m\u001b[43mchunked\u001b[49m\u001b[43m,\u001b[49m\n\u001b[1;32m    801\u001b[0m \u001b[43m    \u001b[49m\u001b[43mretries\u001b[49m\u001b[38;5;241;43m=\u001b[39;49m\u001b[43mretries\u001b[49m\u001b[43m,\u001b[49m\n\u001b[1;32m    802\u001b[0m \u001b[43m    \u001b[49m\u001b[43mresponse_conn\u001b[49m\u001b[38;5;241;43m=\u001b[39;49m\u001b[43mresponse_conn\u001b[49m\u001b[43m,\u001b[49m\n\u001b[1;32m    803\u001b[0m \u001b[43m    \u001b[49m\u001b[43mpreload_content\u001b[49m\u001b[38;5;241;43m=\u001b[39;49m\u001b[43mpreload_content\u001b[49m\u001b[43m,\u001b[49m\n\u001b[1;32m    804\u001b[0m \u001b[43m    \u001b[49m\u001b[43mdecode_content\u001b[49m\u001b[38;5;241;43m=\u001b[39;49m\u001b[43mdecode_content\u001b[49m\u001b[43m,\u001b[49m\n\u001b[1;32m    805\u001b[0m \u001b[43m    \u001b[49m\u001b[38;5;241;43m*\u001b[39;49m\u001b[38;5;241;43m*\u001b[39;49m\u001b[43mresponse_kw\u001b[49m\u001b[43m,\u001b[49m\n\u001b[1;32m    806\u001b[0m \u001b[43m\u001b[49m\u001b[43m)\u001b[49m\n\u001b[1;32m    808\u001b[0m \u001b[38;5;66;03m# Everything went great!\u001b[39;00m\n\u001b[1;32m    809\u001b[0m clean_exit \u001b[38;5;241m=\u001b[39m \u001b[38;5;28;01mTrue\u001b[39;00m\n",
      "File \u001b[0;32m~/.cache/pypoetry/virtualenvs/aana-vIr3-B0u-py3.10/lib/python3.10/site-packages/urllib3/connectionpool.py:537\u001b[0m, in \u001b[0;36mHTTPConnectionPool._make_request\u001b[0;34m(self, conn, method, url, body, headers, retries, timeout, chunked, response_conn, preload_content, decode_content, enforce_content_length)\u001b[0m\n\u001b[1;32m    535\u001b[0m \u001b[38;5;66;03m# Receive the response from the server\u001b[39;00m\n\u001b[1;32m    536\u001b[0m \u001b[38;5;28;01mtry\u001b[39;00m:\n\u001b[0;32m--> 537\u001b[0m     response \u001b[38;5;241m=\u001b[39m \u001b[43mconn\u001b[49m\u001b[38;5;241;43m.\u001b[39;49m\u001b[43mgetresponse\u001b[49m\u001b[43m(\u001b[49m\u001b[43m)\u001b[49m\n\u001b[1;32m    538\u001b[0m \u001b[38;5;28;01mexcept\u001b[39;00m (BaseSSLError, \u001b[38;5;167;01mOSError\u001b[39;00m) \u001b[38;5;28;01mas\u001b[39;00m e:\n\u001b[1;32m    539\u001b[0m     \u001b[38;5;28mself\u001b[39m\u001b[38;5;241m.\u001b[39m_raise_timeout(err\u001b[38;5;241m=\u001b[39me, url\u001b[38;5;241m=\u001b[39murl, timeout_value\u001b[38;5;241m=\u001b[39mread_timeout)\n",
      "File \u001b[0;32m~/.cache/pypoetry/virtualenvs/aana-vIr3-B0u-py3.10/lib/python3.10/site-packages/urllib3/connection.py:466\u001b[0m, in \u001b[0;36mHTTPConnection.getresponse\u001b[0;34m(self)\u001b[0m\n\u001b[1;32m    463\u001b[0m \u001b[38;5;28;01mfrom\u001b[39;00m \u001b[38;5;21;01m.\u001b[39;00m\u001b[38;5;21;01mresponse\u001b[39;00m \u001b[38;5;28;01mimport\u001b[39;00m HTTPResponse\n\u001b[1;32m    465\u001b[0m \u001b[38;5;66;03m# Get the response from http.client.HTTPConnection\u001b[39;00m\n\u001b[0;32m--> 466\u001b[0m httplib_response \u001b[38;5;241m=\u001b[39m \u001b[38;5;28;43msuper\u001b[39;49m\u001b[43m(\u001b[49m\u001b[43m)\u001b[49m\u001b[38;5;241;43m.\u001b[39;49m\u001b[43mgetresponse\u001b[49m\u001b[43m(\u001b[49m\u001b[43m)\u001b[49m\n\u001b[1;32m    468\u001b[0m \u001b[38;5;28;01mtry\u001b[39;00m:\n\u001b[1;32m    469\u001b[0m     assert_header_parsing(httplib_response\u001b[38;5;241m.\u001b[39mmsg)\n",
      "File \u001b[0;32m/usr/local/python/3.10.14/lib/python3.10/http/client.py:1375\u001b[0m, in \u001b[0;36mHTTPConnection.getresponse\u001b[0;34m(self)\u001b[0m\n\u001b[1;32m   1373\u001b[0m \u001b[38;5;28;01mtry\u001b[39;00m:\n\u001b[1;32m   1374\u001b[0m     \u001b[38;5;28;01mtry\u001b[39;00m:\n\u001b[0;32m-> 1375\u001b[0m         \u001b[43mresponse\u001b[49m\u001b[38;5;241;43m.\u001b[39;49m\u001b[43mbegin\u001b[49m\u001b[43m(\u001b[49m\u001b[43m)\u001b[49m\n\u001b[1;32m   1376\u001b[0m     \u001b[38;5;28;01mexcept\u001b[39;00m \u001b[38;5;167;01mConnectionError\u001b[39;00m:\n\u001b[1;32m   1377\u001b[0m         \u001b[38;5;28mself\u001b[39m\u001b[38;5;241m.\u001b[39mclose()\n",
      "File \u001b[0;32m/usr/local/python/3.10.14/lib/python3.10/http/client.py:318\u001b[0m, in \u001b[0;36mHTTPResponse.begin\u001b[0;34m(self)\u001b[0m\n\u001b[1;32m    316\u001b[0m \u001b[38;5;66;03m# read until we get a non-100 response\u001b[39;00m\n\u001b[1;32m    317\u001b[0m \u001b[38;5;28;01mwhile\u001b[39;00m \u001b[38;5;28;01mTrue\u001b[39;00m:\n\u001b[0;32m--> 318\u001b[0m     version, status, reason \u001b[38;5;241m=\u001b[39m \u001b[38;5;28;43mself\u001b[39;49m\u001b[38;5;241;43m.\u001b[39;49m\u001b[43m_read_status\u001b[49m\u001b[43m(\u001b[49m\u001b[43m)\u001b[49m\n\u001b[1;32m    319\u001b[0m     \u001b[38;5;28;01mif\u001b[39;00m status \u001b[38;5;241m!=\u001b[39m CONTINUE:\n\u001b[1;32m    320\u001b[0m         \u001b[38;5;28;01mbreak\u001b[39;00m\n",
      "File \u001b[0;32m/usr/local/python/3.10.14/lib/python3.10/http/client.py:279\u001b[0m, in \u001b[0;36mHTTPResponse._read_status\u001b[0;34m(self)\u001b[0m\n\u001b[1;32m    278\u001b[0m \u001b[38;5;28;01mdef\u001b[39;00m \u001b[38;5;21m_read_status\u001b[39m(\u001b[38;5;28mself\u001b[39m):\n\u001b[0;32m--> 279\u001b[0m     line \u001b[38;5;241m=\u001b[39m \u001b[38;5;28mstr\u001b[39m(\u001b[38;5;28;43mself\u001b[39;49m\u001b[38;5;241;43m.\u001b[39;49m\u001b[43mfp\u001b[49m\u001b[38;5;241;43m.\u001b[39;49m\u001b[43mreadline\u001b[49m\u001b[43m(\u001b[49m\u001b[43m_MAXLINE\u001b[49m\u001b[43m \u001b[49m\u001b[38;5;241;43m+\u001b[39;49m\u001b[43m \u001b[49m\u001b[38;5;241;43m1\u001b[39;49m\u001b[43m)\u001b[49m, \u001b[38;5;124m\"\u001b[39m\u001b[38;5;124miso-8859-1\u001b[39m\u001b[38;5;124m\"\u001b[39m)\n\u001b[1;32m    280\u001b[0m     \u001b[38;5;28;01mif\u001b[39;00m \u001b[38;5;28mlen\u001b[39m(line) \u001b[38;5;241m>\u001b[39m _MAXLINE:\n\u001b[1;32m    281\u001b[0m         \u001b[38;5;28;01mraise\u001b[39;00m LineTooLong(\u001b[38;5;124m\"\u001b[39m\u001b[38;5;124mstatus line\u001b[39m\u001b[38;5;124m\"\u001b[39m)\n",
      "File \u001b[0;32m/usr/local/python/3.10.14/lib/python3.10/socket.py:705\u001b[0m, in \u001b[0;36mSocketIO.readinto\u001b[0;34m(self, b)\u001b[0m\n\u001b[1;32m    703\u001b[0m \u001b[38;5;28;01mwhile\u001b[39;00m \u001b[38;5;28;01mTrue\u001b[39;00m:\n\u001b[1;32m    704\u001b[0m     \u001b[38;5;28;01mtry\u001b[39;00m:\n\u001b[0;32m--> 705\u001b[0m         \u001b[38;5;28;01mreturn\u001b[39;00m \u001b[38;5;28;43mself\u001b[39;49m\u001b[38;5;241;43m.\u001b[39;49m\u001b[43m_sock\u001b[49m\u001b[38;5;241;43m.\u001b[39;49m\u001b[43mrecv_into\u001b[49m\u001b[43m(\u001b[49m\u001b[43mb\u001b[49m\u001b[43m)\u001b[49m\n\u001b[1;32m    706\u001b[0m     \u001b[38;5;28;01mexcept\u001b[39;00m timeout:\n\u001b[1;32m    707\u001b[0m         \u001b[38;5;28mself\u001b[39m\u001b[38;5;241m.\u001b[39m_timeout_occurred \u001b[38;5;241m=\u001b[39m \u001b[38;5;28;01mTrue\u001b[39;00m\n",
      "\u001b[0;31mKeyboardInterrupt\u001b[0m: "
     ]
    }
   ],
   "source": [
    "import tqdm\n",
    "import glob\n",
    "import os\n",
    "\n",
    "\n",
    "reference_faces_dict_30K_webface4M_r101 = {'person_names': [],\n",
    "                       'paths_to_image': [],\n",
    "                       'face_features': [],\n",
    "                           'norms': []}\n",
    "\n",
    "failed_faces = []\n",
    "\n",
    "image_paths = sorted(glob.glob('/nas/dominic/AanaFaceEval/identities_reference/default/*.jpg'))\n",
    "\n",
    "for image_filepath in tqdm.tqdm(image_paths):\n",
    "\n",
    "    face_feats, norms = extract_face_feats(image_filepath)\n",
    "\n",
    "    #import pdb; pdb.set_trace()\n",
    "\n",
    "    if(face_feats is not None and len(face_feats)==1 and norms[0][0]>=19.0):\n",
    "\n",
    "        reference_faces_dict_30K_webface4M_r101['person_names'].append(os.path.basename(image_filepath)[0:-4].split('|||')[-1])\n",
    "        reference_faces_dict_30K_webface4M_r101['paths_to_image'].append(image_filepath)\n",
    "        reference_faces_dict_30K_webface4M_r101['face_features'].append(face_feats[0])\n",
    "        reference_faces_dict_30K_webface4M_r101['norms'].append(norms[0][0])\n",
    "    else:\n",
    "        failed_faces.append([image_filepath, norms[0][0]])\n",
    "\n",
    "reverse_reference_faces_dict_30K_webface4M_r101 = {reference_faces_dict_30K_webface4M_r101['person_names'][k]: reference_faces_dict_30K_webface4M_r101['paths_to_image'][k] for k in range(len(reference_faces_dict_30K_webface4M_r101['person_names']))}"
   ]
  },
  {
   "cell_type": "code",
   "execution_count": null,
   "metadata": {},
   "outputs": [],
   "source": []
  }
 ],
 "metadata": {
  "kernelspec": {
   "display_name": "aana-vIr3-B0u-py3.10",
   "language": "python",
   "name": "python3"
  },
  "language_info": {
   "codemirror_mode": {
    "name": "ipython",
    "version": 3
   },
   "file_extension": ".py",
   "mimetype": "text/x-python",
   "name": "python",
   "nbconvert_exporter": "python",
   "pygments_lexer": "ipython3",
   "version": "3.10.14"
  }
 },
 "nbformat": 4,
 "nbformat_minor": 2
}
