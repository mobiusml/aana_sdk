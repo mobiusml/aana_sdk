{
 "cells": [
  {
   "cell_type": "code",
   "execution_count": 8,
   "metadata": {},
   "outputs": [],
   "source": [
    "import json\n",
    "import requests\n",
    "\n",
    "\n",
    "video = {\n",
    "    # \"path\": \"/workspaces/aana_sdk/aana/tests/files/videos/physicsworks.webm\"\n",
    "    \"url\": \"https://mobius-public.s3.eu-west-1.amazonaws.com/squirrel.mp4\",\n",
    "    \"media_id\": \"squirrel.mp4\",\n",
    "    # \"url\": \"https://www.youtube.com/watch?v=yModCU1OVHY\",\n",
    "    # \"media_id\": \"yModCU1OVHY\",\n",
    "    # \"url\": \"https://www.youtube.com/watch?v=77ZF50ve6rs\",\n",
    "    # \"media_id\": \"77ZF50ve6rs\",\n",
    "    # \"url\": \"https://www.youtube.com/watch?v=wxN1T1uxQ2g\",\n",
    "    # \"media_id\": \"wxN1T1uxQ2g\",\n",
    "}"
   ]
  },
  {
   "cell_type": "code",
   "execution_count": null,
   "metadata": {},
   "outputs": [],
   "source": []
  },
  {
   "cell_type": "code",
   "execution_count": 9,
   "metadata": {},
   "outputs": [
    {
     "name": "stdout",
     "output_type": "stream",
     "text": [
      "b'{\"transcription\":{\"text\":\"\"},\"segments\":[],\"info\":{\"language\":\"silence\",\"language_confidence\":1.0}}'\n",
      "b'{\"timestamps\":[0.0,3.0399999618530273,6.079999923706055,9.119999885559082],\"captions\":[\"a squirrel is sitting on top of a table\",\"a squirrel sitting on top of a table\",\"a squirrel is sitting on a table with its mouth open\",\"a squirrel is sitting on top of a table\"]}'\n",
      "['a squirrel is sitting on top of a table', 'a squirrel sitting on top of a table', 'a squirrel is sitting on a table with its mouth open', 'a squirrel is sitting on top of a table']\n",
      "b'{\"caption_ids\":[33,34,35,36],\"transcription_id\":8}'\n"
     ]
    }
   ],
   "source": [
    "data = {\n",
    "    \"video_params\": {\n",
    "        \"fast_mode_enabled\": True,\n",
    "    },\n",
    "    \"video\": video,\n",
    "}\n",
    "url = \"http://127.0.0.1:8001/video/index_stream\"\n",
    "response = requests.post(url, data={\"body\": json.dumps(data)}, stream=True)\n",
    "# visuals = response.json()\n",
    "for chunk in response.iter_content(chunk_size=None):\n",
    "    print(chunk)\n",
    "    json_data = json.loads(chunk)\n",
    "\n",
    "    if \"error\" in json_data:\n",
    "        print(json_data[\"error\"])\n",
    "        print(json_data[\"message\"])\n",
    "        print(json_data[\"stacktrace\"])\n",
    "        break\n",
    "    else:\n",
    "        segments = json_data.get(\"captions\")\n",
    "\n",
    "    if segments:\n",
    "        print(segments)"
   ]
  },
  {
   "cell_type": "code",
   "execution_count": null,
   "metadata": {},
   "outputs": [],
   "source": []
  },
  {
   "cell_type": "code",
   "execution_count": 10,
   "metadata": {},
   "outputs": [],
   "source": [
    "media_id = video[\"media_id\"]\n",
    "\n",
    "question = (\n",
    "    \"What is happening in this video? \"\n",
    "    \"Focus on highlighting the story, the narrative, emotionally and thematically significant aspects. \"\n",
    "    \"Do not use bulleted list in your answer.\"\n",
    ")"
   ]
  },
  {
   "cell_type": "code",
   "execution_count": 11,
   "metadata": {},
   "outputs": [
    {
     "name": "stdout",
     "output_type": "stream",
     "text": [
      "  Based on the provided video timeline and title, the story that emerges is one of a curious and playful squirrel exploring its surroundings. The video opens with the squirrel sitting on top of a table, and the visual caption and audio transcript both indicate that the animal is sitting with its mouth open, suggesting that it is feeling carefree and relaxed.\n",
      "Throughout the video, the squirrel goes on to explore various objects and surfaces in its environment, using its agility and curiosity to manipulate its surroundings. The visual caption and audio transcript both suggest that the squirrel is engaged in playful and curious behavior, such as playing with a ball or leaping from one surface to another.\n",
      "Overall, the video tells a story of a playful and curious squirrel exploring its environment, and the visual caption and audio transcript both work together to convey the sense of fun and adventure that the animal is experiencing."
     ]
    }
   ],
   "source": [
    "data = {\n",
    "    \"question\": question,\n",
    "    \"media_id\": media_id,\n",
    "    \"sampling_params\": {\n",
    "        \"temperature\": 0.9,\n",
    "        \"max_tokens\": 1024,\n",
    "    },\n",
    "}\n",
    "\n",
    "url = \"http://127.0.0.1:8001/video/chat_stream\"\n",
    "\n",
    "response = requests.post(url, data={\"body\": json.dumps(data)}, stream=True)\n",
    "text = \"\"\n",
    "for chunk in response.iter_content(chunk_size=None):\n",
    "    chunk_dict = json.loads(chunk)\n",
    "    if \"error\" in chunk_dict:\n",
    "        print(chunk_dict[\"error\"])\n",
    "        print(chunk_dict[\"message\"])\n",
    "        print(chunk_dict[\"stacktrace\"])\n",
    "        break\n",
    "    token = chunk_dict[\"completion\"]\n",
    "    text += token\n",
    "    print(token, end=\"\")"
   ]
  },
  {
   "cell_type": "code",
   "execution_count": null,
   "metadata": {},
   "outputs": [],
   "source": []
  }
 ],
 "metadata": {
  "kernelspec": {
   "display_name": "aana-vIr3-B0u-py3.10",
   "language": "python",
   "name": "python3"
  },
  "language_info": {
   "codemirror_mode": {
    "name": "ipython",
    "version": 3
   },
   "file_extension": ".py",
   "mimetype": "text/x-python",
   "name": "python",
   "nbconvert_exporter": "python",
   "pygments_lexer": "ipython3",
   "version": "3.10.13"
  }
 },
 "nbformat": 4,
 "nbformat_minor": 2
}
