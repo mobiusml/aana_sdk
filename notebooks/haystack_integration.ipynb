{
 "cells": [
  {
   "cell_type": "code",
   "execution_count": 1,
   "metadata": {},
   "outputs": [],
   "source": [
    "import os\n",
    "\n",
    "os.environ[\"CUDA_VISIBLE_DEVICES\"] = \"2\""
   ]
  },
  {
   "cell_type": "markdown",
   "metadata": {},
   "source": [
    "Create SDK object as usual"
   ]
  },
  {
   "cell_type": "code",
   "execution_count": 2,
   "metadata": {},
   "outputs": [
    {
     "name": "stderr",
     "output_type": "stream",
     "text": [
      "/root/.cache/pypoetry/virtualenvs/aana-vIr3-B0u-py3.10/lib/python3.10/site-packages/tqdm/auto.py:21: TqdmWarning: IProgress not found. Please update jupyter and ipywidgets. See https://ipywidgets.readthedocs.io/en/stable/user_install.html\n",
      "  from .autonotebook import tqdm as notebook_tqdm\n",
      "2024-04-26 15:44:02,509\tINFO util.py:154 -- Missing packages: ['ipywidgets']. Run `pip install -U ipywidgets`, then restart the notebook server for rich notebook output.\n",
      "/root/.cache/pypoetry/virtualenvs/aana-vIr3-B0u-py3.10/lib/python3.10/site-packages/pydantic/_internal/_fields.py:160: UserWarning: Field \"model_dir\" has conflict with protected namespace \"model_\".\n",
      "\n",
      "You may be able to resolve this warning by setting `model_config['protected_namespaces'] = ('settings_',)`.\n",
      "  warnings.warn(\n",
      "INFO  [alembic.runtime.migration] Context impl SQLiteImpl.\n",
      "INFO  [alembic.runtime.migration] Will assume non-transactional DDL.\n"
     ]
    }
   ],
   "source": [
    "from aana.sdk import AanaSDK\n",
    "\n",
    "\n",
    "aana_app = AanaSDK()"
   ]
  },
  {
   "cell_type": "markdown",
   "metadata": {},
   "source": [
    "Deploy Haystack components for embeddings"
   ]
  },
  {
   "cell_type": "code",
   "execution_count": 3,
   "metadata": {},
   "outputs": [],
   "source": [
    "from aana.deployments.haystack_component_deployment import (\n",
    "    HaystackComponentDeployment,\n",
    "    HaystackComponentDeploymentConfig,\n",
    ")"
   ]
  },
  {
   "cell_type": "code",
   "execution_count": 4,
   "metadata": {},
   "outputs": [],
   "source": [
    "text_embedder_deployment = HaystackComponentDeployment.options(\n",
    "    num_replicas=1,\n",
    "    max_concurrent_queries=1000,\n",
    "    ray_actor_options={\"num_gpus\": 0.25},\n",
    "    user_config=HaystackComponentDeploymentConfig(\n",
    "        component=\"haystack.components.embedders.SentenceTransformersTextEmbedder\",\n",
    "        params={\"model\": \"sentence-transformers/all-mpnet-base-v2\"},\n",
    "    ).model_dump(),\n",
    ")\n",
    "aana_app.register_deployment(\"text_embedder_deployment\", text_embedder_deployment)"
   ]
  },
  {
   "cell_type": "code",
   "execution_count": 5,
   "metadata": {},
   "outputs": [],
   "source": [
    "document_embedder_deployment = HaystackComponentDeployment.options(\n",
    "    num_replicas=1,\n",
    "    max_concurrent_queries=1000,\n",
    "    ray_actor_options={\"num_gpus\": 0.25},\n",
    "    user_config=HaystackComponentDeploymentConfig(\n",
    "        component=\"haystack.components.embedders.SentenceTransformersDocumentEmbedder\",\n",
    "        params={\"model\": \"sentence-transformers/all-mpnet-base-v2\"},\n",
    "    ).model_dump(),\n",
    ")\n",
    "aana_app.register_deployment(\n",
    "    \"document_embedder_deployment\", document_embedder_deployment\n",
    ")"
   ]
  },
  {
   "cell_type": "markdown",
   "metadata": {},
   "source": [
    "Now you can replace original Haystack components with Remote components that run on the cluster and can be reused by different endpoints and workers."
   ]
  },
  {
   "cell_type": "code",
   "execution_count": 7,
   "metadata": {},
   "outputs": [
    {
     "name": "stdout",
     "output_type": "stream",
     "text": [
      "Document(id=62fad790ad2af927af9432c87330ed2ea5e31332cdec8e9d6235a5105ab0aaf5, content: 'My name is Wolfgang and I live in Berlin', score: 0.5515621624192681)\n"
     ]
    }
   ],
   "source": [
    "from haystack import Document, Pipeline\n",
    "from haystack.components.retrievers.in_memory import InMemoryEmbeddingRetriever\n",
    "from haystack.document_stores.in_memory import InMemoryDocumentStore\n",
    "\n",
    "from aana.deployments.haystack_component_deployment import RemoteHaystackComponent\n",
    "\n",
    "document_store = InMemoryDocumentStore(embedding_similarity_function=\"cosine\")\n",
    "\n",
    "documents = [\n",
    "    Document(content=\"My name is Wolfgang and I live in Berlin\"),\n",
    "    Document(content=\"I saw a black horse running\"),\n",
    "    Document(content=\"Germany has many big cities\"),\n",
    "]\n",
    "\n",
    "document_embedder = RemoteHaystackComponent(\n",
    "    \"document_embedder_deployment\"\n",
    ")  # instead of SentenceTransformersDocumentEmbedder()\n",
    "document_embedder.warm_up()\n",
    "documents_with_embeddings = document_embedder.run(documents=documents)[\"documents\"]\n",
    "document_store.write_documents(documents_with_embeddings)\n",
    "\n",
    "text_embedder = RemoteHaystackComponent(\n",
    "    \"text_embedder_deployment\"\n",
    ")  # SentenceTransformersTextEmbedder()\n",
    "text_embedder.warm_up()\n",
    "\n",
    "query_pipeline = Pipeline()\n",
    "query_pipeline.add_component(\"text_embedder\", text_embedder)\n",
    "query_pipeline.add_component(\n",
    "    \"retriever\", InMemoryEmbeddingRetriever(document_store=document_store)\n",
    ")\n",
    "query_pipeline.connect(\"text_embedder.embedding\", \"retriever.query_embedding\")\n",
    "\n",
    "query = \"Who lives in Berlin?\"\n",
    "\n",
    "result = query_pipeline.run({\"text_embedder\": {\"text\": query}})\n",
    "\n",
    "print(result[\"retriever\"][\"documents\"][0])\n",
    "\n",
    "# Document(id=..., mimetype: 'text/plain',\n",
    "#  text: 'My name is Wolfgang and I live in Berlin')"
   ]
  },
  {
   "cell_type": "markdown",
   "metadata": {},
   "source": [
    "And we can package it as endpoint and deploy."
   ]
  },
  {
   "cell_type": "code",
   "execution_count": 13,
   "metadata": {},
   "outputs": [],
   "source": [
    "from typing import TypedDict\n",
    "\n",
    "from haystack import Document, Pipeline\n",
    "from haystack.components.retrievers.in_memory import InMemoryEmbeddingRetriever\n",
    "from haystack.document_stores.in_memory import InMemoryDocumentStore\n",
    "\n",
    "from aana.api.api_generation import Endpoint\n",
    "\n",
    "\n",
    "class HaystackTestEndpointOutput(TypedDict):\n",
    "    response: str\n",
    "\n",
    "\n",
    "class HaystackTestEndpoint(Endpoint):\n",
    "    async def initialize(self):\n",
    "        document_store = InMemoryDocumentStore(embedding_similarity_function=\"cosine\")\n",
    "\n",
    "        documents = [\n",
    "            Document(content=\"My name is Wolfgang and I live in Berlin\"),\n",
    "            Document(content=\"I saw a black horse running\"),\n",
    "            Document(content=\"Germany has many big cities\"),\n",
    "        ]\n",
    "\n",
    "        document_embedder = RemoteHaystackComponent(\"document_embedder_deployment\")\n",
    "        document_embedder.warm_up()\n",
    "        documents_with_embeddings = document_embedder.run(documents=documents)[\n",
    "            \"documents\"\n",
    "        ]\n",
    "        document_store.write_documents(documents_with_embeddings)\n",
    "\n",
    "        text_embedder = RemoteHaystackComponent(\"text_embedder_deployment\")\n",
    "        text_embedder.warm_up()\n",
    "\n",
    "        self.query_pipeline = Pipeline()\n",
    "        self.query_pipeline.add_component(\"text_embedder\", text_embedder)\n",
    "        self.query_pipeline.add_component(\n",
    "            \"retriever\", InMemoryEmbeddingRetriever(document_store=document_store)\n",
    "        )\n",
    "        self.query_pipeline.connect(\n",
    "            \"text_embedder.embedding\", \"retriever.query_embedding\"\n",
    "        )\n",
    "\n",
    "    async def run(self, query: str) -> HaystackTestEndpointOutput:\n",
    "        result = self.query_pipeline.run({\"text_embedder\": {\"text\": query}})\n",
    "        return result[\"retriever\"][\"documents\"][0].content"
   ]
  },
  {
   "cell_type": "code",
   "execution_count": 14,
   "metadata": {},
   "outputs": [],
   "source": [
    "aana_app.register_endpoint(\n",
    "    name=\"haystack_test_endpoint\",\n",
    "    summary=\"A test endpoint for Haystack\",\n",
    "    path=\"/query\",\n",
    "    endpoint_cls=HaystackTestEndpoint,\n",
    ")"
   ]
  },
  {
   "cell_type": "code",
   "execution_count": 15,
   "metadata": {},
   "outputs": [
    {
     "name": "stdout",
     "output_type": "stream",
     "text": [
      "Deployed successfully.\n"
     ]
    }
   ],
   "source": [
    "aana_app.deploy(blocking=False)"
   ]
  },
  {
   "cell_type": "markdown",
   "metadata": {},
   "source": [
    "Let's try a few requests."
   ]
  },
  {
   "cell_type": "code",
   "execution_count": 16,
   "metadata": {},
   "outputs": [
    {
     "name": "stdout",
     "output_type": "stream",
     "text": [
      "My name is Wolfgang and I live in Berlin\n"
     ]
    }
   ],
   "source": [
    "import requests, json\n",
    "\n",
    "data = {\"query\": \"Who lives in Berlin?\"}\n",
    "response = requests.post(\n",
    "    \"http://127.0.0.1:8000/query\",\n",
    "    data={\"body\": json.dumps(data)},\n",
    ")\n",
    "print(response.json())"
   ]
  },
  {
   "cell_type": "code",
   "execution_count": 17,
   "metadata": {},
   "outputs": [
    {
     "name": "stdout",
     "output_type": "stream",
     "text": [
      "Germany has many big cities\n"
     ]
    }
   ],
   "source": [
    "import requests, json\n",
    "\n",
    "data = {\"query\": \"What is the interesting fact about Germany?\"}\n",
    "response = requests.post(\n",
    "    \"http://127.0.0.1:8000/query\",\n",
    "    data={\"body\": json.dumps(data)},\n",
    ")\n",
    "print(response.json())"
   ]
  },
  {
   "cell_type": "code",
   "execution_count": null,
   "metadata": {},
   "outputs": [],
   "source": []
  }
 ],
 "metadata": {
  "kernelspec": {
   "display_name": "aana-vIr3-B0u-py3.10",
   "language": "python",
   "name": "python3"
  },
  "language_info": {
   "codemirror_mode": {
    "name": "ipython",
    "version": 3
   },
   "file_extension": ".py",
   "mimetype": "text/x-python",
   "name": "python",
   "nbconvert_exporter": "python",
   "pygments_lexer": "ipython3",
   "version": "3.10.14"
  }
 },
 "nbformat": 4,
 "nbformat_minor": 2
}
