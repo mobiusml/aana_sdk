{
 "cells": [
  {
   "cell_type": "markdown",
   "metadata": {},
   "source": [
    "### Haystack Deepset Integration\n",
    "\n",
    "The notebook shows how to integrate Deepsets Haystack with Aana SDK. `HaystackComponentDeployment` is a class that wraps the deployment that allows to deploy Haystack components as a separate deployment. This is quite useful for deploying components that represent deep learning models. This has a few advantages:\n",
    "- It allows to deploy the model only once and reuse it from multiple Haystack Pipelines. This leads to more efficient resource usage like GPU memory.\n",
    "- It allows you to scale Haystack Pipelines to a cluster of machines with minimal effort. "
   ]
  },
  {
   "cell_type": "code",
   "execution_count": 1,
   "metadata": {},
   "outputs": [],
   "source": [
    "import os\n",
    "\n",
    "os.environ[\"CUDA_VISIBLE_DEVICES\"] = \"0\""
   ]
  },
  {
   "cell_type": "markdown",
   "metadata": {},
   "source": [
    "Create Aana SDK and connect to the cluster."
   ]
  },
  {
   "cell_type": "code",
   "execution_count": 2,
   "metadata": {},
   "outputs": [
    {
     "name": "stderr",
     "output_type": "stream",
     "text": [
      "/root/.cache/pypoetry/virtualenvs/aana-vIr3-B0u-py3.10/lib/python3.10/site-packages/tqdm/auto.py:21: TqdmWarning: IProgress not found. Please update jupyter and ipywidgets. See https://ipywidgets.readthedocs.io/en/stable/user_install.html\n",
      "  from .autonotebook import tqdm as notebook_tqdm\n",
      "2024-06-24 13:53:56,920\tINFO util.py:154 -- Missing packages: ['ipywidgets']. Run `pip install -U ipywidgets`, then restart the notebook server for rich notebook output.\n",
      "/root/.cache/pypoetry/virtualenvs/aana-vIr3-B0u-py3.10/lib/python3.10/site-packages/pydantic/_internal/_fields.py:160: UserWarning: Field \"model_dir\" has conflict with protected namespace \"model_\".\n",
      "\n",
      "You may be able to resolve this warning by setting `model_config['protected_namespaces'] = ('settings_',)`.\n",
      "  warnings.warn(\n",
      "2024-06-24 13:54:00,758\tWARNING services.py:2009 -- WARNING: The object store is using /tmp instead of /dev/shm because /dev/shm has only 67108864 bytes available. This will harm performance! You may be able to free up space by deleting files in /dev/shm. If you are inside a Docker container, you can increase /dev/shm size by passing '--shm-size=10.24gb' to 'docker run' (or add it to the run_options list in a Ray cluster config). Make sure to set this to more than 30% of available RAM.\n",
      "2024-06-24 13:54:01,948\tINFO worker.py:1740 -- Started a local Ray instance. View the dashboard at \u001b[1m\u001b[32m127.0.0.1:8265 \u001b[39m\u001b[22m\n"
     ]
    }
   ],
   "source": [
    "from aana.sdk import AanaSDK\n",
    "\n",
    "\n",
    "aana_app = AanaSDK().connect()"
   ]
  },
  {
   "cell_type": "markdown",
   "metadata": {},
   "source": [
    "Deploy Haystack components for embeddings"
   ]
  },
  {
   "cell_type": "code",
   "execution_count": 3,
   "metadata": {},
   "outputs": [],
   "source": [
    "from aana.deployments.haystack_component_deployment import (\n",
    "    HaystackComponentDeployment,\n",
    "    HaystackComponentDeploymentConfig,\n",
    ")"
   ]
  },
  {
   "cell_type": "markdown",
   "metadata": {},
   "source": [
    "Deploy text embedding model"
   ]
  },
  {
   "cell_type": "code",
   "execution_count": 4,
   "metadata": {},
   "outputs": [
    {
     "name": "stderr",
     "output_type": "stream",
     "text": [
      "The new client HTTP config differs from the existing one in the following fields: ['location']. The new HTTP config is ignored.\n",
      "2024-06-24 13:54:08,899\tINFO handle.py:126 -- Created DeploymentHandle '0ie8tjwu' for Deployment(name='HaystackComponentDeployment', app='text_embedder_deployment').\n",
      "2024-06-24 13:54:08,901\tINFO handle.py:126 -- Created DeploymentHandle 'fu08b8jl' for Deployment(name='HaystackComponentDeployment', app='text_embedder_deployment').\n",
      "2024-06-24 13:54:16,961\tINFO handle.py:126 -- Created DeploymentHandle 'bs4h9h59' for Deployment(name='HaystackComponentDeployment', app='text_embedder_deployment').\n",
      "2024-06-24 13:54:16,963\tINFO api.py:584 -- Deployed app 'text_embedder_deployment' successfully.\n"
     ]
    }
   ],
   "source": [
    "text_embedder_deployment = HaystackComponentDeployment.options(\n",
    "    num_replicas=1,                                                                 # Number of replicas for the component\n",
    "    ray_actor_options={\"num_gpus\": 0.25},                                           # Allocate 0.25 GPU, should be > 0 if the component requires GPU.\n",
    "    user_config=HaystackComponentDeploymentConfig(\n",
    "        component=\"haystack.components.embedders.SentenceTransformersTextEmbedder\", # Path to the Haystack component class\n",
    "        params={\"model\": \"sentence-transformers/all-mpnet-base-v2\"},                # Parameters of the Haystack component class\n",
    "    ).model_dump(),\n",
    ")\n",
    "aana_app.register_deployment(\n",
    "    name=\"text_embedder_deployment\",    # Name of the deployment, which will be using to access the deployment\n",
    "    instance=text_embedder_deployment,  # Instance of the deployment that we just created above\n",
    "    deploy=True                         # Tell Aana to deploy the component immediately instead of waiting `aana_app.deploy()`\n",
    ")"
   ]
  },
  {
   "cell_type": "markdown",
   "metadata": {},
   "source": [
    "Deploy document embeddings model similar to the text embeddings model"
   ]
  },
  {
   "cell_type": "code",
   "execution_count": 5,
   "metadata": {},
   "outputs": [
    {
     "name": "stderr",
     "output_type": "stream",
     "text": [
      "2024-06-24 13:54:16,986\tWARNING deployment.py:417 -- DeprecationWarning: `max_concurrent_queries` in `@serve.deployment` has been deprecated and replaced by `max_ongoing_requests`.\n",
      "The new client HTTP config differs from the existing one in the following fields: ['location']. The new HTTP config is ignored.\n",
      "2024-06-24 13:54:16,999\tINFO handle.py:126 -- Created DeploymentHandle 'eg65u5ye' for Deployment(name='HaystackComponentDeployment', app='document_embedder_deployment').\n",
      "2024-06-24 13:54:17,001\tINFO handle.py:126 -- Created DeploymentHandle 'kie5azxd' for Deployment(name='HaystackComponentDeployment', app='document_embedder_deployment').\n",
      "2024-06-24 13:54:26,078\tINFO handle.py:126 -- Created DeploymentHandle 'azhn85p7' for Deployment(name='HaystackComponentDeployment', app='document_embedder_deployment').\n",
      "2024-06-24 13:54:26,080\tINFO api.py:584 -- Deployed app 'document_embedder_deployment' successfully.\n"
     ]
    }
   ],
   "source": [
    "document_embedder_deployment = HaystackComponentDeployment.options(\n",
    "    num_replicas=1,\n",
    "    max_concurrent_queries=1000,\n",
    "    ray_actor_options={\"num_gpus\": 0.25},\n",
    "    user_config=HaystackComponentDeploymentConfig(\n",
    "        component=\"haystack.components.embedders.SentenceTransformersDocumentEmbedder\",\n",
    "        params={\"model\": \"sentence-transformers/all-mpnet-base-v2\"},\n",
    "    ).model_dump(),\n",
    ")\n",
    "aana_app.register_deployment(\n",
    "    name=\"document_embedder_deployment\", \n",
    "    instance=document_embedder_deployment, \n",
    "    deploy=True\n",
    ")"
   ]
  },
  {
   "cell_type": "markdown",
   "metadata": {},
   "source": [
    "Now you can replace original Haystack components with Remote components that run on the cluster and can be reused by different endpoints and workers."
   ]
  },
  {
   "cell_type": "code",
   "execution_count": 6,
   "metadata": {},
   "outputs": [
    {
     "name": "stderr",
     "output_type": "stream",
     "text": [
      "2024-06-24 13:54:26,131\tINFO handle.py:126 -- Created DeploymentHandle 'lwf329xw' for Deployment(name='HaystackComponentDeployment', app='document_embedder_deployment').\n",
      "2024-06-24 13:54:26,142\tINFO pow_2_scheduler.py:260 -- Got updated replicas for Deployment(name='HaystackComponentDeployment', app='document_embedder_deployment'): {'y190ojim'}.\n"
     ]
    },
    {
     "name": "stderr",
     "output_type": "stream",
     "text": [
      "2024-06-24 13:54:26,170\tINFO handle.py:126 -- Created DeploymentHandle 'jc770375' for Deployment(name='HaystackComponentDeployment', app='document_embedder_deployment').\n",
      "2024-06-24 13:54:26,184\tINFO handle.py:126 -- Created DeploymentHandle 'wad4u0zw' for Deployment(name='HaystackComponentDeployment', app='document_embedder_deployment').\n",
      "2024-06-24 13:54:26,426\tINFO handle.py:126 -- Created DeploymentHandle '726yltn1' for Deployment(name='HaystackComponentDeployment', app='text_embedder_deployment').\n",
      "2024-06-24 13:54:26,437\tINFO pow_2_scheduler.py:260 -- Got updated replicas for Deployment(name='HaystackComponentDeployment', app='text_embedder_deployment'): {'muzsj4w4'}.\n",
      "2024-06-24 13:54:26,458\tINFO handle.py:126 -- Created DeploymentHandle 'meuxfpwo' for Deployment(name='HaystackComponentDeployment', app='text_embedder_deployment').\n",
      "2024-06-24 13:54:26,478\tINFO handle.py:126 -- Created DeploymentHandle '7juh3dpv' for Deployment(name='HaystackComponentDeployment', app='text_embedder_deployment').\n",
      "2024-06-24 13:54:26,491\tINFO handle.py:126 -- Created DeploymentHandle 'urv6oi80' for Deployment(name='HaystackComponentDeployment', app='text_embedder_deployment').\n",
      "2024-06-24 13:54:26,505\tINFO handle.py:126 -- Created DeploymentHandle 'mtmvd4ep' for Deployment(name='HaystackComponentDeployment', app='text_embedder_deployment').\n"
     ]
    },
    {
     "name": "stdout",
     "output_type": "stream",
     "text": [
      "Document(id=62fad790ad2af927af9432c87330ed2ea5e31332cdec8e9d6235a5105ab0aaf5, content: 'My name is Wolfgang and I live in Berlin', score: 0.5515621736829024)\n"
     ]
    }
   ],
   "source": [
    "from haystack import Document, Pipeline\n",
    "from haystack.components.retrievers.in_memory import InMemoryEmbeddingRetriever\n",
    "from haystack.document_stores.in_memory import InMemoryDocumentStore\n",
    "\n",
    "from aana.deployments.haystack_component_deployment import RemoteHaystackComponent\n",
    "\n",
    "document_store = InMemoryDocumentStore(embedding_similarity_function=\"cosine\")\n",
    "\n",
    "documents = [\n",
    "    Document(content=\"My name is Wolfgang and I live in Berlin\"),\n",
    "    Document(content=\"I saw a black horse running\"),\n",
    "    Document(content=\"Germany has many big cities\"),\n",
    "]\n",
    "\n",
    "document_embedder = RemoteHaystackComponent(\n",
    "    \"document_embedder_deployment\"\n",
    ")  # instead of SentenceTransformersDocumentEmbedder()\n",
    "document_embedder.warm_up()\n",
    "documents_with_embeddings = document_embedder.run(documents=documents)[\"documents\"]\n",
    "document_store.write_documents(documents_with_embeddings)\n",
    "\n",
    "text_embedder = RemoteHaystackComponent(\n",
    "    \"text_embedder_deployment\"\n",
    ")  # SentenceTransformersTextEmbedder()\n",
    "text_embedder.warm_up()\n",
    "\n",
    "query_pipeline = Pipeline()\n",
    "query_pipeline.add_component(\"text_embedder\", text_embedder)\n",
    "query_pipeline.add_component(\n",
    "    \"retriever\", InMemoryEmbeddingRetriever(document_store=document_store)\n",
    ")\n",
    "query_pipeline.connect(\"text_embedder.embedding\", \"retriever.query_embedding\")\n",
    "\n",
    "query = \"Who lives in Berlin?\"\n",
    "\n",
    "result = query_pipeline.run({\"text_embedder\": {\"text\": query}})\n",
    "\n",
    "print(result[\"retriever\"][\"documents\"][0])\n",
    "\n",
    "# Document(id=..., mimetype: 'text/plain',\n",
    "#  text: 'My name is Wolfgang and I live in Berlin')"
   ]
  },
  {
   "cell_type": "markdown",
   "metadata": {},
   "source": [
    "And we can package it as endpoint and deploy."
   ]
  },
  {
   "cell_type": "code",
   "execution_count": 7,
   "metadata": {},
   "outputs": [],
   "source": [
    "from typing import TypedDict\n",
    "\n",
    "from haystack import Document, Pipeline\n",
    "from haystack.components.retrievers.in_memory import InMemoryEmbeddingRetriever\n",
    "from haystack.document_stores.in_memory import InMemoryDocumentStore\n",
    "\n",
    "from aana.api.api_generation import Endpoint\n",
    "\n",
    "\n",
    "class HaystackTestEndpointOutput(TypedDict):\n",
    "    \"\"\"Output of the HaystackTestEndpoint.\"\"\"\n",
    "    response: str\n",
    "\n",
    "\n",
    "class HaystackTestEndpoint(Endpoint):\n",
    "    \"\"\"Endpoint to deploy a Haystack pipeline.\"\"\"\n",
    "    async def initialize(self):\n",
    "        \"\"\"Initialize the endpoint by creating a Haystack pipeline.\"\"\"\n",
    "        document_store = InMemoryDocumentStore(embedding_similarity_function=\"cosine\")\n",
    "\n",
    "        documents = [\n",
    "            Document(content=\"My name is Wolfgang and I live in Berlin\"),\n",
    "            Document(content=\"I saw a black horse running\"),\n",
    "            Document(content=\"Germany has many big cities\"),\n",
    "        ]\n",
    "\n",
    "        document_embedder = RemoteHaystackComponent(\"document_embedder_deployment\")\n",
    "        document_embedder.warm_up()\n",
    "        documents_with_embeddings = document_embedder.run(documents=documents)[\n",
    "            \"documents\"\n",
    "        ]\n",
    "        document_store.write_documents(documents_with_embeddings)\n",
    "\n",
    "        text_embedder = RemoteHaystackComponent(\"text_embedder_deployment\")\n",
    "        text_embedder.warm_up()\n",
    "\n",
    "        self.query_pipeline = Pipeline()\n",
    "        self.query_pipeline.add_component(\"text_embedder\", text_embedder)\n",
    "        self.query_pipeline.add_component(\n",
    "            \"retriever\", InMemoryEmbeddingRetriever(document_store=document_store)\n",
    "        )\n",
    "        self.query_pipeline.connect(\n",
    "            \"text_embedder.embedding\", \"retriever.query_embedding\"\n",
    "        )\n",
    "        super().initialize()\n",
    "\n",
    "    async def run(self, query: str) -> HaystackTestEndpointOutput:\n",
    "        \"\"\"Query the pipeline with the given text.\"\"\"\n",
    "        result = self.query_pipeline.run({\"text_embedder\": {\"text\": query}})\n",
    "        return {\"response\": result[\"retriever\"][\"documents\"][0].content}"
   ]
  },
  {
   "cell_type": "markdown",
   "metadata": {},
   "source": [
    "Now we register the endpoint with Aana and deploy it."
   ]
  },
  {
   "cell_type": "code",
   "execution_count": 8,
   "metadata": {},
   "outputs": [],
   "source": [
    "aana_app.register_endpoint(\n",
    "    name=\"haystack_test_endpoint\",\n",
    "    summary=\"A test endpoint for Haystack\",\n",
    "    path=\"/query\",\n",
    "    endpoint_cls=HaystackTestEndpoint,\n",
    ")"
   ]
  },
  {
   "cell_type": "code",
   "execution_count": 9,
   "metadata": {},
   "outputs": [
    {
     "name": "stderr",
     "output_type": "stream",
     "text": [
      "2024-06-24 13:54:26,767\tWARNING deployment.py:410 -- DeprecationWarning: `route_prefix` in `@serve.deployment` has been deprecated. To specify a route prefix for an application, pass it into `serve.run` instead.\n",
      "The new client HTTP config differs from the existing one in the following fields: ['location']. The new HTTP config is ignored.\n",
      "2024-06-24 13:54:26,801\tINFO handle.py:126 -- Created DeploymentHandle 'hg71i9xj' for Deployment(name='TaskQueueDeployment', app='task_queue_deployment').\n",
      "2024-06-24 13:54:26,802\tINFO handle.py:126 -- Created DeploymentHandle '3yojks31' for Deployment(name='TaskQueueDeployment', app='task_queue_deployment').\n",
      "2024-06-24 13:54:29,839\tINFO handle.py:126 -- Created DeploymentHandle 'zrroj18d' for Deployment(name='TaskQueueDeployment', app='task_queue_deployment').\n",
      "2024-06-24 13:54:29,840\tINFO api.py:584 -- Deployed app 'task_queue_deployment' successfully.\n",
      "The new client HTTP config differs from the existing one in the following fields: ['location']. The new HTTP config is ignored.\n",
      "2024-06-24 13:54:29,891\tINFO handle.py:126 -- Created DeploymentHandle 'apqinbvo' for Deployment(name='RequestHandler', app='app').\n",
      "2024-06-24 13:54:29,892\tINFO handle.py:126 -- Created DeploymentHandle 'zux133jm' for Deployment(name='RequestHandler', app='app').\n",
      "2024-06-24 13:54:34,945\tINFO handle.py:126 -- Created DeploymentHandle 'xyc646av' for Deployment(name='RequestHandler', app='app').\n",
      "2024-06-24 13:54:34,947\tINFO api.py:584 -- Deployed app 'app' successfully.\n"
     ]
    },
    {
     "data": {
      "text/html": [
       "<pre style=\"white-space:pre;overflow-x:auto;line-height:normal;font-family:Menlo,'DejaVu Sans Mono',consolas,'Courier New',monospace\"><span style=\"color: #008000; text-decoration-color: #008000\">Deployed successfully.</span>\n",
       "</pre>\n"
      ],
      "text/plain": [
       "\u001b[32mDeployed successfully.\u001b[0m\n"
      ]
     },
     "metadata": {},
     "output_type": "display_data"
    },
    {
     "data": {
      "text/html": [
       "<pre style=\"white-space:pre;overflow-x:auto;line-height:normal;font-family:Menlo,'DejaVu Sans Mono',consolas,'Courier New',monospace\">Documentation is available at <a href=\"http://127.0.0.1:8000/docs\" target=\"_blank\"><span style=\"color: #0000ff; text-decoration-color: #0000ff; text-decoration: underline\">http://127.0.0.1:8000/docs</span></a> and <a href=\"http://127.0.0.1:8000/redoc\" target=\"_blank\"><span style=\"color: #0000ff; text-decoration-color: #0000ff; text-decoration: underline\">http://127.0.0.1:8000/redoc</span></a>\n",
       "</pre>\n"
      ],
      "text/plain": [
       "Documentation is available at \u001b]8;id=805006;http://127.0.0.1:8000/docs\u001b\\\u001b[4;94mhttp://127.0.0.1:8000/docs\u001b[0m\u001b]8;;\u001b\\ and \u001b]8;id=613167;http://127.0.0.1:8000/redoc\u001b\\\u001b[4;94mhttp://127.0.0.1:8000/redoc\u001b[0m\u001b]8;;\u001b\\\n"
      ]
     },
     "metadata": {},
     "output_type": "display_data"
    }
   ],
   "source": [
    "aana_app.deploy(blocking=False)"
   ]
  },
  {
   "cell_type": "markdown",
   "metadata": {},
   "source": [
    "Let's try a few requests."
   ]
  },
  {
   "cell_type": "code",
   "execution_count": 10,
   "metadata": {},
   "outputs": [
    {
     "name": "stdout",
     "output_type": "stream",
     "text": [
      "{'response': 'My name is Wolfgang and I live in Berlin'}\n"
     ]
    }
   ],
   "source": [
    "import requests, json\n",
    "\n",
    "data = {\"query\": \"Who lives in Berlin?\"}\n",
    "response = requests.post(\n",
    "    \"http://127.0.0.1:8000/query\",\n",
    "    data={\"body\": json.dumps(data)},\n",
    ")\n",
    "print(response.json())"
   ]
  },
  {
   "cell_type": "code",
   "execution_count": 11,
   "metadata": {},
   "outputs": [
    {
     "name": "stdout",
     "output_type": "stream",
     "text": [
      "{'response': 'Germany has many big cities'}\n"
     ]
    }
   ],
   "source": [
    "import requests, json\n",
    "\n",
    "data = {\"query\": \"What is the interesting fact about Germany?\"}\n",
    "response = requests.post(\n",
    "    \"http://127.0.0.1:8000/query\",\n",
    "    data={\"body\": json.dumps(data)},\n",
    ")\n",
    "print(response.json())"
   ]
  },
  {
   "cell_type": "markdown",
   "metadata": {},
   "source": [
    "Works! The Haystack pipeline is deployed successfully and the query is answered correctly. Now you have a Haystack pipeline deployed with Aana! 🚀\n",
    "You can scale it to a cluster of machines or extend it with more components and pipelines."
   ]
  }
 ],
 "metadata": {
  "kernelspec": {
   "display_name": "aana-vIr3-B0u-py3.10",
   "language": "python",
   "name": "python3"
  },
  "language_info": {
   "codemirror_mode": {
    "name": "ipython",
    "version": 3
   },
   "file_extension": ".py",
   "mimetype": "text/x-python",
   "name": "python",
   "nbconvert_exporter": "python",
   "pygments_lexer": "ipython3",
   "version": "3.10.14"
  }
 },
 "nbformat": 4,
 "nbformat_minor": 2
}
