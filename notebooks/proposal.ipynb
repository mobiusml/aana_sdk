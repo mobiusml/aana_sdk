{
 "cells": [
  {
   "cell_type": "code",
   "execution_count": 1,
   "metadata": {},
   "outputs": [],
   "source": [
    "import os\n",
    "\n",
    "os.environ[\"CUDA_VISIBLE_DEVICES\"] = \"0\""
   ]
  },
  {
   "cell_type": "code",
   "execution_count": 2,
   "metadata": {},
   "outputs": [
    {
     "name": "stderr",
     "output_type": "stream",
     "text": [
      "/root/.cache/pypoetry/virtualenvs/aana-vIr3-B0u-py3.10/lib/python3.10/site-packages/tqdm/auto.py:21: TqdmWarning: IProgress not found. Please update jupyter and ipywidgets. See https://ipywidgets.readthedocs.io/en/stable/user_install.html\n",
      "  from .autonotebook import tqdm as notebook_tqdm\n",
      "2024-04-12 14:31:58,421\tINFO util.py:154 -- Missing packages: ['ipywidgets']. Run `pip install -U ipywidgets`, then restart the notebook server for rich notebook output.\n",
      "DeprecationWarning: `route_prefix` in `@serve.deployment` has been deprecated. To specify a route prefix for an application, pass it into `serve.run` instead.\n",
      "2024-04-12 14:32:02,938\tWARNING services.py:1996 -- WARNING: The object store is using /tmp instead of /dev/shm because /dev/shm has only 67108864 bytes available. This will harm performance! You may be able to free up space by deleting files in /dev/shm. If you are inside a Docker container, you can increase /dev/shm size by passing '--shm-size=10.24gb' to 'docker run' (or add it to the run_options list in a Ray cluster config). Make sure to set this to more than 30% of available RAM.\n",
      "2024-04-12 14:32:04,118\tINFO worker.py:1715 -- Started a local Ray instance. View the dashboard at \u001b[1m\u001b[32m127.0.0.1:8265 \u001b[39m\u001b[22m\n"
     ]
    }
   ],
   "source": [
    "from aana.api.sdk import AanaSDK\n",
    "from aana.api.sdk import get_deployment\n",
    "\n",
    "\n",
    "aana_sdk = AanaSDK(port=8000)"
   ]
  },
  {
   "cell_type": "code",
   "execution_count": null,
   "metadata": {},
   "outputs": [],
   "source": []
  },
  {
   "cell_type": "code",
   "execution_count": 3,
   "metadata": {},
   "outputs": [
    {
     "name": "stderr",
     "output_type": "stream",
     "text": [
      "/root/.cache/pypoetry/virtualenvs/aana-vIr3-B0u-py3.10/lib/python3.10/site-packages/pydantic/_internal/_fields.py:151: UserWarning: Field \"model_dir\" has conflict with protected namespace \"model_\".\n",
      "\n",
      "You may be able to resolve this warning by setting `model_config['protected_namespaces'] = ('settings_',)`.\n",
      "  warnings.warn(\n"
     ]
    }
   ],
   "source": [
    "from typing import Annotated, TypedDict\n",
    "\n",
    "from pydantic import Field\n",
    "from aana.models.pydantic.video_input import VideoInput\n",
    "from aana.utils.video import download_video\n",
    "from aana.models.core.video import Video\n",
    "\n",
    "\n",
    "class VideoInfo(TypedDict):\n",
    "    title: Annotated[str, Field(..., description=\"Video title\")]\n",
    "    description: Annotated[str, Field(..., description=\"Video description\")]\n",
    "\n",
    "\n",
    "async def get_video_info(video_input: VideoInput) -> VideoInfo:\n",
    "    video: Video = download_video(video_input=video_input)\n",
    "    return {\n",
    "        \"title\": video.title,\n",
    "        \"description\": video.description,\n",
    "    }\n",
    "\n",
    "\n",
    "aana_sdk.register_endpoint(\n",
    "    name=\"get_video_info\",\n",
    "    path=\"/get_video_info\",\n",
    "    summary=\"Get video info\",\n",
    "    func=get_video_info,\n",
    ")"
   ]
  },
  {
   "cell_type": "code",
   "execution_count": 4,
   "metadata": {},
   "outputs": [
    {
     "name": "stderr",
     "output_type": "stream",
     "text": [
      "\u001b[36m(ProxyActor pid=374091)\u001b[0m INFO 2024-04-12 14:32:16,847 proxy 172.17.0.2 proxy.py:1143 - Proxy actor ad7de7b45a7c27faf5ea7f2d01000000 starting on node ac67ca1482891a0430bbc62ff39e8407d19a20aef59f375e653e2322.\n",
      "\u001b[36m(ProxyActor pid=374091)\u001b[0m INFO 2024-04-12 14:32:16,856 proxy 172.17.0.2 proxy.py:1357 - Starting HTTP server on node: ac67ca1482891a0430bbc62ff39e8407d19a20aef59f375e653e2322 listening on port 8000\n",
      "\u001b[36m(ProxyActor pid=374091)\u001b[0m INFO:     Started server process [374091]\n",
      "\u001b[36m(ServeController pid=374016)\u001b[0m INFO 2024-04-12 14:32:16,959 controller 374016 deployment_state.py:1547 - Deploying new version of deployment RequestHandler in application 'RequestHandler'. Setting initial target number of replicas to 1.\n",
      "\u001b[36m(ServeController pid=374016)\u001b[0m INFO 2024-04-12 14:32:17,064 controller 374016 deployment_state.py:1831 - Adding 1 replica to deployment RequestHandler in application 'RequestHandler'.\n",
      "\u001b[36m(ServeReplica:RequestHandler:RequestHandler pid=374165)\u001b[0m /root/.cache/pypoetry/virtualenvs/aana-vIr3-B0u-py3.10/lib/python3.10/site-packages/pydantic/_internal/_fields.py:151: UserWarning: Field \"model_dir\" has conflict with protected namespace \"model_\".\n",
      "\u001b[36m(ServeReplica:RequestHandler:RequestHandler pid=374165)\u001b[0m \n",
      "\u001b[36m(ServeReplica:RequestHandler:RequestHandler pid=374165)\u001b[0m You may be able to resolve this warning by setting `model_config['protected_namespaces'] = ('settings_',)`.\n",
      "\u001b[36m(ServeReplica:RequestHandler:RequestHandler pid=374165)\u001b[0m   warnings.warn(\n",
      "\u001b[36m(ServeReplica:RequestHandler:RequestHandler pid=374165)\u001b[0m INFO 2024-04-12 14:32:24,530 RequestHandler_RequestHandler AKYyEO 8594c357-55fd-4d22-9ed7-7e8abd1d59d7 / replica.py:772 - __CALL__ OK 0.7ms\n",
      "\u001b[36m(ServeReplica:RequestHandler:RequestHandler pid=374165)\u001b[0m INFO 2024-04-12 14:32:24,635 RequestHandler_RequestHandler AKYyEO e33ea49b-406b-4b4a-9f9e-809c68a7684c /favicon.ico replica.py:772 - __CALL__ OK 0.9ms\n",
      "\u001b[36m(ServeReplica:RequestHandler:RequestHandler pid=374165)\u001b[0m INFO 2024-04-12 14:32:30,834 RequestHandler_RequestHandler AKYyEO 36951ad1-3fad-4b5e-94ef-f90916cf8e67 /redoc replica.py:772 - __CALL__ OK 0.6ms\n",
      "\u001b[36m(ServeReplica:RequestHandler:RequestHandler pid=374165)\u001b[0m INFO 2024-04-12 14:32:31,278 RequestHandler_RequestHandler AKYyEO 8dee9332-f373-4c85-9580-5284366cf76f /openapi.json replica.py:772 - __CALL__ OK 12.0ms\n"
     ]
    },
    {
     "name": "stderr",
     "output_type": "stream",
     "text": [
      "2024-04-12 14:32:25,012\tINFO router.py:959 -- Using router <class 'ray.serve._private.router.PowerOfTwoChoicesReplicaScheduler'>.\n",
      "2024-04-12 14:32:25,030\tINFO router.py:496 -- Got updated replicas for deployment 'RequestHandler' in application 'RequestHandler': {'RequestHandler#RequestHandler#AKYyEO'}.\n"
     ]
    },
    {
     "data": {
      "text/plain": [
       "DeploymentHandle(deployment='RequestHandler')"
      ]
     },
     "execution_count": 4,
     "metadata": {},
     "output_type": "execute_result"
    }
   ],
   "source": [
    "aana_sdk.start_request_handler()"
   ]
  },
  {
   "cell_type": "code",
   "execution_count": null,
   "metadata": {},
   "outputs": [],
   "source": []
  },
  {
   "cell_type": "code",
   "execution_count": 5,
   "metadata": {},
   "outputs": [
    {
     "name": "stdout",
     "output_type": "stream",
     "text": [
      "\u001b[36m(ServeReplica:RequestHandler:RequestHandler pid=36605)\u001b[0m [youtube] Extracting URL: https://www.youtube.com/watch?v=9bZkp7q19f0\n",
      "\u001b[36m(ServeReplica:RequestHandler:RequestHandler pid=36605)\u001b[0m [youtube] 9bZkp7q19f0: Downloading webpage\n",
      "\u001b[36m(ServeReplica:RequestHandler:RequestHandler pid=36605)\u001b[0m [youtube] 9bZkp7q19f0: Downloading ios player API JSON\n",
      "\u001b[36m(ServeReplica:RequestHandler:RequestHandler pid=36605)\u001b[0m [youtube] 9bZkp7q19f0: Downloading android player API JSON\n",
      "\u001b[36m(ServeReplica:RequestHandler:RequestHandler pid=36605)\u001b[0m [youtube] 9bZkp7q19f0: Downloading android player API JSON\n"
     ]
    },
    {
     "name": "stderr",
     "output_type": "stream",
     "text": [
      "\u001b[36m(ServeReplica:RequestHandler:RequestHandler pid=36605)\u001b[0m WARNING: [youtube] YouTube said: ERROR - Precondition check failed.\n",
      "\u001b[36m(ServeReplica:RequestHandler:RequestHandler pid=36605)\u001b[0m WARNING: [youtube] HTTP Error 400: Bad Request. Retrying (1/3)...\n"
     ]
    },
    {
     "name": "stdout",
     "output_type": "stream",
     "text": [
      "\u001b[36m(ServeReplica:RequestHandler:RequestHandler pid=36605)\u001b[0m [youtube] 9bZkp7q19f0: Downloading android player API JSON\n"
     ]
    },
    {
     "name": "stderr",
     "output_type": "stream",
     "text": [
      "\u001b[36m(ServeReplica:RequestHandler:RequestHandler pid=36605)\u001b[0m WARNING: [youtube] YouTube said: ERROR - Precondition check failed.\n",
      "\u001b[36m(ServeReplica:RequestHandler:RequestHandler pid=36605)\u001b[0m WARNING: [youtube] HTTP Error 400: Bad Request. Retrying (2/3)...\n"
     ]
    },
    {
     "name": "stdout",
     "output_type": "stream",
     "text": [
      "\u001b[36m(ServeReplica:RequestHandler:RequestHandler pid=36605)\u001b[0m [youtube] 9bZkp7q19f0: Downloading android player API JSON\n"
     ]
    },
    {
     "name": "stderr",
     "output_type": "stream",
     "text": [
      "\u001b[36m(ServeReplica:RequestHandler:RequestHandler pid=36605)\u001b[0m WARNING: [youtube] YouTube said: ERROR - Precondition check failed.\n",
      "\u001b[36m(ServeReplica:RequestHandler:RequestHandler pid=36605)\u001b[0m WARNING: [youtube] HTTP Error 400: Bad Request. Retrying (3/3)...\n"
     ]
    },
    {
     "name": "stdout",
     "output_type": "stream",
     "text": [
      "\u001b[36m(ServeReplica:RequestHandler:RequestHandler pid=36605)\u001b[0m [youtube] 9bZkp7q19f0: Downloading player d0ea0c5b\n"
     ]
    },
    {
     "name": "stderr",
     "output_type": "stream",
     "text": [
      "\u001b[36m(ServeReplica:RequestHandler:RequestHandler pid=36605)\u001b[0m WARNING: [youtube] YouTube said: ERROR - Precondition check failed.\n",
      "\u001b[36m(ServeReplica:RequestHandler:RequestHandler pid=36605)\u001b[0m WARNING: [youtube] Unable to download API page: HTTP Error 400: Bad Request (caused by <HTTPError 400: Bad Request>); please report this issue on  https://github.com/yt-dlp/yt-dlp/issues?q= , filling out the appropriate issue template. Confirm you are on the latest version using  yt-dlp -U\n"
     ]
    },
    {
     "name": "stdout",
     "output_type": "stream",
     "text": [
      "\u001b[36m(ServeReplica:RequestHandler:RequestHandler pid=36605)\u001b[0m [youtube] Extracting URL: https://www.youtube.com/watch?v=9bZkp7q19f0\n",
      "\u001b[36m(ServeReplica:RequestHandler:RequestHandler pid=36605)\u001b[0m [youtube] 9bZkp7q19f0: Downloading webpage\n",
      "\u001b[36m(ServeReplica:RequestHandler:RequestHandler pid=36605)\u001b[0m [youtube] 9bZkp7q19f0: Downloading ios player API JSON\n",
      "\u001b[36m(ServeReplica:RequestHandler:RequestHandler pid=36605)\u001b[0m [youtube] 9bZkp7q19f0: Downloading android player API JSON\n",
      "\u001b[36m(ServeReplica:RequestHandler:RequestHandler pid=36605)\u001b[0m [youtube] 9bZkp7q19f0: Downloading android player API JSON\n"
     ]
    },
    {
     "name": "stderr",
     "output_type": "stream",
     "text": [
      "\u001b[36m(ServeReplica:RequestHandler:RequestHandler pid=36605)\u001b[0m WARNING: [youtube] YouTube said: ERROR - Precondition check failed.\n",
      "\u001b[36m(ServeReplica:RequestHandler:RequestHandler pid=36605)\u001b[0m WARNING: [youtube] HTTP Error 400: Bad Request. Retrying (1/3)...\n"
     ]
    },
    {
     "name": "stdout",
     "output_type": "stream",
     "text": [
      "\u001b[36m(ServeReplica:RequestHandler:RequestHandler pid=36605)\u001b[0m [youtube] 9bZkp7q19f0: Downloading android player API JSON\n"
     ]
    },
    {
     "name": "stderr",
     "output_type": "stream",
     "text": [
      "\u001b[36m(ServeReplica:RequestHandler:RequestHandler pid=36605)\u001b[0m WARNING: [youtube] YouTube said: ERROR - Precondition check failed.\n",
      "\u001b[36m(ServeReplica:RequestHandler:RequestHandler pid=36605)\u001b[0m WARNING: [youtube] HTTP Error 400: Bad Request. Retrying (2/3)...\n"
     ]
    },
    {
     "name": "stdout",
     "output_type": "stream",
     "text": [
      "\u001b[36m(ServeReplica:RequestHandler:RequestHandler pid=36605)\u001b[0m [youtube] 9bZkp7q19f0: Downloading android player API JSON\n"
     ]
    },
    {
     "name": "stderr",
     "output_type": "stream",
     "text": [
      "\u001b[36m(ServeReplica:RequestHandler:RequestHandler pid=36605)\u001b[0m WARNING: [youtube] YouTube said: ERROR - Precondition check failed.\n",
      "\u001b[36m(ServeReplica:RequestHandler:RequestHandler pid=36605)\u001b[0m WARNING: [youtube] HTTP Error 400: Bad Request. Retrying (3/3)...\n",
      "\u001b[36m(ServeReplica:RequestHandler:RequestHandler pid=36605)\u001b[0m WARNING: [youtube] YouTube said: ERROR - Precondition check failed.\n",
      "\u001b[36m(ServeReplica:RequestHandler:RequestHandler pid=36605)\u001b[0m WARNING: [youtube] Unable to download API page: HTTP Error 400: Bad Request (caused by <HTTPError 400: Bad Request>); please report this issue on  https://github.com/yt-dlp/yt-dlp/issues?q= , filling out the appropriate issue template. Confirm you are on the latest version using  yt-dlp -U\n"
     ]
    },
    {
     "name": "stdout",
     "output_type": "stream",
     "text": [
      "\u001b[36m(ServeReplica:RequestHandler:RequestHandler pid=36605)\u001b[0m [info] 9bZkp7q19f0: Downloading 1 format(s): 248+251\n",
      "\u001b[36m(ServeReplica:RequestHandler:RequestHandler pid=36605)\u001b[0m [download] Destination: /tmp/aana_data/videos/916ed69976ebfbb6b42d994eb1b6d9c0.f248.webm\n",
      "[download]   0.0% of   64.52MiB at    1.65MiB/s ETA 00:395)\u001b[0m \n",
      "[download]   0.1% of   64.52MiB at  386.52KiB/s ETA 02:505)\u001b[0m \n",
      "[download]   0.2% of   64.52MiB at  391.18KiB/s ETA 02:485)\u001b[0m \n",
      "[download]   0.4% of   64.52MiB at  578.35KiB/s ETA 01:535)\u001b[0m \n",
      "[download]   0.8% of   64.52MiB at  795.63KiB/s ETA 01:225)\u001b[0m \n",
      "[download]   1.5% of   64.52MiB at    1.21MiB/s ETA 00:525)\u001b[0m \n",
      "[download]   3.1% of   64.52MiB at    2.01MiB/s ETA 00:315)\u001b[0m \n",
      "[download]   6.2% of   64.52MiB at    3.31MiB/s ETA 00:185)\u001b[0m \n",
      "[download]  12.4% of   64.52MiB at    4.90MiB/s ETA 00:115)\u001b[0m \n",
      "[download]  15.4% of   64.52MiB at    5.40MiB/s ETA 00:105)\u001b[0m \n",
      "[download]  17.0% of   64.52MiB at    9.89MiB/s ETA 00:05  \u001b[0m \n",
      "[download]  18.5% of   64.52MiB at    9.59MiB/s ETA 00:055)\u001b[0m \n",
      "[download]  21.6% of   64.52MiB at    9.52MiB/s ETA 00:055)\u001b[0m \n",
      "[download]  27.8% of   64.52MiB at    9.44MiB/s ETA 00:045)\u001b[0m \n",
      "[download]  30.4% of   64.52MiB at    9.47MiB/s ETA 00:045)\u001b[0m \n",
      "[download]  31.2% of   64.52MiB at    9.74MiB/s ETA 00:04  \u001b[0m \n",
      "[download]  32.0% of   64.52MiB at    9.75MiB/s ETA 00:045)\u001b[0m \n",
      "[download]  33.5% of   64.52MiB at    9.47MiB/s ETA 00:045)\u001b[0m \n",
      "[download]  36.6% of   64.52MiB at    9.49MiB/s ETA 00:045)\u001b[0m \n",
      "[download]  42.8% of   64.52MiB at    9.41MiB/s ETA 00:035)\u001b[0m \n",
      "[download]  45.5% of   64.52MiB at    9.45MiB/s ETA 00:035)\u001b[0m \n",
      "[download]  46.3% of   64.52MiB at   10.08MiB/s ETA 00:03  \u001b[0m \n",
      "[download]  47.1% of   64.52MiB at    9.80MiB/s ETA 00:035)\u001b[0m \n",
      "[download]  48.6% of   64.52MiB at    9.52MiB/s ETA 00:035)\u001b[0m \n",
      "[download]  51.7% of   64.52MiB at    9.49MiB/s ETA 00:035)\u001b[0m \n",
      "[download]  57.9% of   64.52MiB at    9.42MiB/s ETA 00:025)\u001b[0m \n",
      "[download]  60.5% of   64.52MiB at    9.46MiB/s ETA 00:025)\u001b[0m \n",
      "[download]  60.7% of   64.52MiB at   11.62MiB/s ETA 00:02  \u001b[0m \n",
      "[download]  62.0% of   64.52MiB at    9.80MiB/s ETA 00:025)\u001b[0m \n",
      "[download]  63.6% of   64.52MiB at    9.52MiB/s ETA 00:025)\u001b[0m \n",
      "[download]  66.7% of   64.52MiB at    9.48MiB/s ETA 00:025)\u001b[0m \n",
      "[download]  72.9% of   64.52MiB at    9.43MiB/s ETA 00:015)\u001b[0m \n",
      "[download]  75.5% of   64.52MiB at    9.46MiB/s ETA 00:015)\u001b[0m \n",
      "[download]  75.6% of   64.52MiB at   11.62MiB/s ETA 00:01  \u001b[0m \n",
      "[download]  77.0% of   64.52MiB at    9.88MiB/s ETA 00:015)\u001b[0m \n",
      "[download]  78.6% of   64.52MiB at    9.53MiB/s ETA 00:015)\u001b[0m \n",
      "[download]  81.7% of   64.52MiB at    9.49MiB/s ETA 00:015)\u001b[0m \n",
      "[download]  87.9% of   64.52MiB at    9.43MiB/s ETA 00:005)\u001b[0m \n",
      "[download]  90.9% of   64.52MiB at    9.47MiB/s ETA 00:005)\u001b[0m \n",
      "[download]  91.0% of   64.52MiB at   10.84MiB/s ETA 00:00  \u001b[0m \n",
      "[download]  91.0% of   64.52MiB at   14.46MiB/s ETA 00:005)\u001b[0m \n",
      "[download]  91.1% of   64.52MiB at   11.60MiB/s ETA 00:005)\u001b[0m \n",
      "[download]  92.5% of   64.52MiB at    9.90MiB/s ETA 00:005)\u001b[0m \n",
      "[download]  94.0% of   64.52MiB at    9.53MiB/s ETA 00:005)\u001b[0m \n",
      "[download]  97.1% of   64.52MiB at    9.49MiB/s ETA 00:005)\u001b[0m \n",
      "[download] 100% of   64.52MiB in 00:00:10 at 6.29MiB/s   5)\u001b[0m \n",
      "\u001b[36m(ServeReplica:RequestHandler:RequestHandler pid=36605)\u001b[0m [download] Destination: /tmp/aana_data/videos/916ed69976ebfbb6b42d994eb1b6d9c0.f251.webm\n",
      "[download]  13.1% of    3.81MiB at   10.04MiB/s ETA 00:00  \u001b[0m \n",
      "[download]  26.3% of    3.81MiB at    9.89MiB/s ETA 00:005)\u001b[0m \n",
      "[download]  52.5% of    3.81MiB at    9.09MiB/s ETA 00:005)\u001b[0m \n",
      "[download] 100% of    3.81MiB in 00:00:00 at 6.40MiB/s   5)\u001b[0m \n",
      "\u001b[36m(ServeReplica:RequestHandler:RequestHandler pid=36605)\u001b[0m [Merger] Merging formats into \"/tmp/aana_data/videos/916ed69976ebfbb6b42d994eb1b6d9c0.webm\"\n",
      "\u001b[36m(ServeReplica:RequestHandler:RequestHandler pid=36605)\u001b[0m Deleting original file /tmp/aana_data/videos/916ed69976ebfbb6b42d994eb1b6d9c0.f251.webm (pass -k to keep)\n",
      "\u001b[36m(ServeReplica:RequestHandler:RequestHandler pid=36605)\u001b[0m Deleting original file /tmp/aana_data/videos/916ed69976ebfbb6b42d994eb1b6d9c0.f248.webm (pass -k to keep)\n"
     ]
    },
    {
     "data": {
      "text/plain": [
       "{'title': 'PSY - GANGNAM STYLE(강남스타일) M/V',\n",
       " 'description': \"PSY - ‘I LUV IT’ M/V @ https://youtu.be/Xvjnoagk6GU\\nPSY - ‘New Face’ M/V @https://youtu.be/OwJPPaEyqhI\\n\\nPSY - 8TH ALBUM '4X2=8' on iTunes @\\nhttps://smarturl.it/PSY_8thAlbum\\n\\nPSY - GANGNAM STYLE(강남스타일) on iTunes @ http://smarturl.it/PsyGangnam\\n\\n#PSY #싸이 #GANGNAMSTYLE #강남스타일\\n\\nMore about PSY@\\nhttp://www.youtube.com/officialpsy\\nhttp://www.facebook.com/officialpsy\\nhttp://twitter.com/psy_oppa\\nhttps://www.instagram.com/42psy42\\nhttp://iTunes.com/PSY\\nhttp://sptfy.com/PSY\\nhttp://weibo.com/psyoppa\"}"
      ]
     },
     "execution_count": 5,
     "metadata": {},
     "output_type": "execute_result"
    }
   ],
   "source": [
    "import requests, json\n",
    "\n",
    "data = {\"video_input\": {\"url\": \"https://www.youtube.com/watch?v=9bZkp7q19f0\"}}\n",
    "requests.post(\n",
    "    \"http://127.0.0.1:8000/get_video_info\", data={\"body\": json.dumps(data)}\n",
    ").json()"
   ]
  },
  {
   "cell_type": "code",
   "execution_count": null,
   "metadata": {},
   "outputs": [],
   "source": []
  },
  {
   "cell_type": "code",
   "execution_count": null,
   "metadata": {},
   "outputs": [],
   "source": []
  },
  {
   "cell_type": "code",
   "execution_count": 6,
   "metadata": {},
   "outputs": [
    {
     "name": "stderr",
     "output_type": "stream",
     "text": [
      "/root/.cache/pypoetry/virtualenvs/aana-XDlPP_xZ-py3.10/lib/python3.10/site-packages/pydantic/_internal/_fields.py:151: UserWarning: Field \"model_size\" has conflict with protected namespace \"model_\".\n",
      "\n",
      "You may be able to resolve this warning by setting `model_config['protected_namespaces'] = ()`.\n",
      "  warnings.warn(\n"
     ]
    }
   ],
   "source": [
    "from aana.deployments.whisper_deployment import (\n",
    "    WhisperComputeType,\n",
    "    WhisperConfig,\n",
    "    WhisperDeployment,\n",
    "    WhisperModelSize,\n",
    ")\n",
    "\n",
    "\n",
    "whisper_deployment_medium = WhisperDeployment.options(\n",
    "    num_replicas=1,\n",
    "    max_concurrent_queries=1000,\n",
    "    ray_actor_options={\"num_gpus\": 0.25},\n",
    "    user_config=WhisperConfig(\n",
    "        model_size=WhisperModelSize.MEDIUM,\n",
    "        compute_type=WhisperComputeType.FLOAT16,\n",
    "    ).model_dump(),\n",
    ")"
   ]
  },
  {
   "cell_type": "code",
   "execution_count": 7,
   "metadata": {},
   "outputs": [],
   "source": [
    "aana_sdk.register_deployment(\n",
    "    \"whisper_deployment_medium\",\n",
    "    whisper_deployment_medium,\n",
    ")"
   ]
  },
  {
   "cell_type": "code",
   "execution_count": null,
   "metadata": {},
   "outputs": [],
   "source": []
  },
  {
   "cell_type": "code",
   "execution_count": 8,
   "metadata": {},
   "outputs": [],
   "source": [
    "from typing import TypedDict\n",
    "from aana.models.pydantic.video_input import VideoInput\n",
    "from aana.models.pydantic.whisper_params import WhisperParams\n",
    "from aana.utils.video import download_video, extract_audio\n",
    "from aana.models.core.video import Video\n",
    "from aana.models.core.audio import Audio\n",
    "\n",
    "\n",
    "class Transcription(TypedDict):\n",
    "    transcription: str\n",
    "\n",
    "\n",
    "async def transcribe_video(\n",
    "    video_input: VideoInput, whisper_params: WhisperParams\n",
    ") -> Transcription:\n",
    "    video: Video = download_video(video_input=video_input)\n",
    "\n",
    "    audio: Audio = extract_audio(video=video)\n",
    "\n",
    "    whisper_output = await get_deployment(\n",
    "        \"whisper_deployment_medium\"\n",
    "    ).transcribe.remote(audio=audio, params=whisper_params)\n",
    "\n",
    "    transcription = whisper_output[\"transcription\"]\n",
    "\n",
    "    return {\n",
    "        \"transcription\": transcription.text,\n",
    "    }"
   ]
  },
  {
   "cell_type": "code",
   "execution_count": 9,
   "metadata": {},
   "outputs": [
    {
     "name": "stdout",
     "output_type": "stream",
     "text": [
      "[youtube] Extracting URL: https://www.youtube.com/watch?v=9bZkp7q19f0\n",
      "[youtube] 9bZkp7q19f0: Downloading webpage\n"
     ]
    },
    {
     "name": "stdout",
     "output_type": "stream",
     "text": [
      "[youtube] 9bZkp7q19f0: Downloading ios player API JSON\n",
      "[youtube] 9bZkp7q19f0: Downloading android player API JSON\n"
     ]
    },
    {
     "name": "stderr",
     "output_type": "stream",
     "text": [
      "WARNING: [youtube] YouTube said: ERROR - Precondition check failed.\n",
      "WARNING: [youtube] HTTP Error 400: Bad Request. Retrying (1/3)...\n"
     ]
    },
    {
     "name": "stdout",
     "output_type": "stream",
     "text": [
      "[youtube] 9bZkp7q19f0: Downloading android player API JSON\n"
     ]
    },
    {
     "name": "stderr",
     "output_type": "stream",
     "text": [
      "WARNING: [youtube] YouTube said: ERROR - Precondition check failed.\n",
      "WARNING: [youtube] HTTP Error 400: Bad Request. Retrying (2/3)...\n"
     ]
    },
    {
     "name": "stdout",
     "output_type": "stream",
     "text": [
      "[youtube] 9bZkp7q19f0: Downloading android player API JSON\n"
     ]
    },
    {
     "name": "stderr",
     "output_type": "stream",
     "text": [
      "WARNING: [youtube] YouTube said: ERROR - Precondition check failed.\n",
      "WARNING: [youtube] HTTP Error 400: Bad Request. Retrying (3/3)...\n"
     ]
    },
    {
     "name": "stdout",
     "output_type": "stream",
     "text": [
      "[youtube] 9bZkp7q19f0: Downloading android player API JSON\n"
     ]
    },
    {
     "name": "stderr",
     "output_type": "stream",
     "text": [
      "WARNING: [youtube] YouTube said: ERROR - Precondition check failed.\n",
      "WARNING: [youtube] Unable to download API page: HTTP Error 400: Bad Request (caused by <HTTPError 400: Bad Request>); please report this issue on  https://github.com/yt-dlp/yt-dlp/issues?q= , filling out the appropriate issue template. Confirm you are on the latest version using  yt-dlp -U\n"
     ]
    },
    {
     "name": "stdout",
     "output_type": "stream",
     "text": [
      "[youtube] 9bZkp7q19f0: Downloading player 7ebf4817\n"
     ]
    },
    {
     "name": "stderr",
     "output_type": "stream",
     "text": [
      "2024-04-11 09:28:35,566\tINFO router.py:959 -- Using router <class 'ray.serve._private.router.PowerOfTwoChoicesReplicaScheduler'>.\n"
     ]
    },
    {
     "name": "stderr",
     "output_type": "stream",
     "text": [
      "2024-04-11 09:28:35,577\tINFO router.py:496 -- Got updated replicas for deployment 'WhisperDeployment' in application 'whisper_deployment_medium': {'whisper_deployment_medium#WhisperDeployment#kqBDqB'}.\n",
      "2024-04-11 09:29:14,806\tINFO router.py:496 -- Got updated replicas for deployment 'RequestHandler' in application 'RequestHandler': set().\n",
      "2024-04-11 09:29:22,736\tINFO router.py:496 -- Got updated replicas for deployment 'RequestHandler' in application 'RequestHandler': {'RequestHandler#RequestHandler#ZrYUDX'}.\n"
     ]
    },
    {
     "data": {
      "text/plain": [
       "{'transcription': \" 오빤 강남 스타일 낮에는 따사로운 인간적인 여자 커피 한 잔에 여유를 아는 품격 있는 여자 밤이 오면 심장이 뜨거워지는 여자 그런 반전 있는 여자 너는 서너에 낮에는 너만큼 따사로운 그런 서너에 커피 씻기도 전에 원샷 때리는 서너에 밤이 오면 심장이 터져버리는 서너에 그런 서너에 아름다워 사랑스러워 그래 너, 그래 바로 너 아름다워 사랑스러워 그래 너, 그래 바로 너 지금부터 갈 때까지 가볼까? Go! 오빤 강남 스타일 에이 섹시 레이더 오빤 강남 스타일 에이 섹시 레이더 오빤 강남 스타일 정숙해 보이지만 놀 땐 노는 여자 이대다 싶으면 묶었던 머리 푸는 여자 가렸지만 웬만한 노출보다 야한 여자 그런 감각적인 여자 너는 서너에 점잖아 보이지만 놀 땐 노는 서너에 그때가 되면 완전 미쳐버리는 서너에 근육보다 사상이 올통볼통한 서너에 그런 서너에 아름다워 사랑스러워 그래 너, 그래 바로 너 아름다워 사랑스러워 그래 너, 그래 바로 너 지금부터 갈 때까지 가볼까? Go! 오빤 강남 스타일 에이 섹시 레이더 오빤 강남 스타일 에이 섹시 레이더 오빤 강남 스타일 뛰는 놈 그 위에 나는 놈 베이베 베이베 나는 뭘 좀 아는 놈 뛰는 놈 그 위에 나는 놈 베이베 베이베 나는 뭘 좀 아는 놈 You know what I'm saying 오빤 강남 스타일 에이 섹시 레이더 오빤 강남 스타일 에이 섹시 레이더 오빤 강남 스타일 오빤 강남 스타일\"}"
      ]
     },
     "execution_count": 9,
     "metadata": {},
     "output_type": "execute_result"
    }
   ],
   "source": [
    "output = await transcribe_video(\n",
    "    video_input=VideoInput(url=\"https://www.youtube.com/watch?v=9bZkp7q19f0\"),\n",
    "    whisper_params=WhisperParams(),\n",
    ")\n",
    "output"
   ]
  },
  {
   "cell_type": "code",
   "execution_count": null,
   "metadata": {},
   "outputs": [],
   "source": []
  },
  {
   "cell_type": "code",
   "execution_count": 10,
   "metadata": {},
   "outputs": [],
   "source": [
    "aana_sdk.register_endpoint(\n",
    "    name=\"transcribe_video\",\n",
    "    path=\"/transcribe_video\",\n",
    "    summary=\"Transcribe video\",\n",
    "    func=transcribe_video,\n",
    ")"
   ]
  },
  {
   "cell_type": "code",
   "execution_count": 11,
   "metadata": {},
   "outputs": [
    {
     "data": {
      "text/plain": [
       "DeploymentHandle(deployment='RequestHandler')"
      ]
     },
     "execution_count": 11,
     "metadata": {},
     "output_type": "execute_result"
    }
   ],
   "source": [
    "aana_sdk.start_request_handler()"
   ]
  },
  {
   "cell_type": "code",
   "execution_count": 12,
   "metadata": {},
   "outputs": [
    {
     "name": "stdout",
     "output_type": "stream",
     "text": [
      "\u001b[36m(ServeReplica:RequestHandler:RequestHandler pid=37759)\u001b[0m [youtube] Extracting URL: https://www.youtube.com/watch?v=9bZkp7q19f0\n",
      "\u001b[36m(ServeReplica:RequestHandler:RequestHandler pid=37759)\u001b[0m [youtube] 9bZkp7q19f0: Downloading webpage\n",
      "\u001b[36m(ServeReplica:RequestHandler:RequestHandler pid=37759)\u001b[0m [youtube] 9bZkp7q19f0: Downloading ios player API JSON\n",
      "\u001b[36m(ServeReplica:RequestHandler:RequestHandler pid=37759)\u001b[0m [youtube] 9bZkp7q19f0: Downloading android player API JSON\n",
      "\u001b[36m(ServeReplica:RequestHandler:RequestHandler pid=37759)\u001b[0m [youtube] 9bZkp7q19f0: Downloading android player API JSON\n"
     ]
    },
    {
     "name": "stderr",
     "output_type": "stream",
     "text": [
      "\u001b[36m(ServeReplica:RequestHandler:RequestHandler pid=37759)\u001b[0m WARNING: [youtube] YouTube said: ERROR - Precondition check failed.\n",
      "\u001b[36m(ServeReplica:RequestHandler:RequestHandler pid=37759)\u001b[0m WARNING: [youtube] HTTP Error 400: Bad Request. Retrying (1/3)...\n"
     ]
    },
    {
     "name": "stdout",
     "output_type": "stream",
     "text": [
      "\u001b[36m(ServeReplica:RequestHandler:RequestHandler pid=37759)\u001b[0m [youtube] 9bZkp7q19f0: Downloading android player API JSON\n"
     ]
    },
    {
     "name": "stderr",
     "output_type": "stream",
     "text": [
      "\u001b[36m(ServeReplica:RequestHandler:RequestHandler pid=37759)\u001b[0m WARNING: [youtube] YouTube said: ERROR - Precondition check failed.\n",
      "\u001b[36m(ServeReplica:RequestHandler:RequestHandler pid=37759)\u001b[0m WARNING: [youtube] HTTP Error 400: Bad Request. Retrying (2/3)...\n"
     ]
    },
    {
     "name": "stdout",
     "output_type": "stream",
     "text": [
      "\u001b[36m(ServeReplica:RequestHandler:RequestHandler pid=37759)\u001b[0m [youtube] 9bZkp7q19f0: Downloading android player API JSON\n"
     ]
    },
    {
     "name": "stderr",
     "output_type": "stream",
     "text": [
      "\u001b[36m(ServeReplica:RequestHandler:RequestHandler pid=37759)\u001b[0m WARNING: [youtube] YouTube said: ERROR - Precondition check failed.\n",
      "\u001b[36m(ServeReplica:RequestHandler:RequestHandler pid=37759)\u001b[0m WARNING: [youtube] HTTP Error 400: Bad Request. Retrying (3/3)...\n",
      "\u001b[36m(ServeReplica:RequestHandler:RequestHandler pid=37759)\u001b[0m WARNING: [youtube] YouTube said: ERROR - Precondition check failed.\n",
      "\u001b[36m(ServeReplica:RequestHandler:RequestHandler pid=37759)\u001b[0m WARNING: [youtube] Unable to download API page: HTTP Error 400: Bad Request (caused by <HTTPError 400: Bad Request>); please report this issue on  https://github.com/yt-dlp/yt-dlp/issues?q= , filling out the appropriate issue template. Confirm you are on the latest version using  yt-dlp -U\n",
      "\u001b[36m(ServeReplica:RequestHandler:RequestHandler pid=37759)\u001b[0m /root/.cache/pypoetry/virtualenvs/aana-XDlPP_xZ-py3.10/lib/python3.10/site-packages/pydantic/_internal/_fields.py:151: UserWarning: Field \"model_size\" has conflict with protected namespace \"model_\".\n",
      "\u001b[36m(ServeReplica:RequestHandler:RequestHandler pid=37759)\u001b[0m \n",
      "\u001b[36m(ServeReplica:RequestHandler:RequestHandler pid=37759)\u001b[0m You may be able to resolve this warning by setting `model_config['protected_namespaces'] = ()`.\n",
      "\u001b[36m(ServeReplica:RequestHandler:RequestHandler pid=37759)\u001b[0m   warnings.warn(\n",
      "\u001b[36m(ServeReplica:whisper_deployment_medium:WhisperDeployment pid=36897)\u001b[0m INFO 2024-04-11 09:29:37,002 whisper_deployment_medium_WhisperDeployment kqBDqB b0937178-1277-42ec-a81d-5272a5a0a1b6 /transcribe_video replica.py:772 - TRANSCRIBE OK 6745.0ms\n",
      "\u001b[36m(ServeReplica:RequestHandler:RequestHandler pid=37759)\u001b[0m INFO 2024-04-11 09:29:37,011 RequestHandler_RequestHandler ZrYUDX b0937178-1277-42ec-a81d-5272a5a0a1b6 /transcribe_video replica.py:772 - __CALL__ OK 13334.0ms\n"
     ]
    },
    {
     "data": {
      "text/plain": [
       "{'transcription': \" 오빤 강남 스타일 낮에는 따사로운 인간적인 여자 커피 한 잔에 여유를 아는 품격 있는 여자 밤이 오면 심장이 뜨거워지는 여자 그런 반전 있는 여자 너는 서너에 낮에는 너만큼 따사로운 그런 서너에 커피 씻기도 전에 원샷 때리는 서너에 밤이 오면 심장이 터져버리는 서너에 그런 서너에 아름다워 사랑스러워 그래 너, 그래 바로 너 아름다워 사랑스러워 그래 너, 그래 바로 너 지금부터 갈 때까지 가볼까? Go! 오빤 강남 스타일 에이 섹시 레이더 오빤 강남 스타일 에이 섹시 레이더 오빤 강남 스타일 정숙해 보이지만 놀 땐 노는 여자 이대다 싶으면 묶었던 머리 푸는 여자 가렸지만 웬만한 노출보다 야한 여자 그런 감각적인 여자 너는 서너에 점잖아 보이지만 놀 땐 노는 서너에 그때가 되면 완전 미쳐버리는 서너에 근육보다 사상이 올통볼통한 서너에 그런 서너에 아름다워 사랑스러워 그래 너, 그래 바로 너 아름다워 사랑스러워 그래 너, 그래 바로 너 지금부터 갈 때까지 가볼까? Go! 오빤 강남 스타일 에이 섹시 레이더 오빤 강남 스타일 에이 섹시 레이더 오빤 강남 스타일 뛰는 놈 그 위에 나는 놈 베이베 베이베 나는 뭘 좀 아는 놈 뛰는 놈 그 위에 나는 놈 베이베 베이베 나는 뭘 좀 아는 놈 You know what I'm saying 오빤 강남 스타일 에이 섹시 레이더 오빤 강남 스타일 에이 섹시 레이더 오빤 강남 스타일 오빤 강남 스타일\"}"
      ]
     },
     "execution_count": 12,
     "metadata": {},
     "output_type": "execute_result"
    }
   ],
   "source": [
    "import requests, json\n",
    "\n",
    "data = {\"video_input\": {\"url\": \"https://www.youtube.com/watch?v=9bZkp7q19f0\"}}\n",
    "requests.post(\n",
    "    \"http://127.0.0.1:8000/transcribe_video\", data={\"body\": json.dumps(data)}\n",
    ").json()"
   ]
  },
  {
   "cell_type": "code",
   "execution_count": null,
   "metadata": {},
   "outputs": [],
   "source": []
  },
  {
   "cell_type": "code",
   "execution_count": null,
   "metadata": {},
   "outputs": [],
   "source": []
  },
  {
   "cell_type": "code",
   "execution_count": 15,
   "metadata": {},
   "outputs": [],
   "source": [
    "from typing import AsyncGenerator, TypedDict\n",
    "from aana.models.pydantic.asr_output import AsrTranscription\n",
    "from aana.models.pydantic.video_input import VideoInput\n",
    "from aana.models.pydantic.whisper_params import WhisperParams\n",
    "from aana.utils.video import download_video, extract_audio\n",
    "from aana.models.core.video import Video\n",
    "from aana.models.core.audio import Audio\n",
    "\n",
    "\n",
    "class Transcription(TypedDict):\n",
    "    transcription: str\n",
    "    full_transcription: str\n",
    "\n",
    "\n",
    "async def transcribe_video_stream(\n",
    "    video_input: VideoInput, whisper_params: WhisperParams\n",
    ") -> AsyncGenerator[Transcription, None]:\n",
    "    video: Video = download_video(video_input=video_input)\n",
    "    audio: Audio = extract_audio(video=video)\n",
    "\n",
    "    transcriptions = []\n",
    "    async for whisper_output in (\n",
    "        get_deployment(\"whisper_deployment_medium\")\n",
    "        .options(stream=True)\n",
    "        .transcribe_stream.remote(audio=audio, params=whisper_params)\n",
    "    ):\n",
    "        transcription = whisper_output[\"transcription\"]\n",
    "        transcriptions.append(transcription)\n",
    "        yield {\"transcription\": transcription.text}\n",
    "\n",
    "    full_transcription = sum(transcriptions, AsrTranscription())\n",
    "    yield {\"full_transcription\": full_transcription.text}"
   ]
  },
  {
   "cell_type": "code",
   "execution_count": 16,
   "metadata": {},
   "outputs": [
    {
     "name": "stdout",
     "output_type": "stream",
     "text": [
      "[youtube] Extracting URL: https://www.youtube.com/watch?v=9bZkp7q19f0\n",
      "[youtube] 9bZkp7q19f0: Downloading webpage\n"
     ]
    },
    {
     "name": "stdout",
     "output_type": "stream",
     "text": [
      "[youtube] 9bZkp7q19f0: Downloading ios player API JSON\n",
      "[youtube] 9bZkp7q19f0: Downloading android player API JSON\n"
     ]
    },
    {
     "name": "stderr",
     "output_type": "stream",
     "text": [
      "WARNING: [youtube] YouTube said: ERROR - Precondition check failed.\n",
      "WARNING: [youtube] HTTP Error 400: Bad Request. Retrying (1/3)...\n"
     ]
    },
    {
     "name": "stdout",
     "output_type": "stream",
     "text": [
      "[youtube] 9bZkp7q19f0: Downloading android player API JSON\n"
     ]
    },
    {
     "name": "stderr",
     "output_type": "stream",
     "text": [
      "WARNING: [youtube] YouTube said: ERROR - Precondition check failed.\n",
      "WARNING: [youtube] HTTP Error 400: Bad Request. Retrying (2/3)...\n"
     ]
    },
    {
     "name": "stdout",
     "output_type": "stream",
     "text": [
      "[youtube] 9bZkp7q19f0: Downloading android player API JSON\n"
     ]
    },
    {
     "name": "stderr",
     "output_type": "stream",
     "text": [
      "WARNING: [youtube] YouTube said: ERROR - Precondition check failed.\n",
      "WARNING: [youtube] HTTP Error 400: Bad Request. Retrying (3/3)...\n"
     ]
    },
    {
     "name": "stdout",
     "output_type": "stream",
     "text": [
      "[youtube] 9bZkp7q19f0: Downloading android player API JSON\n"
     ]
    },
    {
     "name": "stderr",
     "output_type": "stream",
     "text": [
      "WARNING: [youtube] YouTube said: ERROR - Precondition check failed.\n",
      "WARNING: [youtube] Unable to download API page: HTTP Error 400: Bad Request (caused by <HTTPError 400: Bad Request>); please report this issue on  https://github.com/yt-dlp/yt-dlp/issues?q= , filling out the appropriate issue template. Confirm you are on the latest version using  yt-dlp -U\n"
     ]
    },
    {
     "name": "stdout",
     "output_type": "stream",
     "text": [
      "{'transcription': ' 오빤 강남 스타일'}\n",
      "{'transcription': ' 낮에는 따사로운 인간적인 여자'}\n",
      "{'transcription': ' 커피 한 잔에 여유를 아는 품격 있는 여자'}\n",
      "{'transcription': ' 밤이 오면 심장이 뜨거워지는 여자'}\n",
      "{'transcription': ' 그런 반전 있는 여자'}\n",
      "{'transcription': ' 너는 서너에'}\n",
      "{'transcription': ' 낮에는 너만큼 따사로운 그런 서너에'}\n",
      "{'transcription': ' 커피 씻기도 전에 원샷 때리는 서너에'}\n",
      "{'transcription': ' 밤이 오면 심장이 터져버리는 서너에'}\n",
      "{'transcription': ' 그런 서너에'}\n",
      "{'transcription': ' 아름다워 사랑스러워'}\n",
      "{'transcription': ' 그래 너, 그래 바로 너'}\n",
      "{'transcription': ' 아름다워 사랑스러워'}\n",
      "{'transcription': ' 그래 너, 그래 바로 너'}\n",
      "{'transcription': ' 지금부터 갈 때까지 가볼까?'}\n",
      "{'transcription': ' Go!'}\n",
      "{'transcription': ' 오빤 강남 스타일'}\n",
      "{'transcription': ' 에이 섹시 레이더'}\n",
      "{'transcription': ' 오빤 강남 스타일'}\n",
      "{'transcription': ' 에이 섹시 레이더'}\n",
      "{'transcription': ' 오빤 강남 스타일'}\n",
      "{'transcription': ' 정숙해 보이지만 놀 땐 노는 여자'}\n",
      "{'transcription': ' 이대다 싶으면 묶었던 머리 푸는 여자'}\n",
      "{'transcription': ' 가렸지만 웬만한 노출보다 야한 여자'}\n",
      "{'transcription': ' 그런 감각적인 여자'}\n",
      "{'transcription': ' 너는 서너에'}\n",
      "{'transcription': ' 점잖아 보이지만 놀 땐 노는 서너에'}\n",
      "{'transcription': ' 그때가 되면 완전 미쳐버리는 서너에'}\n",
      "{'transcription': ' 근육보다 사상이 올통볼통한 서너에'}\n",
      "{'transcription': ' 그런 서너에'}\n",
      "{'transcription': ' 아름다워 사랑스러워'}\n",
      "{'transcription': ' 그래 너, 그래 바로 너'}\n",
      "{'transcription': ' 아름다워 사랑스러워'}\n",
      "{'transcription': ' 그래 너, 그래 바로 너'}\n",
      "{'transcription': ' 지금부터 갈 때까지 가볼까?'}\n",
      "{'transcription': ' Go!'}\n",
      "{'transcription': ' 오빤 강남 스타일'}\n",
      "{'transcription': ' 에이 섹시 레이더'}\n",
      "{'transcription': ' 오빤 강남 스타일'}\n",
      "{'transcription': ' 에이 섹시 레이더'}\n",
      "{'transcription': ' 오빤 강남 스타일'}\n",
      "{'transcription': ' 뛰는 놈 그 위에 나는 놈'}\n",
      "{'transcription': ' 베이베 베이베 나는 뭘 좀 아는 놈'}\n",
      "{'transcription': ' 뛰는 놈 그 위에 나는 놈'}\n",
      "{'transcription': ' 베이베 베이베 나는 뭘 좀 아는 놈'}\n",
      "{'transcription': \" You know what I'm saying\"}\n",
      "{'transcription': ' 오빤 강남 스타일'}\n",
      "{'transcription': ' 에이 섹시 레이더'}\n",
      "{'transcription': ' 오빤 강남 스타일'}\n",
      "{'transcription': ' 에이 섹시 레이더'}\n",
      "{'transcription': ' 오빤 강남 스타일'}\n",
      "{'transcription': ' 오빤 강남 스타일'}\n",
      "{'full_transcription': \" 오빤 강남 스타일\\n 낮에는 따사로운 인간적인 여자\\n 커피 한 잔에 여유를 아는 품격 있는 여자\\n 밤이 오면 심장이 뜨거워지는 여자\\n 그런 반전 있는 여자\\n 너는 서너에\\n 낮에는 너만큼 따사로운 그런 서너에\\n 커피 씻기도 전에 원샷 때리는 서너에\\n 밤이 오면 심장이 터져버리는 서너에\\n 그런 서너에\\n 아름다워 사랑스러워\\n 그래 너, 그래 바로 너\\n 아름다워 사랑스러워\\n 그래 너, 그래 바로 너\\n 지금부터 갈 때까지 가볼까?\\n Go!\\n 오빤 강남 스타일\\n 에이 섹시 레이더\\n 오빤 강남 스타일\\n 에이 섹시 레이더\\n 오빤 강남 스타일\\n 정숙해 보이지만 놀 땐 노는 여자\\n 이대다 싶으면 묶었던 머리 푸는 여자\\n 가렸지만 웬만한 노출보다 야한 여자\\n 그런 감각적인 여자\\n 너는 서너에\\n 점잖아 보이지만 놀 땐 노는 서너에\\n 그때가 되면 완전 미쳐버리는 서너에\\n 근육보다 사상이 올통볼통한 서너에\\n 그런 서너에\\n 아름다워 사랑스러워\\n 그래 너, 그래 바로 너\\n 아름다워 사랑스러워\\n 그래 너, 그래 바로 너\\n 지금부터 갈 때까지 가볼까?\\n Go!\\n 오빤 강남 스타일\\n 에이 섹시 레이더\\n 오빤 강남 스타일\\n 에이 섹시 레이더\\n 오빤 강남 스타일\\n 뛰는 놈 그 위에 나는 놈\\n 베이베 베이베 나는 뭘 좀 아는 놈\\n 뛰는 놈 그 위에 나는 놈\\n 베이베 베이베 나는 뭘 좀 아는 놈\\n You know what I'm saying\\n 오빤 강남 스타일\\n 에이 섹시 레이더\\n 오빤 강남 스타일\\n 에이 섹시 레이더\\n 오빤 강남 스타일\\n 오빤 강남 스타일\"}\n"
     ]
    }
   ],
   "source": [
    "async for chunk in transcribe_video_stream(\n",
    "    video_input=VideoInput(url=\"https://www.youtube.com/watch?v=9bZkp7q19f0\"),\n",
    "    whisper_params=WhisperParams(),\n",
    "):\n",
    "    print(chunk)"
   ]
  },
  {
   "cell_type": "code",
   "execution_count": 23,
   "metadata": {},
   "outputs": [],
   "source": [
    "aana_sdk.register_endpoint(\n",
    "    name=\"transcribe_video_stream\",\n",
    "    path=\"/transcribe_video_stream\",\n",
    "    summary=\"Transcribe video as generator\",\n",
    "    func=transcribe_video_stream,\n",
    ")"
   ]
  },
  {
   "cell_type": "code",
   "execution_count": 24,
   "metadata": {},
   "outputs": [
    {
     "data": {
      "text/plain": [
       "DeploymentHandle(deployment='RequestHandler')"
      ]
     },
     "execution_count": 24,
     "metadata": {},
     "output_type": "execute_result"
    }
   ],
   "source": [
    "aana_sdk.start_request_handler()"
   ]
  },
  {
   "cell_type": "code",
   "execution_count": 30,
   "metadata": {},
   "outputs": [
    {
     "name": "stdout",
     "output_type": "stream",
     "text": [
      "\u001b[36m(ServeReplica:RequestHandler:RequestHandler pid=108862)\u001b[0m [youtube] Extracting URL: https://www.youtube.com/watch?v=9bZkp7q19f0\n",
      "\u001b[36m(ServeReplica:RequestHandler:RequestHandler pid=108862)\u001b[0m [youtube] 9bZkp7q19f0: Downloading webpage\n",
      "\u001b[36m(ServeReplica:RequestHandler:RequestHandler pid=108862)\u001b[0m [youtube] 9bZkp7q19f0: Downloading ios player API JSON\n",
      "\u001b[36m(ServeReplica:RequestHandler:RequestHandler pid=108862)\u001b[0m [youtube] 9bZkp7q19f0: Downloading android player API JSON\n"
     ]
    },
    {
     "name": "stderr",
     "output_type": "stream",
     "text": [
      "\u001b[36m(ServeReplica:RequestHandler:RequestHandler pid=108862)\u001b[0m WARNING: [youtube] YouTube said: ERROR - Precondition check failed.\n",
      "\u001b[36m(ServeReplica:RequestHandler:RequestHandler pid=108862)\u001b[0m WARNING: [youtube] HTTP Error 400: Bad Request. Retrying (1/3)...\n",
      "\u001b[36m(ServeReplica:RequestHandler:RequestHandler pid=108862)\u001b[0m WARNING: [youtube] YouTube said: ERROR - Precondition check failed.\n",
      "\u001b[36m(ServeReplica:RequestHandler:RequestHandler pid=108862)\u001b[0m WARNING: [youtube] HTTP Error 400: Bad Request. Retrying (2/3)...\n",
      "\u001b[36m(ServeReplica:RequestHandler:RequestHandler pid=108862)\u001b[0m WARNING: [youtube] YouTube said: ERROR - Precondition check failed.\n",
      "\u001b[36m(ServeReplica:RequestHandler:RequestHandler pid=108862)\u001b[0m WARNING: [youtube] HTTP Error 400: Bad Request. Retrying (3/3)...\n",
      "\u001b[36m(ServeReplica:RequestHandler:RequestHandler pid=108862)\u001b[0m WARNING: [youtube] YouTube said: ERROR - Precondition check failed.\n",
      "\u001b[36m(ServeReplica:RequestHandler:RequestHandler pid=108862)\u001b[0m WARNING: [youtube] Unable to download API page: HTTP Error 400: Bad Request (caused by <HTTPError 400: Bad Request>); please report this issue on  https://github.com/yt-dlp/yt-dlp/issues?q= , filling out the appropriate issue template. Confirm you are on the latest version using  yt-dlp -U\n"
     ]
    },
    {
     "name": "stdout",
     "output_type": "stream",
     "text": [
      "\u001b[36m(ServeReplica:RequestHandler:RequestHandler pid=108862)\u001b[0m [youtube] 9bZkp7q19f0: Downloading android player API JSON\n",
      "\u001b[36m(ServeReplica:RequestHandler:RequestHandler pid=108862)\u001b[0m [youtube] 9bZkp7q19f0: Downloading android player API JSON\n",
      "\u001b[36m(ServeReplica:RequestHandler:RequestHandler pid=108862)\u001b[0m [youtube] 9bZkp7q19f0: Downloading android player API JSON\n"
     ]
    },
    {
     "name": "stdout",
     "output_type": "stream",
     "text": [
      "{'transcription': ' 오빤 강남 스타일'}\n",
      "{'transcription': ' 낮에는 따사로운 인간적인 여자'}\n",
      "{'transcription': ' 커피 한 잔에 여유를 아는 품격 있는 여자'}\n",
      "{'transcription': ' 밤이 오면 심장이 뜨거워지는 여자'}\n",
      "{'transcription': ' 그런 반전 있는 여자'}\n",
      "{'transcription': ' 너는 서너에'}\n",
      "{'transcription': ' 낮에는 너만큼 따사로운 그런 서너에'}\n",
      "{'transcription': ' 커피 씻기도 전에 원샷 때리는 서너에'}\n",
      "{'transcription': ' 밤이 오면 심장이 터져버리는 서너에'}\n",
      "{'transcription': ' 그런 서너에'}\n",
      "{'transcription': ' 아름다워 사랑스러워'}\n",
      "{'transcription': ' 그래 너, 그래 바로 너'}\n",
      "{'transcription': ' 아름다워 사랑스러워'}\n",
      "{'transcription': ' 그래 너, 그래 바로 너'}\n",
      "{'transcription': ' 지금부터 갈 때까지 가볼까?'}\n",
      "{'transcription': ' Go!'}\n",
      "{'transcription': ' 오빤 강남 스타일'}\n",
      "{'transcription': ' 에이 섹시 레이더'}\n",
      "{'transcription': ' 오빤 강남 스타일'}\n",
      "{'transcription': ' 에이 섹시 레이더'}\n",
      "{'transcription': ' 오빤 강남 스타일'}\n",
      "{'transcription': ' 정숙해 보이지만 놀 땐 노는 여자'}\n",
      "{'transcription': ' 이대다 싶으면 묶었던 머리 푸는 여자'}\n",
      "{'transcription': ' 가렸지만 웬만한 노출보다 야한 여자'}\n",
      "{'transcription': ' 그런 감각적인 여자'}\n",
      "{'transcription': ' 너는 서너에'}\n",
      "{'transcription': ' 점잖아 보이지만 놀 땐 노는 서너에'}\n",
      "{'transcription': ' 그때가 되면 완전 미쳐버리는 서너에'}\n",
      "{'transcription': ' 근육보다 사상이 올통볼통한 서너에'}\n",
      "{'transcription': ' 그런 서너에'}\n",
      "{'transcription': ' 아름다워 사랑스러워'}\n",
      "{'transcription': ' 그래 너, 그래 바로 너'}\n",
      "{'transcription': ' 아름다워 사랑스러워'}\n",
      "{'transcription': ' 그래 너, 그래 바로 너'}\n",
      "{'transcription': ' 지금부터 갈 때까지 가볼까?'}\n",
      "{'transcription': ' Go!'}\n",
      "{'transcription': ' 오빤 강남 스타일'}\n",
      "{'transcription': ' 에이 섹시 레이더'}\n",
      "{'transcription': ' 오빤 강남 스타일'}\n",
      "{'transcription': ' 에이 섹시 레이더'}\n",
      "{'transcription': ' 오빤 강남 스타일'}\n",
      "{'transcription': ' 뛰는 놈 그 위에 나는 놈'}\n",
      "{'transcription': ' 베이베 베이베 나는 뭘 좀 아는 놈'}\n",
      "{'transcription': ' 뛰는 놈 그 위에 나는 놈'}\n",
      "{'transcription': ' 베이베 베이베 나는 뭘 좀 아는 놈'}\n",
      "{'transcription': \" You know what I'm saying\"}\n",
      "{'transcription': ' 오빤 강남 스타일'}\n",
      "{'transcription': ' 에이 섹시 레이더'}\n",
      "{'transcription': ' 오빤 강남 스타일'}\n",
      "{'transcription': ' 에이 섹시 레이더'}\n",
      "{'transcription': ' 오빤 강남 스타일'}\n",
      "{'transcription': ' 오빤 강남 스타일'}\n",
      "{'full_transcription': \" 오빤 강남 스타일\\n 낮에는 따사로운 인간적인 여자\\n 커피 한 잔에 여유를 아는 품격 있는 여자\\n 밤이 오면 심장이 뜨거워지는 여자\\n 그런 반전 있는 여자\\n 너는 서너에\\n 낮에는 너만큼 따사로운 그런 서너에\\n 커피 씻기도 전에 원샷 때리는 서너에\\n 밤이 오면 심장이 터져버리는 서너에\\n 그런 서너에\\n 아름다워 사랑스러워\\n 그래 너, 그래 바로 너\\n 아름다워 사랑스러워\\n 그래 너, 그래 바로 너\\n 지금부터 갈 때까지 가볼까?\\n Go!\\n 오빤 강남 스타일\\n 에이 섹시 레이더\\n 오빤 강남 스타일\\n 에이 섹시 레이더\\n 오빤 강남 스타일\\n 정숙해 보이지만 놀 땐 노는 여자\\n 이대다 싶으면 묶었던 머리 푸는 여자\\n 가렸지만 웬만한 노출보다 야한 여자\\n 그런 감각적인 여자\\n 너는 서너에\\n 점잖아 보이지만 놀 땐 노는 서너에\\n 그때가 되면 완전 미쳐버리는 서너에\\n 근육보다 사상이 올통볼통한 서너에\\n 그런 서너에\\n 아름다워 사랑스러워\\n 그래 너, 그래 바로 너\\n 아름다워 사랑스러워\\n 그래 너, 그래 바로 너\\n 지금부터 갈 때까지 가볼까?\\n Go!\\n 오빤 강남 스타일\\n 에이 섹시 레이더\\n 오빤 강남 스타일\\n 에이 섹시 레이더\\n 오빤 강남 스타일\\n 뛰는 놈 그 위에 나는 놈\\n 베이베 베이베 나는 뭘 좀 아는 놈\\n 뛰는 놈 그 위에 나는 놈\\n 베이베 베이베 나는 뭘 좀 아는 놈\\n You know what I'm saying\\n 오빤 강남 스타일\\n 에이 섹시 레이더\\n 오빤 강남 스타일\\n 에이 섹시 레이더\\n 오빤 강남 스타일\\n 오빤 강남 스타일\"}\n"
     ]
    }
   ],
   "source": [
    "import requests, json\n",
    "\n",
    "data = {\"video_input\": {\"url\": \"https://www.youtube.com/watch?v=9bZkp7q19f0\"}}\n",
    "response = requests.post(\n",
    "    \"http://127.0.0.1:8000/transcribe_video_stream\",\n",
    "    data={\"body\": json.dumps(data)},\n",
    "    stream=True,\n",
    ")\n",
    "for chunk in response.iter_content(chunk_size=None):\n",
    "    print(json.loads(chunk))"
   ]
  },
  {
   "cell_type": "code",
   "execution_count": null,
   "metadata": {},
   "outputs": [],
   "source": []
  },
  {
   "cell_type": "code",
   "execution_count": null,
   "metadata": {},
   "outputs": [],
   "source": []
  },
  {
   "cell_type": "code",
   "execution_count": null,
   "metadata": {},
   "outputs": [],
   "source": []
  }
 ],
 "metadata": {
  "kernelspec": {
   "display_name": "aana-vIr3-B0u-py3.10",
   "language": "python",
   "name": "python3"
  },
  "language_info": {
   "codemirror_mode": {
    "name": "ipython",
    "version": 3
   },
   "file_extension": ".py",
   "mimetype": "text/x-python",
   "name": "python",
   "nbconvert_exporter": "python",
   "pygments_lexer": "ipython3",
   "version": "3.10.14"
  }
 },
 "nbformat": 4,
 "nbformat_minor": 2
}
