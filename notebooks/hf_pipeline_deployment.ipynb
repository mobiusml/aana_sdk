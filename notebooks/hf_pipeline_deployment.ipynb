{
 "cells": [
  {
   "cell_type": "markdown",
   "metadata": {},
   "source": [
    "### Hugging Face Pipeline Integration\n",
    "The notebook shows how to run Hugging Face pipelines with Aana SDK. The notebook uses image captioning pipeline to showcase the integration."
   ]
  },
  {
   "cell_type": "code",
   "execution_count": 1,
   "metadata": {},
   "outputs": [],
   "source": [
    "import os\n",
    "\n",
    "os.environ[\"CUDA_VISIBLE_DEVICES\"] = \"0\""
   ]
  },
  {
   "cell_type": "markdown",
   "metadata": {},
   "source": [
    "Create Aana SDK and connect to the cluster."
   ]
  },
  {
   "cell_type": "code",
   "execution_count": 2,
   "metadata": {},
   "outputs": [
    {
     "name": "stderr",
     "output_type": "stream",
     "text": [
      "/root/.cache/pypoetry/virtualenvs/aana-vIr3-B0u-py3.10/lib/python3.10/site-packages/tqdm/auto.py:21: TqdmWarning: IProgress not found. Please update jupyter and ipywidgets. See https://ipywidgets.readthedocs.io/en/stable/user_install.html\n",
      "  from .autonotebook import tqdm as notebook_tqdm\n",
      "2024-06-24 14:13:36,633\tINFO util.py:154 -- Missing packages: ['ipywidgets']. Run `pip install -U ipywidgets`, then restart the notebook server for rich notebook output.\n",
      "/root/.cache/pypoetry/virtualenvs/aana-vIr3-B0u-py3.10/lib/python3.10/site-packages/pydantic/_internal/_fields.py:160: UserWarning: Field \"model_dir\" has conflict with protected namespace \"model_\".\n",
      "\n",
      "You may be able to resolve this warning by setting `model_config['protected_namespaces'] = ('settings_',)`.\n",
      "  warnings.warn(\n",
      "2024-06-24 14:13:40,438\tWARNING services.py:2009 -- WARNING: The object store is using /tmp instead of /dev/shm because /dev/shm has only 67108864 bytes available. This will harm performance! You may be able to free up space by deleting files in /dev/shm. If you are inside a Docker container, you can increase /dev/shm size by passing '--shm-size=10.24gb' to 'docker run' (or add it to the run_options list in a Ray cluster config). Make sure to set this to more than 30% of available RAM.\n",
      "2024-06-24 14:13:41,636\tINFO worker.py:1740 -- Started a local Ray instance. View the dashboard at \u001b[1m\u001b[32m127.0.0.1:8265 \u001b[39m\u001b[22m\n"
     ]
    }
   ],
   "source": [
    "from aana.sdk import AanaSDK\n",
    "\n",
    "\n",
    "aana_app = AanaSDK().connect()"
   ]
  },
  {
   "cell_type": "markdown",
   "metadata": {},
   "source": [
    "Deploy Hugging Face pipeline as Aana deployment."
   ]
  },
  {
   "cell_type": "code",
   "execution_count": 3,
   "metadata": {},
   "outputs": [
    {
     "name": "stderr",
     "output_type": "stream",
     "text": [
      "/root/.cache/pypoetry/virtualenvs/aana-vIr3-B0u-py3.10/lib/python3.10/site-packages/pydantic/_internal/_fields.py:160: UserWarning: Field \"model_id\" has conflict with protected namespace \"model_\".\n",
      "\n",
      "You may be able to resolve this warning by setting `model_config['protected_namespaces'] = ()`.\n",
      "  warnings.warn(\n",
      "/root/.cache/pypoetry/virtualenvs/aana-vIr3-B0u-py3.10/lib/python3.10/site-packages/pydantic/_internal/_fields.py:160: UserWarning: Field \"model_kwargs\" has conflict with protected namespace \"model_\".\n",
      "\n",
      "You may be able to resolve this warning by setting `model_config['protected_namespaces'] = ()`.\n",
      "  warnings.warn(\n",
      "The new client HTTP config differs from the existing one in the following fields: ['location']. The new HTTP config is ignored.\n",
      "2024-06-24 14:13:49,684\tINFO handle.py:126 -- Created DeploymentHandle 'gd8uy5xi' for Deployment(name='HfPipelineDeployment', app='image_captioning_model').\n",
      "2024-06-24 14:13:49,686\tINFO handle.py:126 -- Created DeploymentHandle 'jegi4gws' for Deployment(name='HfPipelineDeployment', app='image_captioning_model').\n",
      "2024-06-24 14:14:04,805\tINFO handle.py:126 -- Created DeploymentHandle 'eogf8wsb' for Deployment(name='HfPipelineDeployment', app='image_captioning_model').\n",
      "2024-06-24 14:14:04,807\tINFO api.py:584 -- Deployed app 'image_captioning_model' successfully.\n"
     ]
    }
   ],
   "source": [
    "from aana.deployments.hf_pipeline_deployment import (\n",
    "    HfPipelineConfig,\n",
    "    HfPipelineDeployment,\n",
    ")\n",
    "\n",
    "hf_pipeline_deployment = HfPipelineDeployment.options(\n",
    "    num_replicas=1,                             # The number of replicas of the model to deploy\n",
    "    ray_actor_options={\"num_gpus\": 0.25},       # Allocate 0.25 GPU, should be > 0 if the model requires GPU\n",
    "    user_config=HfPipelineConfig(\n",
    "        model_id=\"ydshieh/vit-gpt2-coco-en\",    # The model ID from the Hugging Face model hub\n",
    "        model_kwargs={},                        # Extra model parameters\n",
    "    ).model_dump(mode=\"json\"),\n",
    ")\n",
    "\n",
    "aana_app.register_deployment(\n",
    "    name=\"image_captioning_model\",              # Name of the deployment, which will be using to access the deployment\n",
    "    instance=hf_pipeline_deployment,            # Instance of the deployment that we just created above\n",
    "    deploy=True                                 # Tell Aana to deploy the component immediately instead of waiting aana_app.deploy()\n",
    ")"
   ]
  },
  {
   "cell_type": "markdown",
   "metadata": {},
   "source": [
    "Create AanaDeploymentHandle to connect to the deployment. We use the same name `image_captioning_model` that we used while deploying the model."
   ]
  },
  {
   "cell_type": "code",
   "execution_count": 4,
   "metadata": {},
   "outputs": [
    {
     "name": "stderr",
     "output_type": "stream",
     "text": [
      "2024-06-24 14:14:04,838\tINFO handle.py:126 -- Created DeploymentHandle 'xoc62018' for Deployment(name='HfPipelineDeployment', app='image_captioning_model').\n"
     ]
    },
    {
     "name": "stderr",
     "output_type": "stream",
     "text": [
      "2024-06-24 14:14:04,854\tINFO pow_2_scheduler.py:260 -- Got updated replicas for Deployment(name='HfPipelineDeployment', app='image_captioning_model'): {'3l9u324s'}.\n"
     ]
    }
   ],
   "source": [
    "from aana.deployments.aana_deployment_handle import AanaDeploymentHandle\n",
    "\n",
    "handle = await AanaDeploymentHandle.create(\"image_captioning_model\")"
   ]
  },
  {
   "cell_type": "markdown",
   "metadata": {},
   "source": [
    "Load an image from the URL."
   ]
  },
  {
   "cell_type": "code",
   "execution_count": 5,
   "metadata": {},
   "outputs": [],
   "source": [
    "import requests\n",
    "from PIL import Image as PilImage\n",
    "\n",
    "url = \"http://images.cocodataset.org/val2017/000000039769.jpg\"\n",
    "\n",
    "image = PilImage.open(requests.get(url, stream=True).raw)"
   ]
  },
  {
   "cell_type": "markdown",
   "metadata": {},
   "source": [
    "And call the model remotely with the handle we just created."
   ]
  },
  {
   "cell_type": "code",
   "execution_count": 6,
   "metadata": {},
   "outputs": [
    {
     "name": "stderr",
     "output_type": "stream",
     "text": [
      "2024-06-24 14:14:05,617\tINFO handle.py:126 -- Created DeploymentHandle '5d8fay22' for Deployment(name='HfPipelineDeployment', app='image_captioning_model').\n"
     ]
    },
    {
     "data": {
      "text/plain": [
       "[[{'generated_text': 'a cat laying on a blanket next to a cat laying on a bed '}]]"
      ]
     },
     "execution_count": 6,
     "metadata": {},
     "output_type": "execute_result"
    }
   ],
   "source": [
    "await handle.call(images=[image], generate_kwargs={\"max_new_tokens\": 200})"
   ]
  },
  {
   "cell_type": "code",
   "execution_count": 7,
   "metadata": {},
   "outputs": [
    {
     "name": "stderr",
     "output_type": "stream",
     "text": [
      "2024-06-24 14:14:06,282\tINFO handle.py:126 -- Created DeploymentHandle 'ip14x66z' for Deployment(name='HfPipelineDeployment', app='image_captioning_model').\n"
     ]
    },
    {
     "data": {
      "text/plain": [
       "[{'generated_text': 'a cat laying on a blanket next to a cat laying on a bed '}]"
      ]
     },
     "execution_count": 7,
     "metadata": {},
     "output_type": "execute_result"
    }
   ],
   "source": [
    "await handle.call(image, generate_kwargs={\"max_new_tokens\": 200})"
   ]
  },
  {
   "cell_type": "code",
   "execution_count": 8,
   "metadata": {},
   "outputs": [
    {
     "name": "stderr",
     "output_type": "stream",
     "text": [
      "2024-06-24 14:14:06,663\tINFO handle.py:126 -- Created DeploymentHandle 'rmrlx82x' for Deployment(name='HfPipelineDeployment', app='image_captioning_model').\n"
     ]
    },
    {
     "data": {
      "text/plain": [
       "[{'generated_text': 'a cat laying on a blanket next to a cat laying on a bed '}]"
      ]
     },
     "execution_count": 8,
     "metadata": {},
     "output_type": "execute_result"
    }
   ],
   "source": [
    "await handle.call(url, generate_kwargs={\"max_new_tokens\": 200})"
   ]
  },
  {
   "cell_type": "code",
   "execution_count": 9,
   "metadata": {},
   "outputs": [],
   "source": [
    "urls = [\n",
    "    \"https://huggingface.co/datasets/sayakpaul/sample-datasets/resolve/main/pokemon.png\",\n",
    "    \"http://images.cocodataset.org/val2017/000000039769.jpg\",\n",
    "]"
   ]
  },
  {
   "cell_type": "code",
   "execution_count": 10,
   "metadata": {},
   "outputs": [
    {
     "name": "stderr",
     "output_type": "stream",
     "text": [
      "2024-06-24 14:14:07,714\tINFO handle.py:126 -- Created DeploymentHandle 'mh78lhia' for Deployment(name='HfPipelineDeployment', app='image_captioning_model').\n"
     ]
    },
    {
     "data": {
      "text/plain": [
       "[[{'generated_text': 'a stuffed animal with a heart on it '}],\n",
       " [{'generated_text': 'a cat laying on a blanket next to a cat laying on a bed '}]]"
      ]
     },
     "execution_count": 10,
     "metadata": {},
     "output_type": "execute_result"
    }
   ],
   "source": [
    "await handle.call(urls, generate_kwargs={\"max_new_tokens\": 200})"
   ]
  },
  {
   "cell_type": "markdown",
   "metadata": {},
   "source": [
    "Now you can create an Aana Endpoint to expose the deployment as an API endpoint."
   ]
  }
 ],
 "metadata": {
  "kernelspec": {
   "display_name": "aana-vIr3-B0u-py3.10",
   "language": "python",
   "name": "python3"
  },
  "language_info": {
   "codemirror_mode": {
    "name": "ipython",
    "version": 3
   },
   "file_extension": ".py",
   "mimetype": "text/x-python",
   "name": "python",
   "nbconvert_exporter": "python",
   "pygments_lexer": "ipython3",
   "version": "3.10.14"
  }
 },
 "nbformat": 4,
 "nbformat_minor": 2
}
