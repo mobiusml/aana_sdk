{
 "cells": [
  {
   "cell_type": "code",
   "execution_count": 5,
   "metadata": {},
   "outputs": [],
   "source": [
    "import json\n",
    "import requests\n",
    "\n",
    "\n",
    "video = {\n",
    "    # \"path\": \"/workspaces/aana_sdk/aana/tests/files/videos/physicsworks.webm\"\n",
    "    # \"url\": \"https://mobius-public.s3.eu-west-1.amazonaws.com/squirrel.mp4\",\n",
    "    # \"media_id\": \"squirrel.mp4\",\n",
    "    # \"url\": \"https://www.youtube.com/watch?v=yModCU1OVHY\",\n",
    "    # \"media_id\": \"yModCU1OVHY\",\n",
    "    # \"url\": \"https://www.youtube.com/watch?v=77ZF50ve6rs\",\n",
    "    # \"media_id\": \"77ZF50ve6rs\",\n",
    "    \"url\": \"https://www.youtube.com/watch?v=wxN1T1uxQ2g\",\n",
    "    \"media_id\": \"wxN1T1uxQ2g\",\n",
    "}"
   ]
  },
  {
   "cell_type": "code",
   "execution_count": null,
   "metadata": {},
   "outputs": [],
   "source": []
  },
  {
   "cell_type": "code",
   "execution_count": 6,
   "metadata": {},
   "outputs": [
    {
     "name": "stdout",
     "output_type": "stream",
     "text": [
      "b'{\"timestamps\":[0.0,3.003000020980835,3.6700000762939453,6.25600004196167,6.631999969482422,8.550999641418457,10.928000450134277,12.512999534606934],\"captions\":[\"a black background with a white clock on it\",\"a washing machine with a black and white image of a person\",\"a woman is standing in a store with a pink shirt\",\"a blurry image of a person sitting on a chair\",\"a woman in an office with a stack of papers\",\"three people sitting at a desk with papers and papers\",\"a2a logo design\",\"a woman standing in front of a desk full of papers\"]}'\n",
      "['a black background with a white clock on it', 'a washing machine with a black and white image of a person', 'a woman is standing in a store with a pink shirt', 'a blurry image of a person sitting on a chair', 'a woman in an office with a stack of papers', 'three people sitting at a desk with papers and papers', 'a2a logo design', 'a woman standing in front of a desk full of papers']\n",
      "b'{\"transcription\":{\"text\":\" This is Wang. This is Wang.\"},\"segments\":[{\"text\":\" This is Wang. This is Wang.\",\"time_interval\":{\"start\":2.86,\"end\":5.86},\"confidence\":0.8373780625783074,\"no_speech_confidence\":0.082275390625,\"words\":[]}],\"info\":{\"language\":\"en\",\"language_confidence\":0.994140625}}'\n",
      "b'{\"transcription\":{\"text\":\" Mrs. Wang, are you with us?\"},\"segments\":[{\"text\":\" Mrs. Wang, are you with us?\",\"time_interval\":{\"start\":6.86,\"end\":8.86},\"confidence\":0.8373780625783074,\"no_speech_confidence\":0.082275390625,\"words\":[]}],\"info\":{\"language\":\"en\",\"language_confidence\":0.994140625}}'\n",
      "b'{\"transcription\":{\"text\":\" I am paying attention.\"},\"segments\":[{\"text\":\" I am paying attention.\",\"time_interval\":{\"start\":8.86,\"end\":12.82},\"confidence\":0.8373780625783074,\"no_speech_confidence\":0.082275390625,\"words\":[]}],\"info\":{\"language\":\"en\",\"language_confidence\":0.994140625}}'\n",
      "b'{\"transcription\":{\"text\":\" Now you may only see a pile of receipts, but I see a story.\"},\"segments\":[{\"text\":\" Now you may only see a pile of receipts, but I see a story.\",\"time_interval\":{\"start\":12.82,\"end\":16.82},\"confidence\":0.8373780625783074,\"no_speech_confidence\":0.082275390625,\"words\":[]}],\"info\":{\"language\":\"en\",\"language_confidence\":0.994140625}}'\n",
      "b'{\"transcription\":{\"text\":\" I can see where this story is going.\"},\"segments\":[{\"text\":\" I can see where this story is going.\",\"time_interval\":{\"start\":18.82,\"end\":21.82},\"confidence\":0.8373780625783074,\"no_speech_confidence\":0.082275390625,\"words\":[]}],\"info\":{\"language\":\"en\",\"language_confidence\":0.994140625}}'\n",
      "b'{\"transcription\":{\"text\":\" It does not look good.\"},\"segments\":[{\"text\":\" It does not look good.\",\"time_interval\":{\"start\":24.45,\"end\":28.45},\"confidence\":0.8373780625783074,\"no_speech_confidence\":0.082275390625,\"words\":[]}],\"info\":{\"language\":\"en\",\"language_confidence\":0.994140625}}'\n",
      "b'{\"transcription\":{\"text\":\" What\\'s happening?\"},\"segments\":[{\"text\":\" What\\'s happening?\",\"time_interval\":{\"start\":37.42,\"end\":38.42},\"confidence\":0.8373780625783074,\"no_speech_confidence\":0.082275390625,\"words\":[]}],\"info\":{\"language\":\"en\",\"language_confidence\":0.994140625}}'\n",
      "b'{\"transcription\":{\"text\":\" I\\'m not your husband. I\\'m another version of him from another universe.\"},\"segments\":[{\"text\":\" I\\'m not your husband. I\\'m another version of him from another universe.\",\"time_interval\":{\"start\":39.42,\"end\":46.52},\"confidence\":0.8373780625783074,\"no_speech_confidence\":0.082275390625,\"words\":[]}],\"info\":{\"language\":\"en\",\"language_confidence\":0.994140625}}'\n",
      "b'{\"timestamps\":[14.013999938964844,14.973999977111816,16.808000564575195,17.350000381469727,17.93400001525879,18.60099983215332,19.768999099731445,20.854000091552734],\"captions\":[\"a woman sitting at a table with a laptop and a television\",\"an older woman wearing glasses and a yellow sweater\",\"a woman and two men standing in front of a washing machine\",\"a man and woman are walking down a hallway\",\"a woman is holding onto a man\\'s arm in a hallway\",\"a woman in a laundromat looking at something\",\"a woman in a blue shirt is sitting in front of a washing machine\",\"a woman is standing in a room with a purple bag\"]}'\n",
      "['a woman sitting at a table with a laptop and a television', 'an older woman wearing glasses and a yellow sweater', 'a woman and two men standing in front of a washing machine', 'a man and woman are walking down a hallway', \"a woman is holding onto a man's arm in a hallway\", 'a woman in a laundromat looking at something', 'a woman in a blue shirt is sitting in front of a washing machine', 'a woman is standing in a room with a purple bag']\n",
      "b'{\"transcription\":{\"text\":\" I\\'m here because we need your help.\"},\"segments\":[{\"text\":\" I\\'m here because we need your help.\",\"time_interval\":{\"start\":46.52,\"end\":48.52},\"confidence\":0.825122156637682,\"no_speech_confidence\":0.0086517333984375,\"words\":[]}],\"info\":{\"language\":\"en\",\"language_confidence\":0.994140625}}'\n",
      "b'{\"transcription\":{\"text\":\" I\\'m very busy today. I hold time to help you.\"},\"segments\":[{\"text\":\" I\\'m very busy today. I hold time to help you.\",\"time_interval\":{\"start\":49.52,\"end\":51.52},\"confidence\":0.825122156637682,\"no_speech_confidence\":0.0086517333984375,\"words\":[]}],\"info\":{\"language\":\"en\",\"language_confidence\":0.994140625}}'\n",
      "b'{\"transcription\":{\"text\":\" Across the multiverse, I\\'ve seen thousands of evidence.\"},\"segments\":[{\"text\":\" Across the multiverse, I\\'ve seen thousands of evidence.\",\"time_interval\":{\"start\":52.52,\"end\":57.52},\"confidence\":0.825122156637682,\"no_speech_confidence\":0.0086517333984375,\"words\":[]}],\"info\":{\"language\":\"en\",\"language_confidence\":0.994140625}}'\n",
      "b'{\"transcription\":{\"text\":\" You can access all of the memories, their emotions, even their skills.\"},\"segments\":[{\"text\":\" You can access all of the memories, their emotions, even their skills.\",\"time_interval\":{\"start\":59.52,\"end\":64.52},\"confidence\":0.825122156637682,\"no_speech_confidence\":0.0086517333984375,\"words\":[]}],\"info\":{\"language\":\"en\",\"language_confidence\":0.994140625}}'\n",
      "b'{\"transcription\":{\"text\":\" There\\'s a great evil spreading throughout the many-verses.\"},\"segments\":[{\"text\":\" There\\'s a great evil spreading throughout the many-verses.\",\"time_interval\":{\"start\":66.52,\"end\":69.52},\"confidence\":0.825122156637682,\"no_speech_confidence\":0.0086517333984375,\"words\":[]}],\"info\":{\"language\":\"en\",\"language_confidence\":0.994140625}}'\n",
      "b'{\"transcription\":{\"text\":\" And you may be your only chance of stopping it.\"},\"segments\":[{\"text\":\" And you may be your only chance of stopping it.\",\"time_interval\":{\"start\":71.52,\"end\":77.09},\"confidence\":0.825122156637682,\"no_speech_confidence\":0.0086517333984375,\"words\":[]}],\"info\":{\"language\":\"en\",\"language_confidence\":0.994140625}}'\n",
      "b'{\"transcription\":{\"text\":\" Don\\'t make me fight you. I am really good.\"},\"segments\":[{\"text\":\" Don\\'t make me fight you. I am really good.\",\"time_interval\":{\"start\":78.09,\"end\":80.09},\"confidence\":0.8485662009453289,\"no_speech_confidence\":0.0011959075927734375,\"words\":[]}],\"info\":{\"language\":\"en\",\"language_confidence\":0.994140625}}'\n",
      "b'{\"transcription\":{\"text\":\" I don\\'t believe you.\"},\"segments\":[{\"text\":\" I don\\'t believe you.\",\"time_interval\":{\"start\":81.09,\"end\":82.09},\"confidence\":0.8485662009453289,\"no_speech_confidence\":0.0011959075927734375,\"words\":[]}],\"info\":{\"language\":\"en\",\"language_confidence\":0.994140625}}'\n",
      "b'{\"transcription\":{\"text\":\" Wow, that looks really good.\"},\"segments\":[{\"text\":\" Wow, that looks really good.\",\"time_interval\":{\"start\":86.09,\"end\":92.92},\"confidence\":0.8485662009453289,\"no_speech_confidence\":0.0011959075927734375,\"words\":[]}],\"info\":{\"language\":\"en\",\"language_confidence\":0.994140625}}'\n",
      "b'{\"transcription\":{\"text\":\" The universe is so much bigger than you realize.\"},\"segments\":[{\"text\":\" The universe is so much bigger than you realize.\",\"time_interval\":{\"start\":100.38,\"end\":108.38},\"confidence\":0.8485662009453289,\"no_speech_confidence\":0.0011959075927734375,\"words\":[]}],\"info\":{\"language\":\"en\",\"language_confidence\":0.994140625}}'\n",
      "b'{\"transcription\":{\"text\":\" All the places I could be.\"},\"segments\":[{\"text\":\" All the places I could be.\",\"time_interval\":{\"start\":110.38,\"end\":114.94},\"confidence\":0.8485662009453289,\"no_speech_confidence\":0.0011959075927734375,\"words\":[]}],\"info\":{\"language\":\"en\",\"language_confidence\":0.994140625}}'\n",
      "b'{\"timestamps\":[21.479000091552734,21.89699935913086,22.731000900268555,23.690000534057617,24.482999801635742,25.775999069213867,26.985000610351562,27.986000061035156],\"captions\":[\"a woman standing on a chair in a room with a television\",\"a woman is standing in front of a car\",\"a woman is sitting in the driver\\'s seat of a car\",\"a woman is working on a desk with papers and pens\",\"an older woman wearing glasses and a yellow sweater\",\"an asian woman sitting in an office with a headset on\",\"an older woman wearing glasses and a yellow sweater\",\"a woman is talking to a man in an office\"]}'\n",
      "['a woman standing on a chair in a room with a television', 'a woman is standing in front of a car', \"a woman is sitting in the driver's seat of a car\", 'a woman is working on a desk with papers and pens', 'an older woman wearing glasses and a yellow sweater', 'an asian woman sitting in an office with a headset on', 'an older woman wearing glasses and a yellow sweater', 'a woman is talking to a man in an office']\n",
      "b'{\"transcription\":{\"text\":\" I just want to take a show with you.\"},\"segments\":[{\"text\":\" I just want to take a show with you.\",\"time_interval\":{\"start\":114.94,\"end\":119.94},\"confidence\":0.8575423663198116,\"no_speech_confidence\":0.005718231201171875,\"words\":[]}],\"info\":{\"language\":\"en\",\"language_confidence\":0.994140625}}'\n",
      "b'{\"transcription\":{\"text\":\" Remember our mission. Consider the fate of every single world of our infinite multiverse.\"},\"segments\":[{\"text\":\" Remember our mission. Consider the fate of every single world of our infinite multiverse.\",\"time_interval\":{\"start\":120.94,\"end\":125.94},\"confidence\":0.8575423663198116,\"no_speech_confidence\":0.005718231201171875,\"words\":[]}],\"info\":{\"language\":\"en\",\"language_confidence\":0.994140625}}'\n",
      "b'{\"transcription\":{\"text\":\" There is no way I am the Evelyn you are looking for.\"},\"segments\":[{\"text\":\" There is no way I am the Evelyn you are looking for.\",\"time_interval\":{\"start\":128.94,\"end\":131.94},\"confidence\":0.8575423663198116,\"no_speech_confidence\":0.005718231201171875,\"words\":[]}],\"info\":{\"language\":\"en\",\"language_confidence\":0.994140625}}'\n",
      "b'{\"transcription\":{\"text\":\" Every rejection, every disappointment has led you here.\"},\"segments\":[{\"text\":\" Every rejection, every disappointment has led you here.\",\"time_interval\":{\"start\":133.94,\"end\":137.94},\"confidence\":0.8575423663198116,\"no_speech_confidence\":0.005718231201171875,\"words\":[]}],\"info\":{\"language\":\"en\",\"language_confidence\":0.994140625}}'\n",
      "b'{\"transcription\":{\"text\":\" To this moment.\"},\"segments\":[{\"text\":\" To this moment.\",\"time_interval\":{\"start\":139.94,\"end\":141.94},\"confidence\":0.8575423663198116,\"no_speech_confidence\":0.005718231201171875,\"words\":[]}],\"info\":{\"language\":\"en\",\"language_confidence\":0.994140625}}'\n",
      "b'{\"transcription\":{\"text\":\" Don\\'t let anything distract you from it.\"},\"segments\":[{\"text\":\" Don\\'t let anything distract you from it.\",\"time_interval\":{\"start\":141.94,\"end\":148.14},\"confidence\":0.8522880432059121,\"no_speech_confidence\":0.04052734375,\"words\":[]}],\"info\":{\"language\":\"en\",\"language_confidence\":0.994140625}}'\n",
      "b'{\"timestamps\":[29.11199951171875,31.11400032043457,31.947999954223633,33.03300094604492,38.45500183105469,38.49700164794922,42.54199981689453,44.12699890136719],\"captions\":[\"a woman is sitting on an office chair and throwing her arms up\",\"a woman with long hair and a face covered in blood\",\"a woman is looking up at the camera in an office\",\"a woman is looking at her reflection in a mirror\",\"a woman is looking at a computer screen\",\"a film from danielles\",\"a man and woman are sitting in an airport\",\"a man is talking to another person in a kitchen\"]}'\n",
      "['a woman is sitting on an office chair and throwing her arms up', 'a woman with long hair and a face covered in blood', 'a woman is looking up at the camera in an office', 'a woman is looking at her reflection in a mirror', 'a woman is looking at a computer screen', 'a film from danielles', 'a man and woman are sitting in an airport', 'a man is talking to another person in a kitchen']\n",
      "b'{\"timestamps\":[45.16999816894531,46.42100143432617,49.04899978637695,52.051998138427734,53.095001220703125,53.92900085449219,54.76300048828125,54.93000030517578],\"captions\":[\"a woman is talking to a man in a kitchen\",\"a man and woman standing in a room with shelves\",\"a man and woman in a room with shelves\",\"a person looking at a computer screen in a dark room\",\"a network of dots and lines on a black background\",\"a woman in red shirt looking at the camera\",\"a woman is screaming in the woods\",\"a woman with her mouth open in a city\"]}'\n",
      "['a woman is talking to a man in a kitchen', 'a man and woman standing in a room with shelves', 'a man and woman in a room with shelves', 'a person looking at a computer screen in a dark room', 'a network of dots and lines on a black background', 'a woman in red shirt looking at the camera', 'a woman is screaming in the woods', 'a woman with her mouth open in a city']\n",
      "b'{\"timestamps\":[55.18000030517578,55.43000030517578,55.638999938964844,57.93299865722656,58.599998474121094,59.058998107910156,60.518001556396484,61.22800064086914],\"captions\":[\"a woman in a hat holding a pizza\",\"a woman with her mouth open in a forest\",\"a woman is holding a knife in her hand\",\"a woman with headphones on her face\",\"a person standing in a hallway with their back to the camera\",\"a blurry image of people in a restaurant\",\"a woman in a chef hat is preparing food\",\"a woman sitting in the back seat of a car\"]}'\n",
      "['a woman in a hat holding a pizza', 'a woman with her mouth open in a forest', 'a woman is holding a knife in her hand', 'a woman with headphones on her face', 'a person standing in a hallway with their back to the camera', 'a blurry image of people in a restaurant', 'a woman in a chef hat is preparing food', 'a woman sitting in the back seat of a car']\n",
      "b'{\"timestamps\":[62.0620002746582,62.3120002746582,63.14699935913086,65.44000244140625,66.10700225830078,67.0250015258789,67.9010009765625,69.0270004272461],\"captions\":[\"a vase with birds and flowers on it\",\"a woman is holding a white bag in the woods\",\"a woman with long hair and a red shirt\",\"two women are fighting in a dark room\",\"the man is standing in front of a door\",\"a man in a police uniform is pointing a gun\",\"a woman in an orange shirt and glasses walking through an office\",\"a man in a plaid jacket standing in an office\"]}'\n",
      "['a vase with birds and flowers on it', 'a woman is holding a white bag in the woods', 'a woman with long hair and a red shirt', 'two women are fighting in a dark room', 'the man is standing in front of a door', 'a man in a police uniform is pointing a gun', 'a woman in an orange shirt and glasses walking through an office', 'a man in a plaid jacket standing in an office']\n",
      "b'{\"timestamps\":[70.23600006103516,70.52799987792969,71.02899932861328,71.15399932861328,71.6969985961914,72.697998046875,73.74099731445312,74.53299713134766],\"captions\":[\"a man in a hat standing next to a van\",\"a man in a hat is sitting in a car\",\"a man in a hat is holding a cigarette\",\"a man in a hoodie sitting at a bar\",\"a woman is holding a knife while another woman is standing next to her\",\"a man with pink hair talking to a woman in a hallway\",\"the woman is being escorted by two police officers\",\"a man with purple hair and a police officer\"]}'\n",
      "['a man in a hat standing next to a van', 'a man in a hat is sitting in a car', 'a man in a hat is holding a cigarette', 'a man in a hoodie sitting at a bar', 'a woman is holding a knife while another woman is standing next to her', 'a man with pink hair talking to a woman in a hallway', 'the woman is being escorted by two police officers', 'a man with purple hair and a police officer']\n",
      "b'{\"timestamps\":[75.20099639892578,75.70099639892578,77.0770034790039,78.87100219726562,79.28800201416016,80.83100128173828,82.04000091552734,82.58200073242188],\"captions\":[\"a woman with pink hair standing next to a police officer\",\"a woman is sitting in a hallway with her hands on her face\",\"a group of people on an escalator\",\"a group of people on a stairway\",\"two women are standing in a hallway with a white wall\",\"a woman holding a knife in a bathroom\",\"a woman in a pink shirt and white apron is talking to another woman\",\"a group of people in a room with a man in a suit\"]}'\n",
      "['a woman with pink hair standing next to a police officer', 'a woman is sitting in a hallway with her hands on her face', 'a group of people on an escalator', 'a group of people on a stairway', 'two women are standing in a hallway with a white wall', 'a woman holding a knife in a bathroom', 'a woman in a pink shirt and white apron is talking to another woman', 'a group of people in a room with a man in a suit']\n",
      "b'{\"timestamps\":[83.54199981689453,84.16699981689453,84.95999908447266,86.46099853515625,86.75299835205078,87.46199798583984,87.83699798583984,88.62999725341797],\"captions\":[\"a woman is standing in front of a door\",\"a blurry image of a man walking down the street\",\"the man and woman are standing in a room with smoke coming out of the windows\",\"a group of people dancing in a room\",\"a group of people in a room with a knife\",\"the man is standing in the smoke with his hands on his head\",\"a group of people dancing in a room\",\"a group of people playing video games in a room\"]}'\n",
      "['a woman is standing in front of a door', 'a blurry image of a man walking down the street', 'the man and woman are standing in a room with smoke coming out of the windows', 'a group of people dancing in a room', 'a group of people in a room with a knife', 'the man is standing in the smoke with his hands on his head', 'a group of people dancing in a room', 'a group of people playing video games in a room']\n",
      "b'{\"timestamps\":[89.75599670410156,92.21700286865234,93.302001953125,94.01100158691406,94.84500122070312,98.8489990234375,99.0989990234375,99.9749984741211],\"captions\":[\"two people in a room with smoke coming out of the windows\",\"a man and woman are looking at something\",\"a person with tattoos on their hands is holding a hand\",\"a woman with long hair is looking at the camera\",\"a close up of a person\\'s feet\",\"the man in tuxedo is walking down the stairs\",\"a man in a tuxedo is walking down a hallway with people\",\"a woman is standing in front of a laundry room\"]}'\n",
      "['two people in a room with smoke coming out of the windows', 'a man and woman are looking at something', 'a person with tattoos on their hands is holding a hand', 'a woman with long hair is looking at the camera', \"a close up of a person's feet\", 'the man in tuxedo is walking down the stairs', 'a man in a tuxedo is walking down a hallway with people', 'a woman is standing in front of a laundry room']\n",
      "b'{\"timestamps\":[102.97799682617188,104.56300354003906,106.77400207519531,108.73400115966797,109.7770004272461,110.6520004272461,111.11100006103516,111.90299987792969],\"captions\":[\"a woman in a red dress standing in the woods\",\"a person with blue nails is touching a metal object\",\"a woman laying on the floor with her hands on her face\",\"a blurry image of a person in a city\",\"a woman with her hands outstretched in the air\",\"a man in a suit and tie sitting in the audience with popcorn\",\"a woman is sitting on a desk with papers\",\"a man in a suit is playing with a remote control\"]}'\n",
      "['a woman in a red dress standing in the woods', 'a person with blue nails is touching a metal object', 'a woman laying on the floor with her hands on her face', 'a blurry image of a person in a city', 'a woman with her hands outstretched in the air', 'a man in a suit and tie sitting in the audience with popcorn', 'a woman is sitting on a desk with papers', 'a man in a suit is playing with a remote control']\n",
      "b'{\"timestamps\":[112.65399932861328,113.27999877929688,113.98899841308594,114.947998046875,115.8239974975586,116.61699676513672,117.24199676513672,117.32599639892578],\"captions\":[\"a man with a beard and a tie is making a face\",\"two men in suits are fighting in an office\",\"a woman peeking over the cubicle wall in an office\",\"a man holding a woman up in the air at night\",\"a woman with short hair and a white shirt\",\"two women are fighting in a room\",\"a woman in a red jacket is dancing in a room\",\"a woman in a red dress is standing in front of a camera\"]}'\n",
      "['a man with a beard and a tie is making a face', 'two men in suits are fighting in an office', 'a woman peeking over the cubicle wall in an office', 'a man holding a woman up in the air at night', 'a woman with short hair and a white shirt', 'two women are fighting in a room', 'a woman in a red jacket is dancing in a room', 'a woman in a red dress is standing in front of a camera']\n",
      "b'{\"timestamps\":[117.40899658203125,117.90899658203125,118.9520034790039,119.8280029296875,120.66200256347656,121.66300201416016,122.49700164794922,124.54100036621094],\"captions\":[\"a group of people in a room with a camera\",\"a woman sitting in the back seat of a car\",\"a woman in red is looking at the camera\",\"a man and woman standing in front of a restaurant\",\"a woman is hugging another woman in front of a laundromat\",\"two people are walking through a building with lights\",\"a woman is sitting in a pool with plants\",\"a man and woman in a kitchen talking\"]}'\n",
      "['a group of people in a room with a camera', 'a woman sitting in the back seat of a car', 'a woman in red is looking at the camera', 'a man and woman standing in front of a restaurant', 'a woman is hugging another woman in front of a laundromat', 'two people are walking through a building with lights', 'a woman is sitting in a pool with plants', 'a man and woman in a kitchen talking']\n",
      "b'{\"timestamps\":[125.66699981689453,128.08599853515625,129.04600524902344,131.13099670410156,132.3820037841797,133.3000030517578,134.00900268554688,135.177001953125],\"captions\":[\"a black background with a white clock on it\",\"a group of people standing in a church\",\"two women in traditional clothing are standing in a hallway\",\"two women in green hoods and white robes\",\"a dog in a cage with its mouth open\",\"a woman in a chinese costume with a red headpiece\",\"a man is looking at something in a room\",\"a woman in green jacket standing in a dark alley\"]}'\n",
      "['a black background with a white clock on it', 'a group of people standing in a church', 'two women in traditional clothing are standing in a hallway', 'two women in green hoods and white robes', 'a dog in a cage with its mouth open', 'a woman in a chinese costume with a red headpiece', 'a man is looking at something in a room', 'a woman in green jacket standing in a dark alley']\n",
      "b'{\"timestamps\":[135.968994140625,136.97000122070312,137.6790008544922,138.13800048828125,138.5970001220703,139.63900756835938,140.38999938964844,141.14100646972656],\"captions\":[\"a man in a suit and tie walking down the street at night\",\"a woman in an office with a computer and a man standing next to her\",\"a bald man in a white shirt and tie holding a gun\",\"a man in a hat and a gun in a room\",\"an older man is looking at something\",\"a rock with eyes in the desert\",\"two women are standing in a room with candles\",\"two women are dancing in a living room\"]}'\n",
      "['a man in a suit and tie walking down the street at night', 'a woman in an office with a computer and a man standing next to her', 'a bald man in a white shirt and tie holding a gun', 'a man in a hat and a gun in a room', 'an older man is looking at something', 'a rock with eyes in the desert', 'two women are standing in a room with candles', 'two women are dancing in a living room']\n",
      "b'{\"timestamps\":[141.30799865722656,142.01699829101562,142.5590057373047,143.05999755859375,143.43499755859375,143.8520050048828,144.1439971923828,144.85299682617188],\"captions\":[\"a woman with short hair and a white shirt is talking to someone\",\"a woman with a blue headband is looking at the camera\",\"a woman is standing in front of a washing machine\",\"a man in glasses is standing in a crowded room\",\"the man is holding a gun in his mouth\",\"two women in traditional clothing are standing next to each other\",\"apple and red apple in the air\",\"an image of two planets in space\"]}'\n",
      "['a woman with short hair and a white shirt is talking to someone', 'a woman with a blue headband is looking at the camera', 'a woman is standing in front of a washing machine', 'a man in glasses is standing in a crowded room', 'the man is holding a gun in his mouth', 'two women in traditional clothing are standing next to each other', 'apple and red apple in the air', 'an image of two planets in space']\n",
      "b'{\"timestamps\":[144.97799682617188,149.4409942626953,150.31700134277344,150.44200134277344,150.56700134277344,150.69200134277344,150.7760009765625,150.85899353027344],\"captions\":[\"a black background with a white clock on it\",\"a woman with blood on her face and a knife\",\"a woman in a red jacket is looking at the camera\",\"an asian woman in a blue shirt is looking at the camera\",\"a woman in a headscarf and another woman in a white dress\",\"an asian woman in an office with headphones on\",\"a woman in a dark room with a light shining on her\",\"a man in a tank top is looking at the camera\"]}'\n",
      "['a black background with a white clock on it', 'a woman with blood on her face and a knife', 'a woman in a red jacket is looking at the camera', 'an asian woman in a blue shirt is looking at the camera', 'a woman in a headscarf and another woman in a white dress', 'an asian woman in an office with headphones on', 'a woman in a dark room with a light shining on her', 'a man in a tank top is looking at the camera']\n",
      "b'{\"timestamps\":[150.9429931640625,151.0679931640625,151.1929931640625,151.4010009765625,151.48500061035156,151.5679931640625,151.6929931640625,151.8179931640625],\"captions\":[\"a woman with black hair standing in front of a city\",\"two women in traditional clothing are standing in a hallway\",\"a woman is looking at something in the dark\",\"a woman with long black hair is looking at the camera\",\"a woman with her eyes closed in front of fire\",\"a woman with her eyes closed in front of a fire\",\"two people wearing gas masks and hoods\",\"a woman wearing a hat and holding a pizza\"]}'\n",
      "['a woman with black hair standing in front of a city', 'two women in traditional clothing are standing in a hallway', 'a woman is looking at something in the dark', 'a woman with long black hair is looking at the camera', 'a woman with her eyes closed in front of fire', 'a woman with her eyes closed in front of a fire', 'two people wearing gas masks and hoods', 'a woman wearing a hat and holding a pizza']\n",
      "b'{\"timestamps\":[152.02699279785156,152.23500061035156,152.48599243164062,152.6529998779297,152.81900024414062,153.0279998779297,153.9040069580078],\"captions\":[\"a woman is looking up at the camera\",\"a woman in a chinese costume singing\",\"a woman in a red jacket is looking at the camera\",\"two women in traditional clothing are standing in a hallway\",\"a man and woman standing in front of a red door\",\"a white and black background with a black and white image\",\"everything everywhere - the video\"]}'\n",
      "['a woman is looking up at the camera', 'a woman in a chinese costume singing', 'a woman in a red jacket is looking at the camera', 'two women in traditional clothing are standing in a hallway', 'a man and woman standing in front of a red door', 'a white and black background with a black and white image', 'everything everywhere - the video']\n",
      "b'{\"caption_ids\":[5,6,7,8,9,10,11,12,13,14,15,16,17,18,19,20,21,22,23,24,25,26,27,28,29,30,31,32,33,34,35,36,37,38,39,40,41,42,43,44,45,46,47,48,49,50,51,52,53,54,55,56,57,58,59,60,61,62,63,64,65,66,67,68,69,70,71,72,73,74,75,76,77,78,79,80,81,82,83,84,85,86,87,88,89,90,91,92,93,94,95,96,97,98,99,100,101,102,103,104,105,106,107,108,109,110,111,112,113,114,115,116,117,118,119,120,121,122,123,124,125,126,127,128,129,130,131,132,133,134,135,136,137,138,139,140,141,142,143,144,145,146,147,148,149,150,151,152,153,154,155,156,157,158,159,160,161,162,163],\"transcription_id\":2}'\n"
     ]
    }
   ],
   "source": [
    "data = {\n",
    "    \"video_params\": {\n",
    "        \"fast_mode_enabled\": True,\n",
    "    },\n",
    "    \"video\": video,\n",
    "}\n",
    "url = \"http://127.0.0.1:8001/video/index_stream\"\n",
    "response = requests.post(url, data={\"body\": json.dumps(data)}, stream=True)\n",
    "# visuals = response.json()\n",
    "for chunk in response.iter_content(chunk_size=None):\n",
    "    print(chunk)\n",
    "    json_data = json.loads(chunk)\n",
    "\n",
    "    if \"error\" in json_data:\n",
    "        print(json_data[\"error\"])\n",
    "        print(json_data[\"message\"])\n",
    "        print(json_data[\"stacktrace\"])\n",
    "        break\n",
    "    else:\n",
    "        segments = json_data.get(\"captions\")\n",
    "\n",
    "    if segments:\n",
    "        print(segments)"
   ]
  },
  {
   "cell_type": "code",
   "execution_count": null,
   "metadata": {},
   "outputs": [],
   "source": []
  },
  {
   "cell_type": "code",
   "execution_count": 7,
   "metadata": {},
   "outputs": [],
   "source": [
    "media_id = video[\"media_id\"]\n",
    "\n",
    "question = (\n",
    "    \"What is happening in this video? \"\n",
    "    \"Focus on highlighting the story, the narrative, emotionally and thematically significant aspects. \"\n",
    "    \"Do not use bulleted list in your answer.\"\n",
    ")"
   ]
  },
  {
   "cell_type": "code",
   "execution_count": 8,
   "metadata": {},
   "outputs": [
    {
     "name": "stdout",
     "output_type": "stream",
     "text": [
      "  Based on the provided video timeline, the story of the video appears to follow a woman, Mrs. Wang, who is the central character in a multiverse of interconnected events. The video begins with her being interviewed by a mysterious figure, who is not shown on screen, and continues to follow her journey as she navigates various locations and situations.\n",
      "The video's visual captions and audio transcripts suggest that Mrs. Wang is a multifaceted character who is involved in various events and stories throughout the multiverse. The video's visual captions are often cryptic and open to interpretation, while the audio transcripts provide snippets of dialogue and thoughts from the characters.\n",
      "Some of the notable moments in the video include:\n",
      "* Mrs. Wang's interaction with a mysterious figure who is not shown on screen, which suggests a larger mystery or conflict that is not fully explained in the video.\n",
      "* A series of vignettes that show Mrs. Wang in different locations and situations, including a washing machine, a clock, a black background, a white clock, a woman in a pink shirt, a blurry image of a person, a man in a tuxedo, and more. Each of these vignettes offers a brief glimpse into Mrs. Wang's life and the world around her.\n",
      "* The use of humor and irony in the video, particularly in the visual captions and audio transcripts, which suggest that the video is not taking itself too seriously and is willing to play with expectations and conventions.\n",
      "* The sense of theme and motif that runs throughout the video, including the use of color, lighting, and composition, which suggest a larger narrative or message that is not fully explained in the video.\n",
      "Overall, the video appears to be a complex and multilayered work that is open to interpretation and exploration. The use of humor, irony, and symbolism adds to the viewing experience, making it a thought-provoking and engaging work."
     ]
    }
   ],
   "source": [
    "data = {\n",
    "    \"question\": question,\n",
    "    \"media_id\": media_id,\n",
    "    \"sampling_params\": {\n",
    "        \"temperature\": 0.9,\n",
    "        \"max_tokens\": 1024,\n",
    "    },\n",
    "}\n",
    "\n",
    "url = \"http://127.0.0.1:8001/video/chat_stream\"\n",
    "\n",
    "response = requests.post(url, data={\"body\": json.dumps(data)}, stream=True)\n",
    "text = \"\"\n",
    "for chunk in response.iter_content(chunk_size=None):\n",
    "    chunk_dict = json.loads(chunk)\n",
    "    if \"error\" in chunk_dict:\n",
    "        print(chunk_dict[\"error\"])\n",
    "        print(chunk_dict[\"message\"])\n",
    "        print(chunk_dict[\"stacktrace\"])\n",
    "        break\n",
    "    token = chunk_dict[\"completion\"]\n",
    "    text += token\n",
    "    print(token, end=\"\")"
   ]
  },
  {
   "cell_type": "code",
   "execution_count": null,
   "metadata": {},
   "outputs": [],
   "source": []
  }
 ],
 "metadata": {
  "kernelspec": {
   "display_name": "aana-vIr3-B0u-py3.10",
   "language": "python",
   "name": "python3"
  },
  "language_info": {
   "codemirror_mode": {
    "name": "ipython",
    "version": 3
   },
   "file_extension": ".py",
   "mimetype": "text/x-python",
   "name": "python",
   "nbconvert_exporter": "python",
   "pygments_lexer": "ipython3",
   "version": "3.10.13"
  }
 },
 "nbformat": 4,
 "nbformat_minor": 2
}
